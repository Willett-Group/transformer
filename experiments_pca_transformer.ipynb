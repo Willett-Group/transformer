{
 "cells": [
  {
   "cell_type": "code",
   "execution_count": 1,
   "metadata": {},
   "outputs": [],
   "source": [
    "%load_ext autoreload\n",
    "%autoreload 2"
   ]
  },
  {
   "cell_type": "code",
   "execution_count": 1,
   "metadata": {},
   "outputs": [],
   "source": [
    "import datetime\n",
    "from sklearn.metrics import r2_score\n",
    "from sklearn.metrics.pairwise import cosine_similarity\n",
    "import numpy as np\n",
    "from matplotlib import pyplot as plt\n",
    "import torch\n",
    "import torch.nn as nn\n",
    "import torch.optim as optim\n",
    "from torch.utils.data import DataLoader, random_split\n",
    "from tqdm import tqdm\n",
    "import seaborn as sns\n",
    "from time import perf_counter\n",
    "\n",
    "from tst import Transformer\n",
    "import os\n",
    "import pandas as pd\n",
    "import torch.nn as nn\n",
    "\n",
    "# from src.dataset import OzeDataset\n",
    "# from src.utils import compute_loss\n",
    "# from src.utils import preprocess\n",
    "# from src.visualization import map_plot_function, plot_values_distribution, plot_error_distribution, plot_errors_threshold, plot_visual_sample"
   ]
  },
  {
   "cell_type": "markdown",
   "metadata": {},
   "source": [
    "==================================The blocks below are for loading the original data and proprocessing==================================="
   ]
  },
  {
   "cell_type": "code",
   "execution_count": 2,
   "metadata": {
    "scrolled": true
   },
   "outputs": [
    {
     "name": "stderr",
     "output_type": "stream",
     "text": [
      "<ipython-input-2-e1be3a9cbbe2>:10: DeprecationWarning: The default dtype for empty Series will be 'object' instead of 'float64' in a future version. Specify a dtype explicitly to silence this warning.\n",
      "  y_samp = pd.Series()\n"
     ]
    },
    {
     "name": "stdout",
     "output_type": "stream",
     "text": [
      "precip.2014.h5\n",
      "precip.2015.h5\n",
      "precip.2016.h5\n",
      "precip.2017.h5\n",
      "precip.2018.h5\n"
     ]
    }
   ],
   "source": [
    "path = 'E:/S2S data sample/'\n",
    "\n",
    "\n",
    "us_mask = pd.DataFrame(pd.read_hdf(path + 'us_mask.h5'))\n",
    "# This block is to put all nearby sst data together in time order\n",
    "# And also transform data into time order (single location\\)\n",
    "# previous lat/lon = 25.25, 279.25\n",
    "tar_lat = 33.75\n",
    "tar_lon = 242.25\n",
    "y_samp = pd.Series()\n",
    "X_total = []\n",
    "\n",
    "# !!! 2014-2019\n",
    "\n",
    "for i in range(2014,2019):\n",
    "    print('precip.'+str(i)+'.h5')\n",
    "    name_precip = 'precip.'+str(i)+'.h5'\n",
    "    name_sst = 'sst.'+str(i)+'.h5' \n",
    "    name_hgt = 'hgt500.'+str(i)+'.h5'\n",
    "    name_rhum = 'rhum.sig995.'+str(i)+'.h5'\n",
    "    name_tmp2m = 'tmp2m.'+str(i)+'.h5'\n",
    "    fileloc_precip = path + name_precip\n",
    "    fileloc_sst = path + name_sst\n",
    "    fileloc_hgt = path + name_hgt\n",
    "    fileloc_rhum = path + name_rhum\n",
    "    fileloc_tmp2m = path + name_tmp2m\n",
    "    precip = pd.DataFrame(pd.read_hdf(fileloc_precip)).reset_index() # precipitation\n",
    "    precip.columns = ['lat', 'lon', 'start_date', 'precip']\n",
    "    sst = pd.DataFrame(pd.read_hdf(fileloc_sst)).reset_index() # Daily sea surface temperature\n",
    "    sst.columns = ['lat', 'lon', 'start_date', 'sst']\n",
    "    hgt = pd.DataFrame(pd.read_hdf(fileloc_hgt)).reset_index() # Daily geopotential height at 10mb and 500mb\n",
    "    hgt.columns = ['lat', 'lon', 'start_date', 'hgt']\n",
    "    rhum = pd.DataFrame(pd.read_hdf(fileloc_rhum)).reset_index() # Daily relative humidity near the surface\n",
    "    rhum.columns = ['lat', 'lon', 'start_date', 'rhum']\n",
    "    tmp2m = pd.DataFrame(pd.read_hdf(fileloc_tmp2m)).reset_index() # Daily average temperature at 2 meters\n",
    "    tmp2m.columns = ['lat', 'lon', 'start_date', 'tmp2m']\n",
    "#     print('original', tmp2m.shape)\n",
    "    \n",
    "    precip = pd.merge(precip, us_mask, on=['lat','lon'])\n",
    "    hgt = pd.merge(hgt, us_mask, on=['lat','lon'])\n",
    "    rhum = pd.merge(rhum, us_mask, on=['lat','lon'])\n",
    "    tmp2m = pd.merge(tmp2m, us_mask, on=['lat','lon'])\n",
    "#     print('after merge', tmp2m.shape)\n",
    "    \n",
    "    hgt = np.reshape(hgt[(hgt['lat']==tar_lat) & (hgt['lon']==tar_lon)].hgt.to_numpy(),(-1,1))\n",
    "    rhum = np.reshape(rhum[(rhum['lat']==tar_lat) & (rhum['lon']==tar_lon)].rhum.to_numpy(),(-1,1))\n",
    "    tmp2m = np.reshape(tmp2m[(tmp2m['lat']==tar_lat) & (tmp2m['lon']==tar_lon)].tmp2m.to_numpy(),(-1,1))\n",
    "    precip = precip[(precip['lat']==tar_lat) & (precip['lon']==tar_lon)].precip\n",
    "#     print('one location', tmp2m.shape)\n",
    "    \n",
    "    y_samp = y_samp.append(precip[0:365],ignore_index=True)\n",
    "    \n",
    "    if i%4 == 0:\n",
    "        days = 366\n",
    "    else:\n",
    "        days = 365\n",
    "    temp = sst #sst[(sst['lat']>=24.25) & (sst['lat']<=26.25) & (sst['lon']>=278.25) & (sst['lon']<=280.25)]\n",
    "#     print(temp.shape)\n",
    "    sst_samp = temp.sst.reset_index().sst.to_numpy()\n",
    "\n",
    "    size = int(len(sst_samp)/days)\n",
    "    sst_samp = np.reshape(sst_samp,(size, days)).transpose() # days as rows, different locations as columns\n",
    "    sst_samp = sst_samp[0:365,:]\n",
    "    hgt = hgt[0:365,:]\n",
    "    rhum = rhum[0:365,:]\n",
    "    tmp2m = tmp2m[0:365,:]\n",
    "    all_features = np.concatenate((sst_samp,hgt,rhum,tmp2m),axis=1)\n",
    "#     print('all_features', all_features.shape)\n",
    "    X_total.append(all_features)\n",
    "    \n",
    "X_size = X_total[0].shape[1]\n",
    "X_samp = np.zeros((1,X_size)) #  For concatenating all data\n",
    "# print(X_samp.shape)\n",
    "for i in range(len(X_total)):\n",
    "    X_samp = np.concatenate((X_samp,X_total[i]),axis = 0)\n",
    "X_samp = X_samp[1:]\n",
    "# print(X_samp.shape)"
   ]
  },
  {
   "cell_type": "code",
   "execution_count": 3,
   "metadata": {},
   "outputs": [],
   "source": [
    "# This is for backing up the original data to avoid re-loading\n",
    "X_copy = X_samp.copy()\n",
    "y_copy = y_samp.copy()\n"
   ]
  },
  {
   "cell_type": "code",
   "execution_count": 4,
   "metadata": {},
   "outputs": [
    {
     "data": {
      "text/plain": [
       "array([[-1.25500000e+00, -1.10000002e+00, -9.02499974e-01, ...,\n",
       "         5.81058740e+03,  4.98125000e+01,  9.58892155e+00],\n",
       "       [-1.28250003e+00, -1.13499999e+00, -9.35000002e-01, ...,\n",
       "         5.79985010e+03,  4.05000000e+01,  1.21086349e+01],\n",
       "       [-1.31499994e+00, -1.16999996e+00, -9.62499976e-01, ...,\n",
       "         5.77551270e+03,  4.29624977e+01,  9.57599449e+00],\n",
       "       ...,\n",
       "       [-1.31749988e+00, -1.25500000e+00, -1.17499995e+00, ...,\n",
       "         5.63052490e+03,  4.61624985e+01,  1.04402647e+01],\n",
       "       [-1.32249999e+00, -1.25749993e+00, -1.18499994e+00, ...,\n",
       "         5.72400000e+03,  5.31624985e+01,  1.01192760e+01],\n",
       "       [-1.30999994e+00, -1.24749994e+00, -1.16750002e+00, ...,\n",
       "         5.63291260e+03,  6.99124985e+01,  1.20464334e+01]])"
      ]
     },
     "execution_count": 4,
     "metadata": {},
     "output_type": "execute_result"
    }
   ],
   "source": [
    "X_samp"
   ]
  },
  {
   "cell_type": "code",
   "execution_count": 113,
   "metadata": {},
   "outputs": [],
   "source": [
    "X_samp = X_copy.copy()\n",
    "y_samp = y_copy.copy()\n",
    "target = 'precip'\n",
    "\n",
    "y_samp = X_copy[:,X_copy.shape[1]-1].copy()\n",
    "X_samp[:,X_copy.shape[1]-1] = y_copy.copy()\n",
    "target = 'tmp2m'"
   ]
  },
  {
   "cell_type": "code",
   "execution_count": 114,
   "metadata": {},
   "outputs": [
    {
     "data": {
      "text/plain": [
       "[<matplotlib.lines.Line2D at 0x26b004a37c0>]"
      ]
     },
     "execution_count": 114,
     "metadata": {},
     "output_type": "execute_result"
    },
    {
     "data": {
      "image/png": "[encoded data removed]",
      "text/plain": [
       "<Figure size 432x288 with 1 Axes>"
      ]
     },
     "metadata": {
      "needs_background": "light"
     },
     "output_type": "display_data"
    }
   ],
   "source": [
    "plt.plot(y_samp)"
   ]
  },
  {
   "cell_type": "markdown",
   "metadata": {},
   "source": [
    "Smoothing"
   ]
  },
  {
   "cell_type": "code",
   "execution_count": 115,
   "metadata": {},
   "outputs": [],
   "source": [
    "avg_window = 14\n",
    "y_movavg = []\n",
    "X_movavg = []\n",
    "for i in range(y_samp.shape[0]-avg_window):\n",
    "    y_avg = np.mean(y_samp[i:i+avg_window])\n",
    "    y_movavg.append(y_avg)\n",
    "    X_avg = np.mean(X_samp[i:i+avg_window],axis=0)\n",
    "    X_movavg.append(X_avg)\n",
    "y_movavg = np.array(y_movavg)\n",
    "X_movavg = np.array(X_movavg)\n",
    "y_samp = y_movavg\n",
    "X_samp = X_movavg"
   ]
  },
  {
   "cell_type": "code",
   "execution_count": 116,
   "metadata": {},
   "outputs": [
    {
     "data": {
      "text/plain": [
       "(1811, 169730)"
      ]
     },
     "execution_count": 116,
     "metadata": {},
     "output_type": "execute_result"
    }
   ],
   "source": [
    "X_samp.shape"
   ]
  },
  {
   "cell_type": "code",
   "execution_count": 117,
   "metadata": {},
   "outputs": [
    {
     "data": {
      "text/plain": [
       "(1811, 3)"
      ]
     },
     "execution_count": 117,
     "metadata": {},
     "output_type": "execute_result"
    }
   ],
   "source": [
    "X_samp = X_samp[:,-3:]\n",
    "X_samp.shape"
   ]
  },
  {
   "cell_type": "code",
   "execution_count": 118,
   "metadata": {},
   "outputs": [],
   "source": [
    "X = X_samp.copy()\n",
    "y = y_samp.copy()"
   ]
  },
  {
   "cell_type": "code",
   "execution_count": 119,
   "metadata": {},
   "outputs": [],
   "source": [
    "train_test_split = 0.8\n",
    "test_size = int((1-train_test_split)*y_samp.shape[0])\n",
    "X_train = X[:-test_size]\n",
    "X_test = X[-test_size:]\n",
    "y_train = y[:-test_size]\n",
    "y_test = y[-test_size:]"
   ]
  },
  {
   "cell_type": "code",
   "execution_count": 120,
   "metadata": {},
   "outputs": [],
   "source": [
    "y_train = np.reshape(y_train,(-1,1))  #  Matching dimension for concatenating X and y\n",
    "y_test = np.reshape(y_test,(-1,1)) \n",
    "# train_data_array = np.concatenate((X_train,y_train),axis=1)\n",
    "# train_data = torch.FloatTensor(train_data_array)\n",
    "# y_train = torch.FloatTensor(y_train)"
   ]
  },
  {
   "cell_type": "markdown",
   "metadata": {},
   "source": [
    "(min, max) normalizing for transformer"
   ]
  },
  {
   "cell_type": "code",
   "execution_count": 121,
   "metadata": {},
   "outputs": [],
   "source": [
    "# use for TRANSFORMER!\n",
    "M = np.max(y_train)\n",
    "m = np.min(y_train)\n",
    "y_train = (y_train -m)/(M - m)\n",
    "\n",
    "if X.shape[1]>3:   \n",
    "    X_train_max_0_last3 = np.max(X_train[:,0:-3])\n",
    "    X_train_min_0_last3 = np.min(X_train[:,0:-3])\n",
    "    X_train[:,0:-3] = (X_train[:,0:-3] - np.min(X_train[:,0:-3]))/ (np.max(X_train[:,0:-3]) - np.min(X_train[:,0:-3]))\n",
    "\n",
    "X_train_max_last3 = np.max(X_train[:,-3])\n",
    "X_train_min_last3 = np.min(X_train[:,-3])\n",
    "X_train[:,-3] = (X_train[:,-3] - np.min(X_train[:,-3]))/(np.max(X_train[:,-3]) - np.min(X_train[:,-3]))\n",
    "\n",
    "X_train_max_last2 = np.max(X_train[:,-2])\n",
    "X_train_min_last2 = np.min(X_train[:,-2])\n",
    "X_train[:,-2] = (X_train[:,-2] - np.min(X_train[:,-2]))/(np.max(X_train[:,-2]) - np.min(X_train[:,-2]))\n",
    "\n",
    "X_train_max_last1 = np.max(X_train[:,-1])\n",
    "X_train_min_last1 = np.min(X_train[:,-1])\n",
    "X_train[:,-1] = (X_train[:,-1] - np.min(X_train[:,-1]))/(np.max(X_train[:,-1]) - np.min(X_train[:,-1]))\n",
    "\n",
    "# X = X_samp.copy()\n",
    "# y = y_samp.copy()"
   ]
  },
  {
   "cell_type": "code",
   "execution_count": 122,
   "metadata": {},
   "outputs": [],
   "source": [
    "y_test = (y_test -m)/(M - m)"
   ]
  },
  {
   "cell_type": "code",
   "execution_count": 123,
   "metadata": {},
   "outputs": [],
   "source": [
    "if X.shape[1]>3: \n",
    "    X_test[:,0:-3] = (X_test[:,0:-3] - X_train_min_0_last3)/ (X_train_max_0_last3 - X_train_min_0_last3)\n",
    "X_test[:,-3] = (X_test[:,-3] - X_train_min_last3)/(X_train_max_last3 - X_train_min_last3)\n",
    "X_test[:,-2] = (X_test[:,-2] - X_train_min_last2)/ (X_train_max_last2 - X_train_min_last2)\n",
    "X_test[:,-1] = (X_test[:,-1] - X_train_min_last1)/(X_train_max_last1 - X_train_min_last1)"
   ]
  },
  {
   "cell_type": "code",
   "execution_count": 124,
   "metadata": {},
   "outputs": [
    {
     "name": "stdout",
     "output_type": "stream",
     "text": [
      "1.0228558405328503 0.03795572274244479\n",
      "1.0257389992279087 -0.005984397162108994\n"
     ]
    }
   ],
   "source": [
    "print(y_test.max(), y_test.min())\n",
    "print(X_test.max(), X_test.min())"
   ]
  },
  {
   "cell_type": "markdown",
   "metadata": {},
   "source": [
    "Pre-training, Use after normalization"
   ]
  },
  {
   "cell_type": "code",
   "execution_count": 125,
   "metadata": {},
   "outputs": [],
   "source": [
    "train_data_array = np.concatenate((X_train,y_train),axis=1)"
   ]
  },
  {
   "cell_type": "markdown",
   "metadata": {},
   "source": [
    "PCA"
   ]
  },
  {
   "cell_type": "code",
   "execution_count": 17,
   "metadata": {},
   "outputs": [],
   "source": [
    "from sklearn.decomposition import PCA"
   ]
  },
  {
   "cell_type": "code",
   "execution_count": 18,
   "metadata": {},
   "outputs": [],
   "source": [
    "sst_data_train = train_data_array[:, 0:169727]\n",
    "sst_data_test = X_test[:, 0:169727]"
   ]
  },
  {
   "cell_type": "code",
   "execution_count": 19,
   "metadata": {},
   "outputs": [
    {
     "data": {
      "text/plain": [
       "(1450, 169727)"
      ]
     },
     "execution_count": 19,
     "metadata": {},
     "output_type": "execute_result"
    }
   ],
   "source": [
    "sst_data_train.shape"
   ]
  },
  {
   "cell_type": "code",
   "execution_count": 20,
   "metadata": {},
   "outputs": [],
   "source": [
    "num_pc = 1\n",
    "pca = PCA(num_pc)\n",
    "sst_data_train_500 = pca.fit_transform(sst_data_train)"
   ]
  },
  {
   "cell_type": "code",
   "execution_count": 21,
   "metadata": {},
   "outputs": [
    {
     "data": {
      "text/plain": [
       "(1450, 1)"
      ]
     },
     "execution_count": 21,
     "metadata": {},
     "output_type": "execute_result"
    }
   ],
   "source": [
    "sst_data_train_500.shape"
   ]
  },
  {
   "cell_type": "code",
   "execution_count": 22,
   "metadata": {},
   "outputs": [],
   "source": [
    "sst_data_test_500 = pca.transform(sst_data_test)"
   ]
  },
  {
   "cell_type": "code",
   "execution_count": 23,
   "metadata": {},
   "outputs": [
    {
     "data": {
      "text/plain": [
       "(362, 1)"
      ]
     },
     "execution_count": 23,
     "metadata": {},
     "output_type": "execute_result"
    }
   ],
   "source": [
    "sst_data_test_500.shape"
   ]
  },
  {
   "cell_type": "code",
   "execution_count": 24,
   "metadata": {},
   "outputs": [
    {
     "data": {
      "text/plain": [
       "(1450, 4)"
      ]
     },
     "execution_count": 24,
     "metadata": {},
     "output_type": "execute_result"
    }
   ],
   "source": [
    "train_data_array[:, -4:].shape"
   ]
  },
  {
   "cell_type": "code",
   "execution_count": 25,
   "metadata": {},
   "outputs": [
    {
     "data": {
      "text/plain": [
       "array([4, 5])"
      ]
     },
     "execution_count": 25,
     "metadata": {},
     "output_type": "execute_result"
    }
   ],
   "source": [
    "a = [1,2, 3, 4, 5]\n",
    "a = np.array(a)\n",
    "a[-2:]"
   ]
  },
  {
   "cell_type": "code",
   "execution_count": 26,
   "metadata": {},
   "outputs": [],
   "source": [
    "# create new X and Y with pca features \n",
    "\n",
    "train_data_array_new = np.concatenate((sst_data_train_500, train_data_array[:, -4:]), axis=1)"
   ]
  },
  {
   "cell_type": "code",
   "execution_count": 27,
   "metadata": {},
   "outputs": [
    {
     "data": {
      "text/plain": [
       "(1450, 5)"
      ]
     },
     "execution_count": 27,
     "metadata": {},
     "output_type": "execute_result"
    }
   ],
   "source": [
    "train_data_array_new.shape"
   ]
  },
  {
   "cell_type": "code",
   "execution_count": 28,
   "metadata": {},
   "outputs": [
    {
     "data": {
      "text/plain": [
       "(362, 4)"
      ]
     },
     "execution_count": 28,
     "metadata": {},
     "output_type": "execute_result"
    }
   ],
   "source": [
    "test_data_new = np.concatenate((sst_data_test_500, X_test[:, -3:]), axis=1)\n",
    "test_data_new.shape"
   ]
  },
  {
   "cell_type": "code",
   "execution_count": 29,
   "metadata": {},
   "outputs": [
    {
     "data": {
      "text/plain": [
       "array([[0.35364852],\n",
       "       [0.31931425],\n",
       "       [0.25282873]])"
      ]
     },
     "execution_count": 29,
     "metadata": {},
     "output_type": "execute_result"
    }
   ],
   "source": [
    "y_train[:3]"
   ]
  },
  {
   "cell_type": "code",
   "execution_count": 30,
   "metadata": {},
   "outputs": [
    {
     "data": {
      "text/plain": [
       "array([0.35364852, 0.31931425, 0.25282873])"
      ]
     },
     "execution_count": 30,
     "metadata": {},
     "output_type": "execute_result"
    }
   ],
   "source": [
    "train_data_array_new[:3, -1]"
   ]
  },
  {
   "cell_type": "code",
   "execution_count": 126,
   "metadata": {},
   "outputs": [],
   "source": [
    "if X.shape[1]<=3:\n",
    "    train_data_array_new = train_data_array[:,-1].reshape((-1,1))\n",
    "    test_data_new = X_test"
   ]
  },
  {
   "cell_type": "code",
   "execution_count": 127,
   "metadata": {},
   "outputs": [
    {
     "data": {
      "text/plain": [
       "(1449, 1)"
      ]
     },
     "execution_count": 127,
     "metadata": {},
     "output_type": "execute_result"
    }
   ],
   "source": [
    "train_data_array_new.shape"
   ]
  },
  {
   "cell_type": "code",
   "execution_count": 128,
   "metadata": {},
   "outputs": [],
   "source": [
    "train_data = torch.FloatTensor(train_data_array_new)\n",
    "y_train = torch.FloatTensor(y_train)"
   ]
  },
  {
   "cell_type": "code",
   "execution_count": 129,
   "metadata": {},
   "outputs": [],
   "source": [
    "import os\n",
    "# os.environ['CUDA_VISIBLE_DEVICES'] = \"0\"\n",
    "device = torch.device(\"cuda\" if torch.cuda.is_available() else \"cpu\")\n",
    "train_data = train_data.to(device)\n",
    "y_train = y_train.to(device)"
   ]
  },
  {
   "cell_type": "code",
   "execution_count": 130,
   "metadata": {},
   "outputs": [
    {
     "data": {
      "text/plain": [
       "device(type='cuda')"
      ]
     },
     "execution_count": 130,
     "metadata": {},
     "output_type": "execute_result"
    }
   ],
   "source": [
    "device"
   ]
  },
  {
   "cell_type": "markdown",
   "metadata": {},
   "source": [
    "Sequentialize the whole time series using moving windows --- create (X, y) samples"
   ]
  },
  {
   "cell_type": "code",
   "execution_count": 131,
   "metadata": {},
   "outputs": [],
   "source": [
    "def create_sequence(input_data, train_window, pred_window):  #  Create sequences of observations for training\n",
    "    seq = []\n",
    "    L = len(input_data)\n",
    "    feature_size = input_data[0].shape[0]\n",
    "    print('feature_size', feature_size)\n",
    "    for i in range(L - train_window-pred_window):\n",
    "        train_seq = input_data[i:i+train_window]\n",
    "        train_label = input_data[i+train_window+pred_window-1,feature_size-1] # get y_t+14\n",
    "#         train_label = input_data[i + train_window + pred_window]\n",
    "        seq.append((train_seq ,train_label))\n",
    "        \n",
    "    print('train_seq, train_label', train_seq.shape, train_label.shape)\n",
    "    return seq"
   ]
  },
  {
   "cell_type": "code",
   "execution_count": 132,
   "metadata": {},
   "outputs": [
    {
     "name": "stdout",
     "output_type": "stream",
     "text": [
      "feature_size 1\n",
      "train_seq, train_label torch.Size([90, 1]) torch.Size([])\n"
     ]
    }
   ],
   "source": [
    "train_window = 90\n",
    "pred_window = 28\n",
    "train_seq = create_sequence(train_data, train_window, pred_window)"
   ]
  },
  {
   "cell_type": "code",
   "execution_count": 133,
   "metadata": {},
   "outputs": [],
   "source": [
    "y_normed = np.concatenate((y_train.cpu(), y_test))"
   ]
  },
  {
   "cell_type": "code",
   "execution_count": 134,
   "metadata": {},
   "outputs": [],
   "source": [
    "from torch.utils.data import Dataset, DataLoader\n",
    "\n",
    "class SeqDataset(Dataset):\n",
    "    def __init__(self, seq_data, transform=None):\n",
    "        \n",
    "        self.seq_data = seq_data\n",
    "        self.x = []\n",
    "        self.y = []\n",
    "        for i in range(len(self.seq_data)):\n",
    "            self.x.append(self.seq_data[i][0])\n",
    "            self.y.append(self.seq_data[i][1])\n",
    "\n",
    "    def __getitem__(self, idx):\n",
    "        if torch.is_tensor(idx):\n",
    "            idx = idx.tolist()\n",
    "\n",
    "        return (self.x[idx], self.y[idx])\n",
    "\n",
    "    def __len__(self):\n",
    "        return len(train_seq) #self._x.shape[0]"
   ]
  },
  {
   "cell_type": "code",
   "execution_count": 135,
   "metadata": {},
   "outputs": [],
   "source": [
    "dataset_train = SeqDataset(train_seq)\n",
    "dataloader_train = DataLoader(dataset_train,\n",
    "                              batch_size=32,\n",
    "                              shuffle=False,\n",
    "                              num_workers=0,\n",
    "                              pin_memory=False\n",
    "                             )"
   ]
  },
  {
   "cell_type": "markdown",
   "metadata": {},
   "source": [
    "Initializing the transformer: Note that the inputs $X$ are sub-sequences of a multivariate time series, so d_input is the number of features in $X$, and the seq_length defined in the transformer is the length of the sub-sequences $X$, Note that here we are using train_window, which is used to create sub-sequences of length 90 from the original time series. (Please check the create_sequence function above).\n",
    "\n",
    "In our prediction task, the target variable is just a scalar so d_output $= 1$. Those are parameters that need to be changed for adapting this network to a different dataset. The other parameters are all hyperparameters."
   ]
  },
  {
   "cell_type": "code",
   "execution_count": 136,
   "metadata": {},
   "outputs": [],
   "source": [
    "d_input = train_data_array_new.shape[1] # From dataset\n",
    "d_output = 1 # From dataset\n",
    "\n",
    "attention_size = 8\n",
    "LR = 1e-4 #1e-3\n",
    "d_model = 64\n",
    "q = 8 # Query size\n",
    "v = 8 # Value size\n",
    "h = 8 # Number of heads\n",
    "N = 4 # Number of encoder and decoder to stack\n",
    "dropout = 0.2 # Dropout rate\n",
    "# pe = 'original' # Positional encoding\n",
    "chunk_mode = None\n",
    "net = Transformer(d_input, d_model, d_output, q, v, h, N, attention_size=attention_size, \n",
    "                  dropout=dropout, chunk_mode=chunk_mode, pe='regular', pe_period=2, seq_length=train_window).to(device)\n",
    "# net = nn.Sequential(Transformer(d_input, d_model, d_output, q, v, h, N, attention_size=attention_size, \n",
    "#                   dropout=dropout, chunk_mode=chunk_mode, pe=pe),\n",
    "#                     nn.Flatten(),\n",
    "#                     nn.Linear(30, 1),\n",
    "#                    ).to(device)\n",
    "optimizer = optim.Adam(net.parameters(), lr=LR)\n",
    "loss_function = nn.MSELoss() #OZELoss(alpha=0.3)"
   ]
  },
  {
   "cell_type": "code",
   "execution_count": 137,
   "metadata": {},
   "outputs": [
    {
     "name": "stderr",
     "output_type": "stream",
     "text": [
      "[Epoch   1/100]: 100%|██████████| 1331/1331 [00:01<00:00, 682.56it/s, loss=0.0557]\n",
      "[Epoch   2/100]: 100%|██████████| 1331/1331 [00:01<00:00, 750.60it/s, loss=0.0308]\n",
      "[Epoch   3/100]: 100%|██████████| 1331/1331 [00:01<00:00, 748.07it/s, loss=0.0191]\n",
      "[Epoch   4/100]: 100%|██████████| 1331/1331 [00:01<00:00, 741.83it/s, loss=0.0247]\n",
      "[Epoch   5/100]: 100%|██████████| 1331/1331 [00:01<00:00, 747.23it/s, loss=0.0169]\n",
      "[Epoch   6/100]: 100%|██████████| 1331/1331 [00:01<00:00, 756.13it/s, loss=0.0181]\n",
      "[Epoch   7/100]: 100%|██████████| 1331/1331 [00:01<00:00, 753.14it/s, loss=0.0186]\n",
      "[Epoch   8/100]: 100%|██████████| 1331/1331 [00:01<00:00, 753.99it/s, loss=0.0178]\n",
      "[Epoch   9/100]: 100%|██████████| 1331/1331 [00:01<00:00, 754.84it/s, loss=0.0187]\n",
      "[Epoch  10/100]: 100%|██████████| 1331/1331 [00:01<00:00, 756.12it/s, loss=0.0198]\n",
      "[Epoch  11/100]: 100%|██████████| 1331/1331 [00:01<00:00, 755.27it/s, loss=0.0179]\n",
      "[Epoch  12/100]: 100%|██████████| 1331/1331 [00:01<00:00, 756.12it/s, loss=0.0205]\n",
      "[Epoch  13/100]: 100%|██████████| 1331/1331 [00:01<00:00, 749.33it/s, loss=0.0208]\n",
      "[Epoch  14/100]: 100%|██████████| 1331/1331 [00:01<00:00, 718.03it/s, loss=0.0224]\n",
      "[Epoch  15/100]: 100%|██████████| 1331/1331 [00:01<00:00, 737.63it/s, loss=0.0172]\n",
      "[Epoch  16/100]: 100%|██████████| 1331/1331 [00:01<00:00, 731.24it/s, loss=0.0175]\n",
      "[Epoch  17/100]: 100%|██████████| 1331/1331 [00:01<00:00, 767.20it/s, loss=0.0178]\n",
      "[Epoch  18/100]: 100%|██████████| 1331/1331 [00:01<00:00, 763.22it/s, loss=0.017] \n",
      "[Epoch  19/100]: 100%|██████████| 1331/1331 [00:01<00:00, 767.98it/s, loss=0.0168]\n",
      "[Epoch  20/100]: 100%|██████████| 1331/1331 [00:01<00:00, 750.79it/s, loss=0.0167]\n",
      "[Epoch  21/100]: 100%|██████████| 1331/1331 [00:01<00:00, 763.46it/s, loss=0.0158]\n",
      "[Epoch  22/100]: 100%|██████████| 1331/1331 [00:01<00:00, 758.90it/s, loss=0.0165]\n",
      "[Epoch  23/100]: 100%|██████████| 1331/1331 [00:01<00:00, 762.80it/s, loss=0.0165]\n",
      "[Epoch  24/100]: 100%|██████████| 1331/1331 [00:01<00:00, 767.18it/s, loss=0.0159]\n",
      "[Epoch  25/100]: 100%|██████████| 1331/1331 [00:01<00:00, 768.92it/s, loss=0.0152]\n",
      "[Epoch  26/100]: 100%|██████████| 1331/1331 [00:01<00:00, 764.55it/s, loss=0.0156]\n",
      "[Epoch  27/100]: 100%|██████████| 1331/1331 [00:01<00:00, 766.11it/s, loss=0.0141]\n",
      "[Epoch  28/100]: 100%|██████████| 1331/1331 [00:01<00:00, 769.40it/s, loss=0.0148]\n",
      "[Epoch  29/100]: 100%|██████████| 1331/1331 [00:01<00:00, 765.35it/s, loss=0.014] \n",
      "[Epoch  30/100]: 100%|██████████| 1331/1331 [00:01<00:00, 764.19it/s, loss=0.015] \n",
      "[Epoch  31/100]: 100%|██████████| 1331/1331 [00:01<00:00, 761.82it/s, loss=0.0148]\n",
      "[Epoch  32/100]: 100%|██████████| 1331/1331 [00:01<00:00, 765.42it/s, loss=0.0156]\n",
      "[Epoch  33/100]: 100%|██████████| 1331/1331 [00:01<00:00, 763.08it/s, loss=0.0141]\n",
      "[Epoch  34/100]: 100%|██████████| 1331/1331 [00:01<00:00, 761.48it/s, loss=0.0164]\n",
      "[Epoch  35/100]: 100%|██████████| 1331/1331 [00:01<00:00, 766.75it/s, loss=0.0146]\n",
      "[Epoch  36/100]: 100%|██████████| 1331/1331 [00:01<00:00, 766.31it/s, loss=0.0149]\n",
      "[Epoch  37/100]: 100%|██████████| 1331/1331 [00:01<00:00, 764.33it/s, loss=0.0151]\n",
      "[Epoch  38/100]: 100%|██████████| 1331/1331 [00:01<00:00, 762.40it/s, loss=0.015] \n",
      "[Epoch  39/100]: 100%|██████████| 1331/1331 [00:01<00:00, 767.19it/s, loss=0.0144]\n",
      "[Epoch  40/100]: 100%|██████████| 1331/1331 [00:01<00:00, 765.37it/s, loss=0.014] \n",
      "[Epoch  41/100]: 100%|██████████| 1331/1331 [00:01<00:00, 757.82it/s, loss=0.0136]\n",
      "[Epoch  42/100]: 100%|██████████| 1331/1331 [00:01<00:00, 759.77it/s, loss=0.0141]\n",
      "[Epoch  43/100]: 100%|██████████| 1331/1331 [00:01<00:00, 756.75it/s, loss=0.0136]\n",
      "[Epoch  44/100]: 100%|██████████| 1331/1331 [00:01<00:00, 764.99it/s, loss=0.0141]\n",
      "[Epoch  45/100]: 100%|██████████| 1331/1331 [00:01<00:00, 764.47it/s, loss=0.0134]\n",
      "[Epoch  46/100]: 100%|██████████| 1331/1331 [00:01<00:00, 769.30it/s, loss=0.014] \n",
      "[Epoch  47/100]: 100%|██████████| 1331/1331 [00:01<00:00, 763.68it/s, loss=0.014] \n",
      "[Epoch  48/100]: 100%|██████████| 1331/1331 [00:01<00:00, 759.80it/s, loss=0.0132]\n",
      "[Epoch  49/100]: 100%|██████████| 1331/1331 [00:01<00:00, 765.21it/s, loss=0.0126]\n",
      "[Epoch  50/100]: 100%|██████████| 1331/1331 [00:01<00:00, 755.89it/s, loss=0.0132]\n",
      "[Epoch  51/100]: 100%|██████████| 1331/1331 [00:01<00:00, 762.75it/s, loss=0.013] \n",
      "[Epoch  52/100]: 100%|██████████| 1331/1331 [00:01<00:00, 758.78it/s, loss=0.0135]\n",
      "[Epoch  53/100]: 100%|██████████| 1331/1331 [00:01<00:00, 762.80it/s, loss=0.0133]\n",
      "[Epoch  54/100]: 100%|██████████| 1331/1331 [00:01<00:00, 763.02it/s, loss=0.0117]\n",
      "[Epoch  55/100]: 100%|██████████| 1331/1331 [00:01<00:00, 767.19it/s, loss=0.0116]\n",
      "[Epoch  56/100]: 100%|██████████| 1331/1331 [00:01<00:00, 767.19it/s, loss=0.0115]\n",
      "[Epoch  57/100]: 100%|██████████| 1331/1331 [00:01<00:00, 763.68it/s, loss=0.0109]\n",
      "[Epoch  58/100]: 100%|██████████| 1331/1331 [00:01<00:00, 765.68it/s, loss=0.0112]\n",
      "[Epoch  59/100]: 100%|██████████| 1331/1331 [00:01<00:00, 761.93it/s, loss=0.0121]\n",
      "[Epoch  60/100]: 100%|██████████| 1331/1331 [00:01<00:00, 767.24it/s, loss=0.0112]\n",
      "[Epoch  61/100]: 100%|██████████| 1331/1331 [00:01<00:00, 761.93it/s, loss=0.0137]\n",
      "[Epoch  62/100]: 100%|██████████| 1331/1331 [00:01<00:00, 764.88it/s, loss=0.0142]\n",
      "[Epoch  63/100]: 100%|██████████| 1331/1331 [00:01<00:00, 760.46it/s, loss=0.0135]\n",
      "[Epoch  64/100]: 100%|██████████| 1331/1331 [00:01<00:00, 761.50it/s, loss=0.0137]\n",
      "[Epoch  65/100]: 100%|██████████| 1331/1331 [00:01<00:00, 766.75it/s, loss=0.0133]\n",
      "[Epoch  66/100]: 100%|██████████| 1331/1331 [00:01<00:00, 767.67it/s, loss=0.0114]\n",
      "[Epoch  67/100]: 100%|██████████| 1331/1331 [00:01<00:00, 761.74it/s, loss=0.0109]\n",
      "[Epoch  68/100]: 100%|██████████| 1331/1331 [00:01<00:00, 758.04it/s, loss=0.0109]\n",
      "[Epoch  69/100]: 100%|██████████| 1331/1331 [00:01<00:00, 762.79it/s, loss=0.0118]\n",
      "[Epoch  70/100]: 100%|██████████| 1331/1331 [00:01<00:00, 761.01it/s, loss=0.0106]\n",
      "[Epoch  71/100]: 100%|██████████| 1331/1331 [00:01<00:00, 761.77it/s, loss=0.0111]\n",
      "[Epoch  72/100]: 100%|██████████| 1331/1331 [00:01<00:00, 763.24it/s, loss=0.0103]\n",
      "[Epoch  73/100]: 100%|██████████| 1331/1331 [00:01<00:00, 766.42it/s, loss=0.0104]\n",
      "[Epoch  74/100]: 100%|██████████| 1331/1331 [00:01<00:00, 767.41it/s, loss=0.0112]\n",
      "[Epoch  75/100]: 100%|██████████| 1331/1331 [00:01<00:00, 763.62it/s, loss=0.0105]\n",
      "[Epoch  76/100]: 100%|██████████| 1331/1331 [00:01<00:00, 762.79it/s, loss=0.0109]\n",
      "[Epoch  77/100]: 100%|██████████| 1331/1331 [00:01<00:00, 762.15it/s, loss=0.0112]\n",
      "[Epoch  78/100]: 100%|██████████| 1331/1331 [00:01<00:00, 765.87it/s, loss=0.0105]\n",
      "[Epoch  79/100]: 100%|██████████| 1331/1331 [00:01<00:00, 766.75it/s, loss=0.0164]\n",
      "[Epoch  80/100]: 100%|██████████| 1331/1331 [00:01<00:00, 762.33it/s, loss=0.0147]\n",
      "[Epoch  81/100]: 100%|██████████| 1331/1331 [00:01<00:00, 757.98it/s, loss=0.012] \n",
      "[Epoch  82/100]: 100%|██████████| 1331/1331 [00:01<00:00, 764.99it/s, loss=0.0107]\n",
      "[Epoch  83/100]: 100%|██████████| 1331/1331 [00:01<00:00, 762.76it/s, loss=0.0107]\n",
      "[Epoch  84/100]: 100%|██████████| 1331/1331 [00:01<00:00, 762.80it/s, loss=0.0102]\n",
      "[Epoch  85/100]: 100%|██████████| 1331/1331 [00:01<00:00, 734.67it/s, loss=0.0102] \n",
      "[Epoch  86/100]: 100%|██████████| 1331/1331 [00:01<00:00, 739.38it/s, loss=0.0113]\n",
      "[Epoch  87/100]: 100%|██████████| 1331/1331 [00:01<00:00, 763.24it/s, loss=0.013] \n",
      "[Epoch  88/100]: 100%|██████████| 1331/1331 [00:01<00:00, 753.33it/s, loss=0.0154]\n",
      "[Epoch  89/100]: 100%|██████████| 1331/1331 [00:01<00:00, 737.30it/s, loss=0.0137]\n",
      "[Epoch  90/100]: 100%|██████████| 1331/1331 [00:01<00:00, 753.33it/s, loss=0.0111]\n",
      "[Epoch  91/100]: 100%|██████████| 1331/1331 [00:01<00:00, 762.80it/s, loss=0.0126]\n",
      "[Epoch  92/100]: 100%|██████████| 1331/1331 [00:01<00:00, 761.69it/s, loss=0.0102]\n",
      "[Epoch  93/100]: 100%|██████████| 1331/1331 [00:01<00:00, 759.76it/s, loss=0.0115]\n",
      "[Epoch  94/100]: 100%|██████████| 1331/1331 [00:01<00:00, 760.20it/s, loss=0.0115]\n",
      "[Epoch  95/100]: 100%|██████████| 1331/1331 [00:01<00:00, 758.47it/s, loss=0.00994]\n",
      "[Epoch  96/100]: 100%|██████████| 1331/1331 [00:01<00:00, 762.58it/s, loss=0.00984]\n",
      "[Epoch  97/100]: 100%|██████████| 1331/1331 [00:01<00:00, 761.93it/s, loss=0.0121]\n",
      "[Epoch  98/100]: 100%|██████████| 1331/1331 [00:01<00:00, 757.18it/s, loss=0.0114]\n"
     ]
    },
    {
     "name": "stderr",
     "output_type": "stream",
     "text": [
      "[Epoch  99/100]: 100%|██████████| 1331/1331 [00:01<00:00, 741.81it/s, loss=0.00967]\n",
      "[Epoch 100/100]: 100%|██████████| 1331/1331 [00:01<00:00, 731.85it/s, loss=0.0112]\n"
     ]
    },
    {
     "data": {
      "text/plain": [
       "<matplotlib.legend.Legend at 0x26b07e577f0>"
      ]
     },
     "execution_count": 137,
     "metadata": {},
     "output_type": "execute_result"
    },
    {
     "data": {
      "image/png": "[encoded data removed]",
      "text/plain": [
       "<Figure size 432x288 with 1 Axes>"
      ]
     },
     "metadata": {
      "needs_background": "light"
     },
     "output_type": "display_data"
    }
   ],
   "source": [
    "EPOCHS = 100\n",
    "hist_loss = np.zeros(EPOCHS)\n",
    "hist_loss_val = np.zeros(EPOCHS)\n",
    "\n",
    "for idx_epoch in range(EPOCHS):\n",
    "    running_loss = 0\n",
    "    with tqdm(total=len(train_seq), desc=f\"[Epoch {idx_epoch+1:3d}/{EPOCHS}]\") as pbar:\n",
    "        for idx_batch, (x, y_label) in enumerate(dataloader_train):\n",
    "#             x = x.unsqueeze(0)\n",
    "            y_label = y_label.view(-1,1)\n",
    "            optimizer.zero_grad()\n",
    "\n",
    "            # Propagate input\n",
    "            netout = net(x.to(device))\n",
    "\n",
    "            # Compute loss\n",
    "#             print(netout, y)\n",
    "            loss = loss_function(y_label.to(device), netout)\n",
    "\n",
    "            # Backpropage loss\n",
    "            loss.backward()\n",
    "\n",
    "            # Update weights\n",
    "            optimizer.step()\n",
    "\n",
    "            running_loss += loss.item()\n",
    "            pbar.set_postfix({'loss': running_loss/(idx_batch+1)})\n",
    "            pbar.update(x.shape[0])\n",
    "                \n",
    "#         scheduler.step()    \n",
    "        train_loss = running_loss/len(dataloader_train)\n",
    "#         print('pred, target', netout, y)\n",
    "#         val_loss = compute_loss(net, dataloader_val, loss_function, device).item()\n",
    "#         pbar.set_postfix({'loss': train_loss, 'val_loss': val_loss})\n",
    "        pbar.set_postfix({'loss': train_loss})\n",
    "\n",
    "        hist_loss[idx_epoch] = train_loss\n",
    "#         hist_loss_val[idx_epoch] = val_loss\n",
    "\n",
    "#         if val_loss < val_loss_best:\n",
    "#             val_loss_best = val_loss\n",
    "#             torch.save(net.state_dict(), model_save_path)\n",
    "        \n",
    "plt.plot(hist_loss, 'o-', label='train')\n",
    "# plt.plot(hist_loss_val, 'o-', label='val')\n",
    "plt.legend()\n",
    "# print(f\"model exported to {model_save_path} with loss {val_loss_best:5f}\")"
   ]
  },
  {
   "cell_type": "code",
   "execution_count": 138,
   "metadata": {},
   "outputs": [
    {
     "name": "stderr",
     "output_type": "stream",
     "text": [
      "100%|██████████| 1721/1721 [00:22<00:00, 76.63it/s]\n"
     ]
    }
   ],
   "source": [
    "test_data = np.concatenate((test_data_new, y_test),axis=1)\n",
    "test_data = y_test\n",
    "train_test_total = np.concatenate((train_data_array_new, test_data))\n",
    "\n",
    "net.eval()\n",
    "num_pred = 1 #  Number of prediction forward, i.e. tau\n",
    "res = np.zeros(train_window).tolist()\n",
    "#  Predicting y using X_test and y_test\n",
    "for i in tqdm(range(train_test_total.shape[0]-train_window)):\n",
    "    for j in range(num_pred):\n",
    "        seq = torch.FloatTensor(train_test_total[i:i+train_window]).to(device)\n",
    "        seq = seq.unsqueeze(0)\n",
    "        #print(seq)\n",
    "        with torch.no_grad():\n",
    "            #print(model(seq))\n",
    "            pred = net(seq).cpu()\n",
    "            #print(len(test_inputs))\n",
    "            res.append(pred)\n",
    "            \n",
    "res = np.array(res)"
   ]
  },
  {
   "cell_type": "code",
   "execution_count": 139,
   "metadata": {
    "scrolled": false
   },
   "outputs": [
    {
     "name": "stdout",
     "output_type": "stream",
     "text": [
      "r-sq on train: 0.8088868658940297\n",
      "r-sq on test: 0.8373767435090755\n",
      "cosine_similarity on train: [[0.98603197]]\n",
      "cosine_similarity on test: [[0.98728071]]\n"
     ]
    },
    {
     "ename": "NameError",
     "evalue": "name 'num_pc' is not defined",
     "output_type": "error",
     "traceback": [
      "\u001b[1;31m---------------------------------------------------------------------------\u001b[0m",
      "\u001b[1;31mNameError\u001b[0m                                 Traceback (most recent call last)",
      "\u001b[1;32m<ipython-input-139-69aa3c305049>\u001b[0m in \u001b[0;36m<module>\u001b[1;34m\u001b[0m\n\u001b[0;32m     13\u001b[0m \u001b[0mplt\u001b[0m\u001b[1;33m.\u001b[0m\u001b[0mtitle\u001b[0m\u001b[1;33m(\u001b[0m\u001b[1;34m'Transformer'\u001b[0m\u001b[1;33m)\u001b[0m\u001b[1;33m\u001b[0m\u001b[1;33m\u001b[0m\u001b[0m\n\u001b[0;32m     14\u001b[0m \u001b[0mplt\u001b[0m\u001b[1;33m.\u001b[0m\u001b[0maxvline\u001b[0m\u001b[1;33m(\u001b[0m\u001b[0mx\u001b[0m\u001b[1;33m=\u001b[0m\u001b[0mres\u001b[0m\u001b[1;33m.\u001b[0m\u001b[0mshape\u001b[0m\u001b[1;33m[\u001b[0m\u001b[1;36m0\u001b[0m\u001b[1;33m]\u001b[0m \u001b[1;33m-\u001b[0m \u001b[0mtest_size\u001b[0m\u001b[1;33m-\u001b[0m\u001b[0mtrain_window\u001b[0m\u001b[1;33m,\u001b[0m\u001b[0mc\u001b[0m\u001b[1;33m=\u001b[0m\u001b[1;34m'black'\u001b[0m\u001b[1;33m)\u001b[0m\u001b[1;33m;\u001b[0m\u001b[1;33m\u001b[0m\u001b[1;33m\u001b[0m\u001b[0m\n\u001b[1;32m---> 15\u001b[1;33m \u001b[0mtestname\u001b[0m \u001b[1;33m=\u001b[0m \u001b[1;34m'results/Transformer_PCA_'\u001b[0m\u001b[1;33m+\u001b[0m\u001b[0mstr\u001b[0m\u001b[1;33m(\u001b[0m\u001b[0mnum_pc\u001b[0m\u001b[1;33m)\u001b[0m\u001b[1;33m+\u001b[0m\u001b[1;34m'.png'\u001b[0m\u001b[1;33m\u001b[0m\u001b[1;33m\u001b[0m\u001b[0m\n\u001b[0m\u001b[0;32m     16\u001b[0m \u001b[0mplt\u001b[0m\u001b[1;33m.\u001b[0m\u001b[0msavefig\u001b[0m\u001b[1;33m(\u001b[0m\u001b[0mtestname\u001b[0m\u001b[1;33m)\u001b[0m\u001b[1;33m\u001b[0m\u001b[1;33m\u001b[0m\u001b[0m\n",
      "\u001b[1;31mNameError\u001b[0m: name 'num_pc' is not defined"
     ]
    },
    {
     "data": {
      "image/png": "[encoded data removed]",
      "text/plain": [
       "<Figure size 1080x360 with 1 Axes>"
      ]
     },
     "metadata": {
      "needs_background": "light"
     },
     "output_type": "display_data"
    }
   ],
   "source": [
    "y_train = y_train.cpu()\n",
    "\n",
    "print('r-sq on train:', r2_score(y_normed[train_window+pred_window:-test_size], res[train_window:-test_size-pred_window]))\n",
    "print('r-sq on test:', r2_score(y_normed[-test_size:],  res[-test_size-pred_window:-pred_window]))\n",
    "print('cosine_similarity on train:', cosine_similarity(y_normed[train_window+pred_window:-test_size].reshape((1,-1)), res[train_window:-test_size-pred_window].reshape((1,-1))))\n",
    "print('cosine_similarity on test:', cosine_similarity(y_normed[-test_size:].reshape((1,-1)),  res[-test_size-pred_window:-pred_window].reshape((1,-1))))\n",
    "plt.figure(figsize=(15,5))\n",
    "plt.plot(y_normed[train_window+pred_window:],label='Observed')\n",
    "plt.plot(res[train_window:-pred_window],label='Predicted')\n",
    "plt.legend()\n",
    "plt.xlabel('From January 1st 2014 to Dec 31st 2018')\n",
    "plt.ylabel(target)\n",
    "plt.title('Transformer')\n",
    "plt.axvline(x=res.shape[0] - test_size-train_window,c='black');\n",
    "testname = 'results/Transformer_PCA_'+str(num_pc)+'.png'\n",
    "plt.savefig(testname)"
   ]
  },
  {
   "cell_type": "code",
   "execution_count": null,
   "metadata": {},
   "outputs": [],
   "source": []
  },
  {
   "cell_type": "code",
   "execution_count": null,
   "metadata": {},
   "outputs": [],
   "source": []
  }
 ],
 "metadata": {
  "kernelspec": {
   "display_name": "Python 3",
   "language": "python",
   "name": "python3"
  },
  "language_info": {
   "codemirror_mode": {
    "name": "ipython",
    "version": 3
   },
   "file_extension": ".py",
   "mimetype": "text/x-python",
   "name": "python",
   "nbconvert_exporter": "python",
   "pygments_lexer": "ipython3",
   "version": "3.8.5"
  }
 },
 "nbformat": 4,
 "nbformat_minor": 4
}
