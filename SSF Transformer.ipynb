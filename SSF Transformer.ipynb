{
 "cells": [
  {
   "cell_type": "code",
   "execution_count": 1,
   "metadata": {},
   "outputs": [],
   "source": [
    "%matplotlib inline\n",
    "\n",
    "import pandas as pd\n",
    "import numpy as np\n",
    "import seaborn as sns\n",
    "import datetime\n",
    "from matplotlib import pyplot as plt\n",
    "from sklearn import linear_model\n",
    "from sklearn.metrics import r2_score\n",
    "import torch\n",
    "import torch.nn as nn\n",
    "from sklearn.preprocessing import MinMaxScaler\n",
    "from sklearn.neural_network import MLPRegressor\n",
    "from time import perf_counter\n",
    "sns.set()"
   ]
  },
  {
   "cell_type": "code",
   "execution_count": 2,
   "metadata": {},
   "outputs": [
    {
     "name": "stderr",
     "output_type": "stream",
     "text": [
      "<ipython-input-2-61d804cb4f11>:4: DeprecationWarning: The default dtype for empty Series will be 'object' instead of 'float64' in a future version. Specify a dtype explicitly to silence this warning.\n",
      "  y_samp = pd.Series()\n"
     ]
    },
    {
     "name": "stdout",
     "output_type": "stream",
     "text": [
      "precip.2014.h5\n",
      "precip.2015.h5\n",
      "precip.2016.h5\n",
      "precip.2017.h5\n",
      "precip.2018.h5\n"
     ]
    }
   ],
   "source": [
    "us_mask = pd.DataFrame(pd.read_hdf('~/Desktop/Research/data/SSF/us_mask.h5'))\n",
    "# This block is to put all nearby sst data together in time order\n",
    "# And also transform data into time order (single location\\)\n",
    "y_samp = pd.Series()\n",
    "X_total = []\n",
    "for i in range(2014,2019):\n",
    "    print('precip.'+str(i)+'.h5')\n",
    "    name_precip = 'precip.'+str(i)+'.h5'\n",
    "    name_sst = 'sst.'+str(i)+'.h5' \n",
    "    name_hgt = 'hgt500.'+str(i)+'.h5'\n",
    "    name_rhum = 'rhum.sig995.'+str(i)+'.h5'\n",
    "    name_tmp2m = 'tmp2m.'+str(i)+'.h5'\n",
    "    fileloc_precip = '~/Desktop/Research/data/SSF/' + name_precip\n",
    "    fileloc_sst = '~/Desktop/Research/data/SSF/' + name_sst\n",
    "    fileloc_hgt = '~/Desktop/Research/data/SSF/' + name_hgt\n",
    "    fileloc_rhum = '~/Desktop/Research/data/SSF/' + name_rhum\n",
    "    fileloc_tmp2m = '~/Desktop/Research/data/SSF/' + name_tmp2m\n",
    "    precip = pd.DataFrame(pd.read_hdf(fileloc_precip)).reset_index()\n",
    "    precip.columns = ['lat', 'lon', 'start_date', 'precip']\n",
    "    sst = pd.DataFrame(pd.read_hdf(fileloc_sst)).reset_index()\n",
    "    sst.columns = ['lat', 'lon', 'start_date', 'sst']\n",
    "    hgt = pd.DataFrame(pd.read_hdf(fileloc_hgt)).reset_index()\n",
    "    hgt.columns = ['lat', 'lon', 'start_date', 'hgt']\n",
    "    rhum = pd.DataFrame(pd.read_hdf(fileloc_rhum)).reset_index()\n",
    "    rhum.columns = ['lat', 'lon', 'start_date', 'rhum']\n",
    "    tmp2m = pd.DataFrame(pd.read_hdf(fileloc_tmp2m)).reset_index()\n",
    "    tmp2m.columns = ['lat', 'lon', 'start_date', 'tmp2m']\n",
    "    \n",
    "    precip = pd.merge(precip, us_mask, on=['lat','lon'])\n",
    "    hgt = pd.merge(hgt, us_mask, on=['lat','lon'])\n",
    "    rhum = pd.merge(rhum, us_mask, on=['lat','lon'])\n",
    "    tmp2m = pd.merge(tmp2m, us_mask, on=['lat','lon'])\n",
    "    \n",
    "    hgt = np.reshape(hgt[(hgt['lat']==25.25) & (hgt['lon']==279.25)].hgt.to_numpy(),(-1,1))\n",
    "    rhum = np.reshape(rhum[(rhum['lat']==25.25) & (rhum['lon']==279.25)].rhum.to_numpy(),(-1,1))\n",
    "    precip = np.reshape(precip[(precip['lat']==25.25) & (precip['lon']==279.25)].precip.to_numpy(),(-1,1))\n",
    "    \n",
    "    y_samp = y_samp.append(tmp2m[tmp2m['lat']==25.25].tmp2m,ignore_index=True)\n",
    "    \n",
    "    if i%4 == 0:\n",
    "        days = 366\n",
    "    else:\n",
    "        days = 365\n",
    "    temp = sst[(sst['lat']>=24.25) & (sst['lat']<=26.25) & (sst['lon']>=278.25) & (sst['lon']<=280.25)]\n",
    "    sst_samp = temp.sst.reset_index().sst.to_numpy()\n",
    "    size = int(len(sst_samp)/days)\n",
    "    sst_samp = np.reshape(sst_samp,(size,days)).transpose() # days as rows, different locations as columns\n",
    "    all_features = np.concatenate((sst_samp,hgt,rhum,precip),axis=1)\n",
    "    X_total.append(all_features)\n",
    "    \n",
    "X_size = X_total[0].shape[1]\n",
    "X_samp = np.zeros((1,X_size)) #  For concatenating all data\n",
    "for i in range(len(X_total)):\n",
    "    X_samp = np.concatenate((X_samp,X_total[i]),axis = 0)\n",
    "X_samp = X_samp[1:]"
   ]
  },
  {
   "cell_type": "code",
   "execution_count": 3,
   "metadata": {},
   "outputs": [],
   "source": [
    "X_copy = X_samp.copy()\n",
    "y_copy = y_samp.to_numpy().copy()"
   ]
  },
  {
   "cell_type": "code",
   "execution_count": 4,
   "metadata": {},
   "outputs": [],
   "source": [
    "X_samp = X_copy.copy()\n",
    "y_samp = y_copy.copy()\n",
    "target = 'tmp2m'"
   ]
  },
  {
   "cell_type": "code",
   "execution_count": 5,
   "metadata": {},
   "outputs": [
    {
     "data": {
      "text/plain": [
       "[<matplotlib.lines.Line2D at 0x263010b0d00>]"
      ]
     },
     "execution_count": 5,
     "metadata": {},
     "output_type": "execute_result"
    },
    {
     "data": {
      "image/png": "[encoded data removed]",
      "text/plain": [
       "<Figure size 432x288 with 1 Axes>"
      ]
     },
     "metadata": {},
     "output_type": "display_data"
    }
   ],
   "source": [
    "plt.plot(y_samp)"
   ]
  },
  {
   "cell_type": "code",
   "execution_count": 6,
   "metadata": {},
   "outputs": [],
   "source": [
    "# Calculate moving average for precip\n",
    "avg_window = 14\n",
    "y_movavg = []\n",
    "X_movavg = []\n",
    "for i in range(y_samp.shape[0]-avg_window):\n",
    "    y_avg = np.mean(y_samp[i:i+avg_window])\n",
    "    y_movavg.append(y_avg)\n",
    "    X_avg = np.mean(X_samp[i:i+avg_window],axis=0)\n",
    "    X_movavg.append(X_avg)\n",
    "y_movavg = np.array(y_movavg)\n",
    "X_movavg = np.array(X_movavg)\n",
    "y_samp = y_movavg\n",
    "X_samp = X_movavg"
   ]
  },
  {
   "cell_type": "code",
   "execution_count": 7,
   "metadata": {},
   "outputs": [],
   "source": [
    "# Standardize data by z-scoring\n",
    "mean = np.mean(y_samp)\n",
    "std = np.std(y_samp)\n",
    "y_samp = (y_samp-mean)/std\n",
    "X_samp[:,0:16] = (X_samp[:,0:16] - np.mean(X_samp[:,0:16]))/np.std(X_samp[:,16])\n",
    "X_samp[:,16] = (X_samp[:,16] - np.mean(X_samp[:,16]))/np.std(X_samp[:,16])\n",
    "X_samp[:,17] = (X_samp[:,17] - np.mean(X_samp[:,17]))/np.std(X_samp[:,17])\n",
    "X_samp[:,18] = (X_samp[:,18] - np.mean(X_samp[:,18]))/np.std(X_samp[:,18])\n",
    "\n",
    "X = X_samp.copy()\n",
    "y = y_samp.copy()\n",
    "\n",
    "\n"
   ]
  },
  {
   "cell_type": "code",
   "execution_count": 8,
   "metadata": {},
   "outputs": [
    {
     "data": {
      "text/plain": [
       "[<matplotlib.lines.Line2D at 0x26300f66eb0>]"
      ]
     },
     "execution_count": 8,
     "metadata": {},
     "output_type": "execute_result"
    },
    {
     "data": {
      "image/png": "[encoded data removed]",
      "text/plain": [
       "<Figure size 432x288 with 1 Axes>"
      ]
     },
     "metadata": {},
     "output_type": "display_data"
    }
   ],
   "source": [
    "plt.plot(y_samp)"
   ]
  },
  {
   "cell_type": "code",
   "execution_count": 9,
   "metadata": {},
   "outputs": [
    {
     "name": "stdout",
     "output_type": "stream",
     "text": [
      "(1812, 19)\n",
      "(1812,)\n"
     ]
    }
   ],
   "source": [
    "print(X.shape)\n",
    "print(y.shape)"
   ]
  },
  {
   "cell_type": "code",
   "execution_count": 10,
   "metadata": {},
   "outputs": [
    {
     "data": {
      "text/plain": [
       "torch.Size([3, 3, 1])"
      ]
     },
     "execution_count": 10,
     "metadata": {},
     "output_type": "execute_result"
    }
   ],
   "source": [
    "torch.zeros(3,3,1).shape"
   ]
  },
  {
   "cell_type": "code",
   "execution_count": 11,
   "metadata": {},
   "outputs": [
    {
     "name": "stdout",
     "output_type": "stream",
     "text": [
      "torch.Size([1768, 30, 19])\n",
      "torch.Size([1768, 30, 1])\n"
     ]
    }
   ],
   "source": [
    "# Create dataset by using the sliding window approach\n",
    "# Input/Output pairs = (X_{t-iw+1:t}, y_{t+1:t+ow})\n",
    "# Transformer takes same sequence length, so we have three approaches: (Assume iw > ow)\n",
    "# 1. Use X_{t-iw:t} and [y_{t:t+ow}, 0,...,0]\n",
    "# 2. Use X_{t-iw:t} and y_{t-(iw-ow):t+ow}\n",
    "# 3. Use X_{t-iw:t} and t_{t:t+iw}\n",
    "def create_sequence_padding(X,y, input_window,output_window): \n",
    "    L = X.shape[0]\n",
    "    num_features = X.shape[1]\n",
    "    X_samples = torch.zeros(L-input_window-output_window,input_window,num_features)\n",
    "#     print(X_samples.shape)\n",
    "    y_samples = torch.zeros(L-input_window-output_window,input_window,1)\n",
    "#     print(y_samples.shape)\n",
    "    for i in range(L-input_window-output_window):\n",
    "        # Note that i goes from 0 to T - iw - ow, but our sample points are at t from iw - 1 to T - ow - 1\n",
    "        # i.e. at each time point, t = i + iw - 1\n",
    "        X_seq = X[i:i+input_window,:] # t - iw + 1 to t\n",
    "        y_seq = y[i+input_window:i+input_window+output_window]\n",
    "        y_seq = np.pad(y_seq,(0,input_window-output_window))\n",
    "#         print(X_seq.shape)\n",
    "#         print(y_seq.shape)\n",
    "#         print(y_samples[i,:,:].shape)\n",
    "        X_samples[i,:,:] = torch.from_numpy(X_seq)\n",
    "        y_samples[i,:,0] = torch.from_numpy(y_seq)\n",
    "    return X_samples,y_samples\n",
    "\n",
    "X_samples, y_samples = create_sequence_padding(X,y,30,14)\n",
    "\n",
    "print(X_samples.shape)\n",
    "print(y_samples.shape)"
   ]
  },
  {
   "cell_type": "code",
   "execution_count": 12,
   "metadata": {},
   "outputs": [
    {
     "name": "stdout",
     "output_type": "stream",
     "text": [
      "torch.Size([1768, 30, 19])\n",
      "torch.Size([1768, 30, 1])\n"
     ]
    }
   ],
   "source": [
    "# Approach 2\n",
    "def create_sequence_shifting(X,y, input_window,output_window): \n",
    "    L = X.shape[0]\n",
    "    num_features = X.shape[1]\n",
    "    X_samples = torch.zeros(L-input_window-output_window,input_window,num_features)\n",
    "#     print(X_samples.shape)\n",
    "    y_samples = torch.zeros(L-input_window-output_window,input_window,1)\n",
    "#     print(y_samples.shape)\n",
    "    for i in range(L-input_window-output_window):\n",
    "        # Note that i goes from 0 to T - iw - ow, but our sample points are at t from iw - 1 to T - ow - 1\n",
    "        # i.e. at each time point, t = i + iw - 1\n",
    "        X_seq = X[i:i+input_window,:] # t - iw + 1 to t\n",
    "        y_seq = y[i+output_window:i+input_window+output_window]      \n",
    "#         print(X_seq.shape)\n",
    "#         print(y_seq.shape)\n",
    "#         print(y_samples[i,:,:].shape)\n",
    "        X_samples[i,:,:] = torch.from_numpy(X_seq)\n",
    "        y_samples[i,:,0] = torch.from_numpy(y_seq)\n",
    "    return X_samples,y_samples\n",
    "\n",
    "X_samples, y_samples = create_sequence_shifting(X,y,30,14)\n",
    "print(X_samples.shape)\n",
    "print(y_samples.shape)"
   ]
  },
  {
   "cell_type": "code",
   "execution_count": 14,
   "metadata": {},
   "outputs": [
    {
     "name": "stdout",
     "output_type": "stream",
     "text": [
      "torch.Size([1752, 30, 19])\n",
      "torch.Size([1752, 30, 1])\n"
     ]
    }
   ],
   "source": [
    "# Approach 3\n",
    "def create_sequence_matching(X,y, input_window): \n",
    "    L = X.shape[0]\n",
    "    num_features = X.shape[1]\n",
    "    X_samples = torch.zeros(L-2*input_window,input_window,num_features)\n",
    "#     print(X_samples.shape)\n",
    "    y_samples = torch.zeros(L-2*input_window,input_window,1)\n",
    "#     print(y_samples.shape)\n",
    "    for i in range(L-2*input_window):\n",
    "        # Note that i goes from 0 to T - iw - ow, but our sample points are at t from iw - 1 to T - ow - 1\n",
    "        # i.e. at each time point, t = i + iw - 1\n",
    "        X_seq = X[i:i+input_window,:] # t - iw + 1 to t\n",
    "        y_seq = y[i+input_window:i+2*input_window]      \n",
    "#         print(X_seq.shape)\n",
    "#         print(y_seq.shape)\n",
    "#         print(y_samples[i,:,:].shape)\n",
    "        X_samples[i,:,:] = torch.from_numpy(X_seq)\n",
    "        y_samples[i,:,0] = torch.from_numpy(y_seq)\n",
    "    return X_samples,y_samples\n",
    "\n",
    "X_samples, y_samples = create_sequence_matching(X,y,30)\n",
    "print(X_samples.shape)\n",
    "print(y_samples.shape)"
   ]
  },
  {
   "cell_type": "code",
   "execution_count": 14,
   "metadata": {},
   "outputs": [],
   "source": [
    "import datetime\n",
    "\n",
    "import numpy as np\n",
    "from matplotlib import pyplot as plt\n",
    "import torch\n",
    "import torch.nn as nn\n",
    "import torch.optim as optim\n",
    "from torch.utils.data import DataLoader, random_split\n",
    "from tqdm import tqdm\n",
    "import seaborn as sns\n",
    "\n",
    "from tst import Transformer\n",
    "from tst.loss import OZELoss\n",
    "import os\n",
    "\n",
    "from src.dataset import OzeDataset\n",
    "from src.utils import compute_loss\n",
    "from src.visualization import map_plot_function, plot_values_distribution, plot_error_distribution, plot_errors_threshold, plot_visual_sample"
   ]
  },
  {
   "cell_type": "code",
   "execution_count": 15,
   "metadata": {},
   "outputs": [],
   "source": [
    "# Training parameters\n",
    "DATASET_PATH = 'data/data_gen_original.npz' #'datasets/dataset_57M.npz'\n",
    "# BATCH_SIZE = 8\n",
    "# NUM_WORKERS = 0\n",
    "# LR = 2e-4\n",
    "# EPOCHS = 30\n",
    "\n",
    "# # Model parameters\n",
    "# d_model = 64 # Lattent dim\n",
    "# q = 8 # Query size\n",
    "# v = 8 # Value size\n",
    "# h = 8 # Number of heads\n",
    "# N = 4 # Number of encoder and decoder to stack\n",
    "# attention_size = 12 # Attention window size\n",
    "# dropout = 0.2 # Dropout rate\n",
    "# pe = None # Positional encoding\n",
    "# chunk_mode = None\n",
    "\n",
    "# d_input = 27 # From dataset\n",
    "# d_output = 8 # From dataset\n",
    "\n",
    "BATCH_SIZE = 8\n",
    "NUM_WORKERS = 0\n",
    "LR = 2e-4\n",
    "EPOCHS = 30\n",
    "\n",
    "# Model parameters\n",
    "d_model = 64 # Lattent dim\n",
    "q = 8 # Query size\n",
    "v = 8 # Value size\n",
    "h = 8 # Number of heads\n",
    "N = 4 # Number of encoder and decoder to stack\n",
    "attention_size = 12 # Attention window size\n",
    "dropout = 0.2 # Dropout rate\n",
    "pe = None # Positional encoding\n",
    "chunk_mode = None\n",
    "\n",
    "d_input = 37 # From dataset\n",
    "d_output = 8 # From dataset\n"
   ]
  },
  {
   "cell_type": "code",
   "execution_count": 16,
   "metadata": {},
   "outputs": [],
   "source": []
  },
  {
   "cell_type": "code",
   "execution_count": null,
   "metadata": {},
   "outputs": [],
   "source": []
  }
 ],
 "metadata": {
  "kernelspec": {
   "display_name": "Python 3",
   "language": "python",
   "name": "python3"
  },
  "language_info": {
   "codemirror_mode": {
    "name": "ipython",
    "version": 3
   },
   "file_extension": ".py",
   "mimetype": "text/x-python",
   "name": "python",
   "nbconvert_exporter": "python",
   "pygments_lexer": "ipython3",
   "version": "3.8.5"
  }
 },
 "nbformat": 4,
 "nbformat_minor": 4
}
