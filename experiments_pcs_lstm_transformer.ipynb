{
 "cells": [
  {
   "cell_type": "code",
   "execution_count": 3,
   "metadata": {},
   "outputs": [],
   "source": [
    "%load_ext autoreload\n",
    "%autoreload 2"
   ]
  },
  {
   "cell_type": "code",
   "execution_count": 1,
   "metadata": {},
   "outputs": [],
   "source": [
    "import datetime\n",
    "from sklearn.metrics import r2_score\n",
    "from sklearn.metrics.pairwise import cosine_similarity\n",
    "import numpy as np\n",
    "from matplotlib import pyplot as plt\n",
    "import torch\n",
    "import torch.nn as nn\n",
    "import torch.optim as optim\n",
    "from torch.utils.data import DataLoader, random_split\n",
    "from tqdm import tqdm\n",
    "import seaborn as sns\n",
    "from time import perf_counter\n",
    "\n",
    "from tst import Transformer\n",
    "import os\n",
    "import pandas as pd\n",
    "import torch.nn as nn\n",
    "\n",
    "# from src.dataset import OzeDataset\n",
    "# from src.utils import compute_loss\n",
    "# from src.utils import preprocess\n",
    "# from src.visualization import map_plot_function, plot_values_distribution, plot_error_distribution, plot_errors_threshold, plot_visual_sample"
   ]
  },
  {
   "cell_type": "code",
   "execution_count": 4,
   "metadata": {},
   "outputs": [
    {
     "name": "stderr",
     "output_type": "stream",
     "text": [
      "<ipython-input-4-def6ad68051a>:7: DeprecationWarning: The default dtype for empty Series will be 'object' instead of 'float64' in a future version. Specify a dtype explicitly to silence this warning.\n",
      "  y_samp = pd.Series()\n"
     ]
    },
    {
     "name": "stdout",
     "output_type": "stream",
     "text": [
      "precip.2014.h5\n",
      "original (1201945, 4)\n"
     ]
    },
    {
     "ename": "KeyboardInterrupt",
     "evalue": "",
     "output_type": "error",
     "traceback": [
      "\u001b[1;31m---------------------------------------------------------------------------\u001b[0m",
      "\u001b[1;31mKeyboardInterrupt\u001b[0m                         Traceback (most recent call last)",
      "\u001b[1;32m<ipython-input-4-def6ad68051a>\u001b[0m in \u001b[0;36m<module>\u001b[1;34m\u001b[0m\n\u001b[0;32m     35\u001b[0m \u001b[1;33m\u001b[0m\u001b[0m\n\u001b[0;32m     36\u001b[0m     \u001b[0mprecip\u001b[0m \u001b[1;33m=\u001b[0m \u001b[0mpd\u001b[0m\u001b[1;33m.\u001b[0m\u001b[0mmerge\u001b[0m\u001b[1;33m(\u001b[0m\u001b[0mprecip\u001b[0m\u001b[1;33m,\u001b[0m \u001b[0mus_mask\u001b[0m\u001b[1;33m,\u001b[0m \u001b[0mon\u001b[0m\u001b[1;33m=\u001b[0m\u001b[1;33m[\u001b[0m\u001b[1;34m'lat'\u001b[0m\u001b[1;33m,\u001b[0m\u001b[1;34m'lon'\u001b[0m\u001b[1;33m]\u001b[0m\u001b[1;33m)\u001b[0m\u001b[1;33m\u001b[0m\u001b[1;33m\u001b[0m\u001b[0m\n\u001b[1;32m---> 37\u001b[1;33m     \u001b[0mhgt\u001b[0m \u001b[1;33m=\u001b[0m \u001b[0mpd\u001b[0m\u001b[1;33m.\u001b[0m\u001b[0mmerge\u001b[0m\u001b[1;33m(\u001b[0m\u001b[0mhgt\u001b[0m\u001b[1;33m,\u001b[0m \u001b[0mus_mask\u001b[0m\u001b[1;33m,\u001b[0m \u001b[0mon\u001b[0m\u001b[1;33m=\u001b[0m\u001b[1;33m[\u001b[0m\u001b[1;34m'lat'\u001b[0m\u001b[1;33m,\u001b[0m\u001b[1;34m'lon'\u001b[0m\u001b[1;33m]\u001b[0m\u001b[1;33m)\u001b[0m\u001b[1;33m\u001b[0m\u001b[1;33m\u001b[0m\u001b[0m\n\u001b[0m\u001b[0;32m     38\u001b[0m     \u001b[0mrhum\u001b[0m \u001b[1;33m=\u001b[0m \u001b[0mpd\u001b[0m\u001b[1;33m.\u001b[0m\u001b[0mmerge\u001b[0m\u001b[1;33m(\u001b[0m\u001b[0mrhum\u001b[0m\u001b[1;33m,\u001b[0m \u001b[0mus_mask\u001b[0m\u001b[1;33m,\u001b[0m \u001b[0mon\u001b[0m\u001b[1;33m=\u001b[0m\u001b[1;33m[\u001b[0m\u001b[1;34m'lat'\u001b[0m\u001b[1;33m,\u001b[0m\u001b[1;34m'lon'\u001b[0m\u001b[1;33m]\u001b[0m\u001b[1;33m)\u001b[0m\u001b[1;33m\u001b[0m\u001b[1;33m\u001b[0m\u001b[0m\n\u001b[0;32m     39\u001b[0m     \u001b[0mtmp2m\u001b[0m \u001b[1;33m=\u001b[0m \u001b[0mpd\u001b[0m\u001b[1;33m.\u001b[0m\u001b[0mmerge\u001b[0m\u001b[1;33m(\u001b[0m\u001b[0mtmp2m\u001b[0m\u001b[1;33m,\u001b[0m \u001b[0mus_mask\u001b[0m\u001b[1;33m,\u001b[0m \u001b[0mon\u001b[0m\u001b[1;33m=\u001b[0m\u001b[1;33m[\u001b[0m\u001b[1;34m'lat'\u001b[0m\u001b[1;33m,\u001b[0m\u001b[1;34m'lon'\u001b[0m\u001b[1;33m]\u001b[0m\u001b[1;33m)\u001b[0m\u001b[1;33m\u001b[0m\u001b[1;33m\u001b[0m\u001b[0m\n",
      "\u001b[1;32m~\\anaconda3\\lib\\site-packages\\pandas\\core\\reshape\\merge.py\u001b[0m in \u001b[0;36mmerge\u001b[1;34m(left, right, how, on, left_on, right_on, left_index, right_index, sort, suffixes, copy, indicator, validate)\u001b[0m\n\u001b[0;32m     86\u001b[0m         \u001b[0mvalidate\u001b[0m\u001b[1;33m=\u001b[0m\u001b[0mvalidate\u001b[0m\u001b[1;33m,\u001b[0m\u001b[1;33m\u001b[0m\u001b[1;33m\u001b[0m\u001b[0m\n\u001b[0;32m     87\u001b[0m     )\n\u001b[1;32m---> 88\u001b[1;33m     \u001b[1;32mreturn\u001b[0m \u001b[0mop\u001b[0m\u001b[1;33m.\u001b[0m\u001b[0mget_result\u001b[0m\u001b[1;33m(\u001b[0m\u001b[1;33m)\u001b[0m\u001b[1;33m\u001b[0m\u001b[1;33m\u001b[0m\u001b[0m\n\u001b[0m\u001b[0;32m     89\u001b[0m \u001b[1;33m\u001b[0m\u001b[0m\n\u001b[0;32m     90\u001b[0m \u001b[1;33m\u001b[0m\u001b[0m\n",
      "\u001b[1;32m~\\anaconda3\\lib\\site-packages\\pandas\\core\\reshape\\merge.py\u001b[0m in \u001b[0;36mget_result\u001b[1;34m(self)\u001b[0m\n\u001b[0;32m    641\u001b[0m             \u001b[0mself\u001b[0m\u001b[1;33m.\u001b[0m\u001b[0mleft\u001b[0m\u001b[1;33m,\u001b[0m \u001b[0mself\u001b[0m\u001b[1;33m.\u001b[0m\u001b[0mright\u001b[0m \u001b[1;33m=\u001b[0m \u001b[0mself\u001b[0m\u001b[1;33m.\u001b[0m\u001b[0m_indicator_pre_merge\u001b[0m\u001b[1;33m(\u001b[0m\u001b[0mself\u001b[0m\u001b[1;33m.\u001b[0m\u001b[0mleft\u001b[0m\u001b[1;33m,\u001b[0m \u001b[0mself\u001b[0m\u001b[1;33m.\u001b[0m\u001b[0mright\u001b[0m\u001b[1;33m)\u001b[0m\u001b[1;33m\u001b[0m\u001b[1;33m\u001b[0m\u001b[0m\n\u001b[0;32m    642\u001b[0m \u001b[1;33m\u001b[0m\u001b[0m\n\u001b[1;32m--> 643\u001b[1;33m         \u001b[0mjoin_index\u001b[0m\u001b[1;33m,\u001b[0m \u001b[0mleft_indexer\u001b[0m\u001b[1;33m,\u001b[0m \u001b[0mright_indexer\u001b[0m \u001b[1;33m=\u001b[0m \u001b[0mself\u001b[0m\u001b[1;33m.\u001b[0m\u001b[0m_get_join_info\u001b[0m\u001b[1;33m(\u001b[0m\u001b[1;33m)\u001b[0m\u001b[1;33m\u001b[0m\u001b[1;33m\u001b[0m\u001b[0m\n\u001b[0m\u001b[0;32m    644\u001b[0m \u001b[1;33m\u001b[0m\u001b[0m\n\u001b[0;32m    645\u001b[0m         \u001b[0mldata\u001b[0m\u001b[1;33m,\u001b[0m \u001b[0mrdata\u001b[0m \u001b[1;33m=\u001b[0m \u001b[0mself\u001b[0m\u001b[1;33m.\u001b[0m\u001b[0mleft\u001b[0m\u001b[1;33m.\u001b[0m\u001b[0m_data\u001b[0m\u001b[1;33m,\u001b[0m \u001b[0mself\u001b[0m\u001b[1;33m.\u001b[0m\u001b[0mright\u001b[0m\u001b[1;33m.\u001b[0m\u001b[0m_data\u001b[0m\u001b[1;33m\u001b[0m\u001b[1;33m\u001b[0m\u001b[0m\n",
      "\u001b[1;32m~\\anaconda3\\lib\\site-packages\\pandas\\core\\reshape\\merge.py\u001b[0m in \u001b[0;36m_get_join_info\u001b[1;34m(self)\u001b[0m\n\u001b[0;32m    860\u001b[0m             )\n\u001b[0;32m    861\u001b[0m         \u001b[1;32melse\u001b[0m\u001b[1;33m:\u001b[0m\u001b[1;33m\u001b[0m\u001b[1;33m\u001b[0m\u001b[0m\n\u001b[1;32m--> 862\u001b[1;33m             \u001b[1;33m(\u001b[0m\u001b[0mleft_indexer\u001b[0m\u001b[1;33m,\u001b[0m \u001b[0mright_indexer\u001b[0m\u001b[1;33m)\u001b[0m \u001b[1;33m=\u001b[0m \u001b[0mself\u001b[0m\u001b[1;33m.\u001b[0m\u001b[0m_get_join_indexers\u001b[0m\u001b[1;33m(\u001b[0m\u001b[1;33m)\u001b[0m\u001b[1;33m\u001b[0m\u001b[1;33m\u001b[0m\u001b[0m\n\u001b[0m\u001b[0;32m    863\u001b[0m \u001b[1;33m\u001b[0m\u001b[0m\n\u001b[0;32m    864\u001b[0m             \u001b[1;32mif\u001b[0m \u001b[0mself\u001b[0m\u001b[1;33m.\u001b[0m\u001b[0mright_index\u001b[0m\u001b[1;33m:\u001b[0m\u001b[1;33m\u001b[0m\u001b[1;33m\u001b[0m\u001b[0m\n",
      "\u001b[1;32m~\\anaconda3\\lib\\site-packages\\pandas\\core\\reshape\\merge.py\u001b[0m in \u001b[0;36m_get_join_indexers\u001b[1;34m(self)\u001b[0m\n\u001b[0;32m    838\u001b[0m     \u001b[1;32mdef\u001b[0m \u001b[0m_get_join_indexers\u001b[0m\u001b[1;33m(\u001b[0m\u001b[0mself\u001b[0m\u001b[1;33m)\u001b[0m\u001b[1;33m:\u001b[0m\u001b[1;33m\u001b[0m\u001b[1;33m\u001b[0m\u001b[0m\n\u001b[0;32m    839\u001b[0m         \u001b[1;34m\"\"\" return the join indexers \"\"\"\u001b[0m\u001b[1;33m\u001b[0m\u001b[1;33m\u001b[0m\u001b[0m\n\u001b[1;32m--> 840\u001b[1;33m         return _get_join_indexers(\n\u001b[0m\u001b[0;32m    841\u001b[0m             \u001b[0mself\u001b[0m\u001b[1;33m.\u001b[0m\u001b[0mleft_join_keys\u001b[0m\u001b[1;33m,\u001b[0m \u001b[0mself\u001b[0m\u001b[1;33m.\u001b[0m\u001b[0mright_join_keys\u001b[0m\u001b[1;33m,\u001b[0m \u001b[0msort\u001b[0m\u001b[1;33m=\u001b[0m\u001b[0mself\u001b[0m\u001b[1;33m.\u001b[0m\u001b[0msort\u001b[0m\u001b[1;33m,\u001b[0m \u001b[0mhow\u001b[0m\u001b[1;33m=\u001b[0m\u001b[0mself\u001b[0m\u001b[1;33m.\u001b[0m\u001b[0mhow\u001b[0m\u001b[1;33m\u001b[0m\u001b[1;33m\u001b[0m\u001b[0m\n\u001b[0;32m    842\u001b[0m         )\n",
      "\u001b[1;32m~\\anaconda3\\lib\\site-packages\\pandas\\core\\reshape\\merge.py\u001b[0m in \u001b[0;36m_get_join_indexers\u001b[1;34m(left_keys, right_keys, sort, how, **kwargs)\u001b[0m\n\u001b[0;32m   1309\u001b[0m         \u001b[1;32mfor\u001b[0m \u001b[0mn\u001b[0m \u001b[1;32min\u001b[0m \u001b[0mrange\u001b[0m\u001b[1;33m(\u001b[0m\u001b[0mlen\u001b[0m\u001b[1;33m(\u001b[0m\u001b[0mleft_keys\u001b[0m\u001b[1;33m)\u001b[0m\u001b[1;33m)\u001b[0m\u001b[1;33m\u001b[0m\u001b[1;33m\u001b[0m\u001b[0m\n\u001b[0;32m   1310\u001b[0m     )\n\u001b[1;32m-> 1311\u001b[1;33m     \u001b[0mzipped\u001b[0m \u001b[1;33m=\u001b[0m \u001b[0mzip\u001b[0m\u001b[1;33m(\u001b[0m\u001b[1;33m*\u001b[0m\u001b[0mmapped\u001b[0m\u001b[1;33m)\u001b[0m\u001b[1;33m\u001b[0m\u001b[1;33m\u001b[0m\u001b[0m\n\u001b[0m\u001b[0;32m   1312\u001b[0m     \u001b[0mllab\u001b[0m\u001b[1;33m,\u001b[0m \u001b[0mrlab\u001b[0m\u001b[1;33m,\u001b[0m \u001b[0mshape\u001b[0m \u001b[1;33m=\u001b[0m \u001b[1;33m[\u001b[0m\u001b[0mlist\u001b[0m\u001b[1;33m(\u001b[0m\u001b[0mx\u001b[0m\u001b[1;33m)\u001b[0m \u001b[1;32mfor\u001b[0m \u001b[0mx\u001b[0m \u001b[1;32min\u001b[0m \u001b[0mzipped\u001b[0m\u001b[1;33m]\u001b[0m\u001b[1;33m\u001b[0m\u001b[1;33m\u001b[0m\u001b[0m\n\u001b[0;32m   1313\u001b[0m \u001b[1;33m\u001b[0m\u001b[0m\n",
      "\u001b[1;32m~\\anaconda3\\lib\\site-packages\\pandas\\core\\reshape\\merge.py\u001b[0m in \u001b[0;36m<genexpr>\u001b[1;34m(.0)\u001b[0m\n\u001b[0;32m   1306\u001b[0m     \u001b[1;31m# get left & right join labels and num. of levels at each location\u001b[0m\u001b[1;33m\u001b[0m\u001b[1;33m\u001b[0m\u001b[1;33m\u001b[0m\u001b[0m\n\u001b[0;32m   1307\u001b[0m     mapped = (\n\u001b[1;32m-> 1308\u001b[1;33m         \u001b[0m_factorize_keys\u001b[0m\u001b[1;33m(\u001b[0m\u001b[0mleft_keys\u001b[0m\u001b[1;33m[\u001b[0m\u001b[0mn\u001b[0m\u001b[1;33m]\u001b[0m\u001b[1;33m,\u001b[0m \u001b[0mright_keys\u001b[0m\u001b[1;33m[\u001b[0m\u001b[0mn\u001b[0m\u001b[1;33m]\u001b[0m\u001b[1;33m,\u001b[0m \u001b[0msort\u001b[0m\u001b[1;33m=\u001b[0m\u001b[0msort\u001b[0m\u001b[1;33m)\u001b[0m\u001b[1;33m\u001b[0m\u001b[1;33m\u001b[0m\u001b[0m\n\u001b[0m\u001b[0;32m   1309\u001b[0m         \u001b[1;32mfor\u001b[0m \u001b[0mn\u001b[0m \u001b[1;32min\u001b[0m \u001b[0mrange\u001b[0m\u001b[1;33m(\u001b[0m\u001b[0mlen\u001b[0m\u001b[1;33m(\u001b[0m\u001b[0mleft_keys\u001b[0m\u001b[1;33m)\u001b[0m\u001b[1;33m)\u001b[0m\u001b[1;33m\u001b[0m\u001b[1;33m\u001b[0m\u001b[0m\n\u001b[0;32m   1310\u001b[0m     )\n",
      "\u001b[1;32m~\\anaconda3\\lib\\site-packages\\pandas\\core\\reshape\\merge.py\u001b[0m in \u001b[0;36m_factorize_keys\u001b[1;34m(lk, rk, sort)\u001b[0m\n\u001b[0;32m   1915\u001b[0m     \u001b[0mrizer\u001b[0m \u001b[1;33m=\u001b[0m \u001b[0mklass\u001b[0m\u001b[1;33m(\u001b[0m\u001b[0mmax\u001b[0m\u001b[1;33m(\u001b[0m\u001b[0mlen\u001b[0m\u001b[1;33m(\u001b[0m\u001b[0mlk\u001b[0m\u001b[1;33m)\u001b[0m\u001b[1;33m,\u001b[0m \u001b[0mlen\u001b[0m\u001b[1;33m(\u001b[0m\u001b[0mrk\u001b[0m\u001b[1;33m)\u001b[0m\u001b[1;33m)\u001b[0m\u001b[1;33m)\u001b[0m\u001b[1;33m\u001b[0m\u001b[1;33m\u001b[0m\u001b[0m\n\u001b[0;32m   1916\u001b[0m \u001b[1;33m\u001b[0m\u001b[0m\n\u001b[1;32m-> 1917\u001b[1;33m     \u001b[0mllab\u001b[0m \u001b[1;33m=\u001b[0m \u001b[0mrizer\u001b[0m\u001b[1;33m.\u001b[0m\u001b[0mfactorize\u001b[0m\u001b[1;33m(\u001b[0m\u001b[0mlk\u001b[0m\u001b[1;33m)\u001b[0m\u001b[1;33m\u001b[0m\u001b[1;33m\u001b[0m\u001b[0m\n\u001b[0m\u001b[0;32m   1918\u001b[0m     \u001b[0mrlab\u001b[0m \u001b[1;33m=\u001b[0m \u001b[0mrizer\u001b[0m\u001b[1;33m.\u001b[0m\u001b[0mfactorize\u001b[0m\u001b[1;33m(\u001b[0m\u001b[0mrk\u001b[0m\u001b[1;33m)\u001b[0m\u001b[1;33m\u001b[0m\u001b[1;33m\u001b[0m\u001b[0m\n\u001b[0;32m   1919\u001b[0m \u001b[1;33m\u001b[0m\u001b[0m\n",
      "\u001b[1;32mpandas\\_libs\\hashtable.pyx\u001b[0m in \u001b[0;36mpandas._libs.hashtable.Factorizer.factorize\u001b[1;34m()\u001b[0m\n",
      "\u001b[1;32mpandas\\_libs\\hashtable_class_helper.pxi\u001b[0m in \u001b[0;36mpandas._libs.hashtable.PyObjectHashTable.get_labels\u001b[1;34m()\u001b[0m\n",
      "\u001b[1;32mpandas\\_libs\\hashtable_class_helper.pxi\u001b[0m in \u001b[0;36mpandas._libs.hashtable.PyObjectHashTable._unique\u001b[1;34m()\u001b[0m\n",
      "\u001b[1;32m~\\anaconda3\\lib\\site-packages\\numpy\\core\\_asarray.py\u001b[0m in \u001b[0;36masarray\u001b[1;34m(a, dtype, order)\u001b[0m\n\u001b[0;32m     81\u001b[0m \u001b[1;33m\u001b[0m\u001b[0m\n\u001b[0;32m     82\u001b[0m     \"\"\"\n\u001b[1;32m---> 83\u001b[1;33m     \u001b[1;32mreturn\u001b[0m \u001b[0marray\u001b[0m\u001b[1;33m(\u001b[0m\u001b[0ma\u001b[0m\u001b[1;33m,\u001b[0m \u001b[0mdtype\u001b[0m\u001b[1;33m,\u001b[0m \u001b[0mcopy\u001b[0m\u001b[1;33m=\u001b[0m\u001b[1;32mFalse\u001b[0m\u001b[1;33m,\u001b[0m \u001b[0morder\u001b[0m\u001b[1;33m=\u001b[0m\u001b[0morder\u001b[0m\u001b[1;33m)\u001b[0m\u001b[1;33m\u001b[0m\u001b[1;33m\u001b[0m\u001b[0m\n\u001b[0m\u001b[0;32m     84\u001b[0m \u001b[1;33m\u001b[0m\u001b[0m\n\u001b[0;32m     85\u001b[0m \u001b[1;33m\u001b[0m\u001b[0m\n",
      "\u001b[1;31mKeyboardInterrupt\u001b[0m: "
     ]
    }
   ],
   "source": [
    "path = 'E:/S2S data sample/'\n",
    "\n",
    "\n",
    "us_mask = pd.DataFrame(pd.read_hdf(path + 'us_mask.h5'))\n",
    "# This block is to put all nearby sst data together in time order\n",
    "# And also transform data into time order (single location\\)\n",
    "y_samp = pd.Series()\n",
    "X_total = []\n",
    "\n",
    "# !!! 2014-2019\n",
    "\n",
    "for i in range(2014,2019):\n",
    "    print('precip.'+str(i)+'.h5')\n",
    "    name_precip = 'precip.'+str(i)+'.h5'\n",
    "    name_sst = 'sst.'+str(i)+'.h5' \n",
    "    name_hgt = 'hgt500.'+str(i)+'.h5'\n",
    "    name_rhum = 'rhum.sig995.'+str(i)+'.h5'\n",
    "    name_tmp2m = 'tmp2m.'+str(i)+'.h5'\n",
    "    fileloc_precip = path + name_precip\n",
    "    fileloc_sst = path + name_sst\n",
    "    fileloc_hgt = path + name_hgt\n",
    "    fileloc_rhum = path + name_rhum\n",
    "    fileloc_tmp2m = path + name_tmp2m\n",
    "    precip = pd.DataFrame(pd.read_hdf(fileloc_precip)).reset_index() # precipitation\n",
    "    precip.columns = ['lat', 'lon', 'start_date', 'precip']\n",
    "    sst = pd.DataFrame(pd.read_hdf(fileloc_sst)).reset_index() # Daily sea surface temperature\n",
    "    sst.columns = ['lat', 'lon', 'start_date', 'sst']\n",
    "    hgt = pd.DataFrame(pd.read_hdf(fileloc_hgt)).reset_index() # Daily geopotential height at 10mb and 500mb\n",
    "    hgt.columns = ['lat', 'lon', 'start_date', 'hgt']\n",
    "    rhum = pd.DataFrame(pd.read_hdf(fileloc_rhum)).reset_index() # Daily relative humidity near the surface\n",
    "    rhum.columns = ['lat', 'lon', 'start_date', 'rhum']\n",
    "    tmp2m = pd.DataFrame(pd.read_hdf(fileloc_tmp2m)).reset_index() # Daily average temperature at 2 meters\n",
    "    tmp2m.columns = ['lat', 'lon', 'start_date', 'tmp2m']\n",
    "    print('original', tmp2m.shape)\n",
    "    \n",
    "    precip = pd.merge(precip, us_mask, on=['lat','lon'])\n",
    "    hgt = pd.merge(hgt, us_mask, on=['lat','lon'])\n",
    "    rhum = pd.merge(rhum, us_mask, on=['lat','lon'])\n",
    "    tmp2m = pd.merge(tmp2m, us_mask, on=['lat','lon'])\n",
    "    print('after merge', tmp2m.shape)\n",
    "    \n",
    "    hgt = np.reshape(hgt[(hgt['lat']==25.25) & (hgt['lon']==279.25)].hgt.to_numpy(),(-1,1))\n",
    "    rhum = np.reshape(rhum[(rhum['lat']==25.25) & (rhum['lon']==279.25)].rhum.to_numpy(),(-1,1))\n",
    "    tmp2m = np.reshape(tmp2m[(tmp2m['lat']==25.25) & (tmp2m['lon']==279.25)].tmp2m.to_numpy(),(-1,1))\n",
    "    print('one location', tmp2m.shape)\n",
    "    \n",
    "    y_samp = y_samp.append(precip[precip['lat']==25.25].precip,ignore_index=True)\n",
    "    \n",
    "    if i%4 == 0:\n",
    "        days = 366\n",
    "    else:\n",
    "        days = 365\n",
    "    temp = sst #sst[(sst['lat']>=24.25) & (sst['lat']<=26.25) & (sst['lon']>=278.25) & (sst['lon']<=280.25)]\n",
    "    print(temp.shape)\n",
    "    sst_samp = temp.sst.reset_index().sst.to_numpy()\n",
    "    print(sst_samp.shape)\n",
    "    size = int(len(sst_samp)/days)\n",
    "    sst_samp = np.reshape(sst_samp,(size, days)).transpose() # days as rows, different locations as columns\n",
    "    all_features = np.concatenate((sst_samp,hgt,rhum,tmp2m),axis=1)\n",
    "    print('all_features', all_features.shape)\n",
    "    X_total.append(all_features)\n",
    "    \n",
    "X_size = X_total[0].shape[1]\n",
    "X_samp = np.zeros((1,X_size)) #  For concatenating all data\n",
    "print(X_samp.shape)\n",
    "for i in range(len(X_total)):\n",
    "    X_samp = np.concatenate((X_samp,X_total[i]),axis = 0)\n",
    "X_samp = X_samp[1:]\n",
    "print(X_samp.shape)"
   ]
  },
  {
   "cell_type": "code",
   "execution_count": 3,
   "metadata": {},
   "outputs": [
    {
     "data": {
      "text/plain": [
       "(365, 169727)"
      ]
     },
     "execution_count": 3,
     "metadata": {},
     "output_type": "execute_result"
    }
   ],
   "source": [
    "sst_samp.shape"
   ]
  },
  {
   "cell_type": "code",
   "execution_count": 4,
   "metadata": {},
   "outputs": [],
   "source": [
    "X_copy = X_samp.copy()\n",
    "y_copy = y_samp.copy()\n"
   ]
  },
  {
   "cell_type": "code",
   "execution_count": 547,
   "metadata": {},
   "outputs": [],
   "source": [
    "X_samp = X_copy.copy()\n",
    "y_samp = y_copy.copy()\n",
    "target = 'precip'\n",
    "\n",
    "y_samp = X_copy[:,X_copy.shape[1]-1].copy()\n",
    "X_samp[:,X_copy.shape[1]-1] = y_copy.copy()\n",
    "target = 'tmp2m'"
   ]
  },
  {
   "cell_type": "code",
   "execution_count": 548,
   "metadata": {},
   "outputs": [
    {
     "data": {
      "text/plain": [
       "(1826, 169730)"
      ]
     },
     "execution_count": 548,
     "metadata": {},
     "output_type": "execute_result"
    }
   ],
   "source": [
    "X_samp.shape"
   ]
  },
  {
   "cell_type": "code",
   "execution_count": 549,
   "metadata": {},
   "outputs": [
    {
     "data": {
      "text/plain": [
       "[<matplotlib.lines.Line2D at 0x2b80161c670>]"
      ]
     },
     "execution_count": 549,
     "metadata": {},
     "output_type": "execute_result"
    },
    {
     "data": {
      "image/png": "[encoded data removed]",
      "text/plain": [
       "<Figure size 432x288 with 1 Axes>"
      ]
     },
     "metadata": {
      "needs_background": "light"
     },
     "output_type": "display_data"
    }
   ],
   "source": [
    "plt.plot(y_samp)"
   ]
  },
  {
   "cell_type": "code",
   "execution_count": 550,
   "metadata": {},
   "outputs": [],
   "source": [
    "avg_window = 14\n",
    "y_movavg = []\n",
    "X_movavg = []\n",
    "for i in range(y_samp.shape[0]-avg_window):\n",
    "    y_avg = np.mean(y_samp[i:i+avg_window])\n",
    "    y_movavg.append(y_avg)\n",
    "    X_avg = np.mean(X_samp[i:i+avg_window],axis=0)\n",
    "    X_movavg.append(X_avg)\n",
    "y_movavg = np.array(y_movavg)\n",
    "X_movavg = np.array(X_movavg)\n",
    "y_samp = y_movavg\n",
    "X_samp = X_movavg"
   ]
  },
  {
   "cell_type": "code",
   "execution_count": 551,
   "metadata": {},
   "outputs": [
    {
     "data": {
      "text/plain": [
       "(1812, 169730)"
      ]
     },
     "execution_count": 551,
     "metadata": {},
     "output_type": "execute_result"
    }
   ],
   "source": [
    "X_samp.shape"
   ]
  },
  {
   "cell_type": "code",
   "execution_count": 552,
   "metadata": {},
   "outputs": [],
   "source": [
    "X = X_samp.copy()\n",
    "y = y_samp.copy()"
   ]
  },
  {
   "cell_type": "code",
   "execution_count": 553,
   "metadata": {},
   "outputs": [],
   "source": [
    "train_test_split = 0.8\n",
    "test_size = int((1-train_test_split)*y_samp.shape[0])\n",
    "X_train = X[:-test_size]\n",
    "X_test = X[-test_size:]\n",
    "y_train = y[:-test_size]\n",
    "y_test = y[-test_size:]"
   ]
  },
  {
   "cell_type": "code",
   "execution_count": 554,
   "metadata": {},
   "outputs": [],
   "source": [
    "y_train = np.reshape(y_train,(-1,1))  #  Matching dimension for concatenating X and y\n",
    "y_test = np.reshape(y_test,(-1,1)) \n",
    "# train_data_array = np.concatenate((X_train,y_train),axis=1)\n",
    "# train_data = torch.FloatTensor(train_data_array)\n",
    "# y_train = torch.FloatTensor(y_train)"
   ]
  },
  {
   "cell_type": "code",
   "execution_count": 555,
   "metadata": {},
   "outputs": [
    {
     "data": {
      "text/plain": [
       "(1450, 169730)"
      ]
     },
     "execution_count": 555,
     "metadata": {},
     "output_type": "execute_result"
    }
   ],
   "source": [
    "X_train.shape"
   ]
  },
  {
   "cell_type": "code",
   "execution_count": 556,
   "metadata": {},
   "outputs": [],
   "source": [
    "# X_train[169730]"
   ]
  },
  {
   "cell_type": "code",
   "execution_count": 557,
   "metadata": {},
   "outputs": [
    {
     "data": {
      "text/plain": [
       "(1450, 1)"
      ]
     },
     "execution_count": 557,
     "metadata": {},
     "output_type": "execute_result"
    }
   ],
   "source": [
    "y_train.shape"
   ]
  },
  {
   "cell_type": "code",
   "execution_count": 543,
   "metadata": {},
   "outputs": [],
   "source": [
    "# z-score for LSTM\n",
    "\n",
    "mean = np.mean(y_train)\n",
    "std = np.std(y_train)\n",
    "y_train = (y_train-mean)/std\n",
    "\n",
    "X_train_mean_0_169727 = np.max(X_train[:,0:169727])\n",
    "X_train_std_0_169727 = np.min(X_train[:,0:169727])\n",
    "X_train[:,0:169727] = (X_train[:,0:169727] - X_train_mean_0_169727)/ X_train_std_0_169727\n",
    "\n",
    "X_train_mean_169727 = np.mean(X_train[:,169727])\n",
    "X_train_std_169727 = np.std(X_train[:,169727])\n",
    "X_train[:,169727] = (X_train[:,169727] - X_train_mean_169727)/X_train_std_169727\n",
    "\n",
    "X_train_mean_169728 = np.mean(X_train[:,169728])\n",
    "X_train_std_169728 = np.std(X_train[:,169728])\n",
    "X_train[:,169728] = (X_train[:,169728] - X_train_mean_169728)/X_train_std_169728\n",
    "\n",
    "X_train_mean_169729 = np.mean(X_train[:,169729])\n",
    "X_train_std_169729 = np.std(X_train[:,169729])\n",
    "X_train[:,169729] = (X_train[:,169729] - X_train_mean_169729)/X_train_std_169729"
   ]
  },
  {
   "cell_type": "code",
   "execution_count": 544,
   "metadata": {},
   "outputs": [],
   "source": [
    "y_test = (y_test -mean)/std\n",
    "\n",
    "X_test[:,0:169727] = (X_test[:,0:169727] - X_train_mean_0_169727)/ X_train_std_0_169727\n",
    "X_test[:,169727] = (X_test[:,169727] - X_train_mean_169727)/X_train_std_169727\n",
    "X_test[:,169728] = (X_test[:,169728] - X_train_mean_169728)/ X_train_std_169728\n",
    "X_test[:,169729] = (X_test[:,169729] - X_train_mean_169729)/X_train_std_169729"
   ]
  },
  {
   "cell_type": "code",
   "execution_count": 545,
   "metadata": {},
   "outputs": [
    {
     "name": "stdout",
     "output_type": "stream",
     "text": [
      "6.860412621132002e-17 1.0\n"
     ]
    }
   ],
   "source": [
    "print(y_train.mean(), y_train.std())\n",
    "# print(X_train.mean(), X_train.std())"
   ]
  },
  {
   "cell_type": "code",
   "execution_count": 558,
   "metadata": {},
   "outputs": [],
   "source": [
    "# use for TRANSFORMER!\n",
    "M = np.max(y_train)\n",
    "m = np.min(y_train)\n",
    "y_train = (y_train -m)/(M - m)\n",
    "\n",
    "X_train_max_0_169727 = np.max(X_train[:,0:169727])\n",
    "X_train_min_0_169727 = np.min(X_train[:,0:169727])\n",
    "X_train[:,0:169727] = (X_train[:,0:169727] - np.min(X_train[:,0:169727]))/ (np.max(X_train[:,0:169727]) - np.min(X_train[:,0:169727]))\n",
    "\n",
    "X_train_max_169727 = np.max(X_train[:,169727])\n",
    "X_train_min_169727 = np.min(X_train[:,169727])\n",
    "X_train[:,169727] = (X_train[:,169727] - np.min(X_train[:,169727]))/(np.max(X_train[:,169727]) - np.min(X_train[:,169727]))\n",
    "\n",
    "X_train_max_169728 = np.max(X_train[:,169728])\n",
    "X_train_min_169728 = np.min(X_train[:,169728])\n",
    "X_train[:,169728] = (X_train[:,169728] - np.min(X_train[:,169728]))/(np.max(X_train[:,169728]) - np.min(X_train[:,169728]))\n",
    "\n",
    "X_train_max_169729 = np.max(X_train[:,169729])\n",
    "X_train_min_169729 = np.min(X_train[:,169729])\n",
    "X_train[:,169729] = (X_train[:,169729] - np.min(X_train[:,169729]))/(np.max(X_train[:,169729]) - np.min(X_train[:,169729]))\n",
    "\n",
    "# X = X_samp.copy()\n",
    "# y = y_samp.copy()"
   ]
  },
  {
   "cell_type": "code",
   "execution_count": 559,
   "metadata": {},
   "outputs": [
    {
     "data": {
      "text/plain": [
       "36.014642170497346"
      ]
     },
     "execution_count": 559,
     "metadata": {},
     "output_type": "execute_result"
    }
   ],
   "source": [
    "X_train_max_0_169727"
   ]
  },
  {
   "cell_type": "code",
   "execution_count": 560,
   "metadata": {},
   "outputs": [
    {
     "name": "stdout",
     "output_type": "stream",
     "text": [
      "1.0 0.0\n",
      "1.0 0.0\n"
     ]
    }
   ],
   "source": [
    "print(y_train.max(), y_train.min())\n",
    "print(X_train.max(), X_train.min())"
   ]
  },
  {
   "cell_type": "code",
   "execution_count": 561,
   "metadata": {},
   "outputs": [],
   "source": [
    "y_test = (y_test -m)/(M - m)"
   ]
  },
  {
   "cell_type": "code",
   "execution_count": 562,
   "metadata": {},
   "outputs": [],
   "source": [
    "X_test[:,0:169727] = (X_test[:,0:169727] - X_train_min_0_169727)/ (X_train_max_0_169727 - X_train_min_0_169727)\n",
    "X_test[:,169727] = (X_test[:,169727] - X_train_min_169727)/(X_train_max_169727 - X_train_min_169727)\n",
    "X_test[:,169728] = (X_test[:,169728] - X_train_min_169728)/ (X_train_max_169728 - X_train_min_169728)\n",
    "X_test[:,169729] = (X_test[:,169729] - X_train_min_169729)/(X_train_max_169729 - X_train_min_169729)"
   ]
  },
  {
   "cell_type": "code",
   "execution_count": 563,
   "metadata": {},
   "outputs": [
    {
     "name": "stdout",
     "output_type": "stream",
     "text": [
      "0.9457259191180264 0.0913835395672233\n",
      "0.965439690968835 -0.14097714415013957\n"
     ]
    }
   ],
   "source": [
    "print(y_test.max(), y_test.min())\n",
    "print(X_test.max(), X_test.min())"
   ]
  },
  {
   "cell_type": "code",
   "execution_count": null,
   "metadata": {},
   "outputs": [],
   "source": []
  },
  {
   "cell_type": "markdown",
   "metadata": {},
   "source": [
    "Use after normalization"
   ]
  },
  {
   "cell_type": "code",
   "execution_count": 564,
   "metadata": {},
   "outputs": [],
   "source": [
    "train_data_array = np.concatenate((X_train,y_train),axis=1)"
   ]
  },
  {
   "cell_type": "code",
   "execution_count": 565,
   "metadata": {},
   "outputs": [
    {
     "data": {
      "text/plain": [
       "(1450, 169731)"
      ]
     },
     "execution_count": 565,
     "metadata": {},
     "output_type": "execute_result"
    }
   ],
   "source": [
    "train_data_array.shape"
   ]
  },
  {
   "cell_type": "code",
   "execution_count": 566,
   "metadata": {},
   "outputs": [],
   "source": [
    "from sklearn.decomposition import PCA"
   ]
  },
  {
   "cell_type": "code",
   "execution_count": 567,
   "metadata": {},
   "outputs": [],
   "source": [
    "sst_data_train = train_data_array[:, 0:169727]\n",
    "sst_data_test = X_test[:, 0:169727]"
   ]
  },
  {
   "cell_type": "code",
   "execution_count": 568,
   "metadata": {},
   "outputs": [
    {
     "data": {
      "text/plain": [
       "(1450, 169727)"
      ]
     },
     "execution_count": 568,
     "metadata": {},
     "output_type": "execute_result"
    }
   ],
   "source": [
    "sst_data_train.shape"
   ]
  },
  {
   "cell_type": "code",
   "execution_count": 569,
   "metadata": {},
   "outputs": [],
   "source": [
    "num_pc = 1\n",
    "pca = PCA(num_pc)\n",
    "sst_data_train_500 = pca.fit_transform(sst_data_train)"
   ]
  },
  {
   "cell_type": "code",
   "execution_count": 570,
   "metadata": {},
   "outputs": [
    {
     "data": {
      "text/plain": [
       "(1450, 1)"
      ]
     },
     "execution_count": 570,
     "metadata": {},
     "output_type": "execute_result"
    }
   ],
   "source": [
    "sst_data_train_500.shape"
   ]
  },
  {
   "cell_type": "code",
   "execution_count": 571,
   "metadata": {},
   "outputs": [],
   "source": [
    "sst_data_test_500 = pca.transform(sst_data_test)"
   ]
  },
  {
   "cell_type": "code",
   "execution_count": 572,
   "metadata": {},
   "outputs": [
    {
     "data": {
      "text/plain": [
       "(362, 1)"
      ]
     },
     "execution_count": 572,
     "metadata": {},
     "output_type": "execute_result"
    }
   ],
   "source": [
    "sst_data_test_500.shape"
   ]
  },
  {
   "cell_type": "code",
   "execution_count": 573,
   "metadata": {},
   "outputs": [
    {
     "data": {
      "text/plain": [
       "(1450, 4)"
      ]
     },
     "execution_count": 573,
     "metadata": {},
     "output_type": "execute_result"
    }
   ],
   "source": [
    "train_data_array[:, -4:].shape"
   ]
  },
  {
   "cell_type": "code",
   "execution_count": 574,
   "metadata": {},
   "outputs": [
    {
     "data": {
      "text/plain": [
       "array([4, 5])"
      ]
     },
     "execution_count": 574,
     "metadata": {},
     "output_type": "execute_result"
    }
   ],
   "source": [
    "a = [1,2, 3, 4, 5]\n",
    "a = np.array(a)\n",
    "a[-2:]"
   ]
  },
  {
   "cell_type": "code",
   "execution_count": 575,
   "metadata": {},
   "outputs": [],
   "source": [
    "# create new X and Y with pca features \n",
    "\n",
    "train_data_array_new = np.concatenate((sst_data_train_500, train_data_array[:, -4:]), axis=1)"
   ]
  },
  {
   "cell_type": "code",
   "execution_count": 576,
   "metadata": {},
   "outputs": [
    {
     "data": {
      "text/plain": [
       "(1450, 5)"
      ]
     },
     "execution_count": 576,
     "metadata": {},
     "output_type": "execute_result"
    }
   ],
   "source": [
    "train_data_array_new.shape"
   ]
  },
  {
   "cell_type": "code",
   "execution_count": 577,
   "metadata": {},
   "outputs": [
    {
     "data": {
      "text/plain": [
       "(362, 4)"
      ]
     },
     "execution_count": 577,
     "metadata": {},
     "output_type": "execute_result"
    }
   ],
   "source": [
    "test_data_new = np.concatenate((sst_data_test_500, X_test[:, -3:]), axis=1)\n",
    "test_data_new.shape"
   ]
  },
  {
   "cell_type": "code",
   "execution_count": 578,
   "metadata": {},
   "outputs": [
    {
     "data": {
      "text/plain": [
       "array([[0.35364852],\n",
       "       [0.31931425],\n",
       "       [0.25282873]])"
      ]
     },
     "execution_count": 578,
     "metadata": {},
     "output_type": "execute_result"
    }
   ],
   "source": [
    "y_train[:3]"
   ]
  },
  {
   "cell_type": "code",
   "execution_count": 579,
   "metadata": {},
   "outputs": [
    {
     "data": {
      "text/plain": [
       "array([0.35364852, 0.31931425, 0.25282873])"
      ]
     },
     "execution_count": 579,
     "metadata": {},
     "output_type": "execute_result"
    }
   ],
   "source": [
    "train_data_array_new[:3, -1]"
   ]
  },
  {
   "cell_type": "code",
   "execution_count": 580,
   "metadata": {},
   "outputs": [],
   "source": [
    "train_data = torch.FloatTensor(train_data_array_new)\n",
    "y_train = torch.FloatTensor(y_train)"
   ]
  },
  {
   "cell_type": "code",
   "execution_count": 581,
   "metadata": {},
   "outputs": [],
   "source": [
    "import os\n",
    "# os.environ['CUDA_VISIBLE_DEVICES'] = \"0\"\n",
    "device = torch.device(\"cuda\" if torch.cuda.is_available() else \"cpu\")\n",
    "train_data = train_data.to(device)\n",
    "y_train = y_train.to(device)"
   ]
  },
  {
   "cell_type": "code",
   "execution_count": 582,
   "metadata": {},
   "outputs": [
    {
     "data": {
      "text/plain": [
       "device(type='cuda')"
      ]
     },
     "execution_count": 582,
     "metadata": {},
     "output_type": "execute_result"
    }
   ],
   "source": [
    "device"
   ]
  },
  {
   "cell_type": "code",
   "execution_count": 583,
   "metadata": {},
   "outputs": [],
   "source": [
    "def create_sequence(input_data, train_window, pred_window):  #  Create sequences of observations for training\n",
    "    seq = []\n",
    "    L = len(input_data)\n",
    "    feature_size = input_data[0].shape[0]\n",
    "    print('feature_size', feature_size)\n",
    "    for i in range(L - train_window-pred_window):\n",
    "        train_seq = input_data[i:i+train_window]\n",
    "        train_label = input_data[i+train_window+pred_window-1,feature_size-1] # get y_t+14\n",
    "#         train_label = input_data[i + train_window + pred_window]\n",
    "        seq.append((train_seq ,train_label))\n",
    "        \n",
    "    print('train_seq, train_label', train_seq.shape, train_label.shape)\n",
    "    return seq"
   ]
  },
  {
   "cell_type": "code",
   "execution_count": 584,
   "metadata": {},
   "outputs": [
    {
     "name": "stdout",
     "output_type": "stream",
     "text": [
      "feature_size 5\n",
      "train_seq, train_label torch.Size([90, 5]) torch.Size([])\n"
     ]
    }
   ],
   "source": [
    "train_window = 90\n",
    "pred_window = 28\n",
    "train_seq = create_sequence(train_data, train_window, pred_window)"
   ]
  },
  {
   "cell_type": "code",
   "execution_count": 585,
   "metadata": {},
   "outputs": [],
   "source": [
    "class LSTM(nn.Module):\n",
    "    def __init__(self, input_size=1, hidden_layer_size=100, num_layers=1, output_size=1):\n",
    "        super().__init__()\n",
    "        self.hidden_layer_size = hidden_layer_size\n",
    "\n",
    "        self.num_layers = num_layers\n",
    "        \n",
    "        self.lstm = nn.LSTM(input_size, hidden_layer_size, num_layers)\n",
    "\n",
    "        self.linear = nn.Linear(hidden_layer_size, output_size)\n",
    "\n",
    "        self.hidden_cell = (torch.zeros(num_layers,1,self.hidden_layer_size),\n",
    "                            torch.zeros(num_layers,1,self.hidden_layer_size))\n",
    "\n",
    "    def forward(self, input_seq):\n",
    "        lstm_out, self.hidden_cell = self.lstm(input_seq.view(len(input_seq) ,1, -1), self.hidden_cell)\n",
    "        predictions = self.linear(lstm_out.view(len(input_seq), -1))\n",
    "        out = torch.sigmoid(predictions)\n",
    "        return out[-1]"
   ]
  },
  {
   "cell_type": "code",
   "execution_count": 586,
   "metadata": {},
   "outputs": [
    {
     "data": {
      "text/plain": [
       "4"
      ]
     },
     "execution_count": 586,
     "metadata": {},
     "output_type": "execute_result"
    }
   ],
   "source": [
    "X_size = train_data_array_new.shape[1]-1\n",
    "X_size"
   ]
  },
  {
   "cell_type": "code",
   "execution_count": 602,
   "metadata": {},
   "outputs": [],
   "source": [
    "model = LSTM(input_size=X_size+1, hidden_layer_size=100, num_layers=1, output_size=1).to(device) # 2 features from X_obs and 1 from y_obs\n",
    "loss_function = nn.MSELoss()\n",
    "optimizer = torch.optim.Adam(model.parameters(), lr=0.001)"
   ]
  },
  {
   "cell_type": "code",
   "execution_count": 603,
   "metadata": {},
   "outputs": [
    {
     "name": "stdout",
     "output_type": "stream",
     "text": [
      "epoch:   1 loss: 0.00612589\n",
      "epoch:  11 loss: 0.00039708\n",
      "epoch:  21 loss: 0.01032388\n",
      "epoch:  31 loss: 0.00998592\n",
      "epoch:  41 loss: 0.01349311\n",
      "epoch:  51 loss: 0.00431490\n",
      "epoch:  61 loss: 0.01299427\n",
      "epoch:  71 loss: 0.00309329\n",
      "epoch:  81 loss: 0.00074107\n",
      "epoch:  91 loss: 0.00018216\n",
      "epoch:  99 loss: 0.0001656664\n",
      "Total training time: 379.78913680000005\n"
     ]
    }
   ],
   "source": [
    "epochs = 100\n",
    "#  Training the model\n",
    "t0 = perf_counter()\n",
    "\n",
    "for i in range(epochs):\n",
    "    for seq, labels in train_seq:\n",
    "        optimizer.zero_grad() # num layers, batch size, hidden dim\n",
    "        model.hidden_cell = (torch.zeros(model.num_layers, 1, model.hidden_layer_size).to(device),\n",
    "                        torch.zeros(model.num_layers, 1, model.hidden_layer_size).to(device))\n",
    "\n",
    "        pred = model(seq) # input shoulf be batch size, seq length, input dim\n",
    "        labels = torch.reshape(labels,(-1,))  #  Match size to avoid warning\n",
    "        single_loss = loss_function(pred, labels)\n",
    "        single_loss.backward()\n",
    "        optimizer.step()   \n",
    "                \n",
    "    if i%10 == 1:\n",
    "        print(f'epoch: {i:3} loss: {single_loss.item():10.8f}')\n",
    "#     print(f'epoch: {i:3} loss: {single_loss.item():10.8f}')\n",
    "    \n",
    "print(f'epoch: {i:3} loss: {single_loss.item():10.10f}')\n",
    "t1 = perf_counter()\n",
    "train_time = t1 - t0\n",
    "print(f'Total training time: {train_time}')"
   ]
  },
  {
   "cell_type": "code",
   "execution_count": 604,
   "metadata": {},
   "outputs": [],
   "source": [
    "# Predicting t+1\n",
    "test_data = np.concatenate((test_data_new, y_test),axis=1)\n",
    "\n",
    "train_test_total = np.concatenate((train_data_array_new, test_data))\n",
    "\n",
    "model.eval()\n",
    "num_pred = 1 #  Number of prediction forward, i.e. tau\n",
    "res = np.zeros(train_window).tolist()\n",
    "#  Predicting y using X_test and y_test\n",
    "for i in range(train_test_total.shape[0]-train_window):\n",
    "    for j in range(num_pred):\n",
    "        seq = torch.FloatTensor(train_test_total[i:i+train_window]).to(device)\n",
    "        #print(seq)\n",
    "        with torch.no_grad():\n",
    "            model.hidden = (torch.zeros(model.num_layers, 1, model.hidden_layer_size).to(device),\n",
    "                            torch.zeros(model.num_layers, 1, model.hidden_layer_size).to(device))\n",
    "            #print(model(seq))\n",
    "            pred = model(seq).cpu()\n",
    "            #print(len(test_inputs))\n",
    "            res.append(pred)\n",
    "res = np.array(res)"
   ]
  },
  {
   "cell_type": "code",
   "execution_count": 605,
   "metadata": {},
   "outputs": [
    {
     "data": {
      "text/plain": [
       "(1812,)"
      ]
     },
     "execution_count": 605,
     "metadata": {},
     "output_type": "execute_result"
    }
   ],
   "source": [
    "y_samp.shape"
   ]
  },
  {
   "cell_type": "code",
   "execution_count": 606,
   "metadata": {},
   "outputs": [],
   "source": [
    "# y_test"
   ]
  },
  {
   "cell_type": "code",
   "execution_count": 607,
   "metadata": {},
   "outputs": [],
   "source": [
    "y_normed = np.concatenate((y_train.cpu(), y_test))"
   ]
  },
  {
   "cell_type": "code",
   "execution_count": 608,
   "metadata": {},
   "outputs": [
    {
     "name": "stdout",
     "output_type": "stream",
     "text": [
      "r-sq on train: 0.3980426334462237\n",
      "r-sq on test: 0.12260427784725247\n",
      "cosine_similarity on train: [[0.96677873]]\n",
      "cosine_similarity on test: [[0.94153798]]\n"
     ]
    },
    {
     "data": {
      "image/png": "[encoded data removed]",
      "text/plain": [
       "<Figure size 1080x360 with 1 Axes>"
      ]
     },
     "metadata": {
      "needs_background": "light"
     },
     "output_type": "display_data"
    }
   ],
   "source": [
    "# train window 90 \n",
    "y_train = y_train.cpu()\n",
    "\n",
    "print('r-sq on train:', r2_score(y_normed[train_window+pred_window:-test_size], res[train_window:-test_size-pred_window]))\n",
    "print('r-sq on test:', r2_score(y_normed[-test_size:],  res[-test_size-pred_window:-pred_window]))\n",
    "print('cosine_similarity on train:', cosine_similarity(y_normed[train_window+pred_window:-test_size].reshape((1,-1)), res[train_window:-test_size-pred_window].reshape((1,-1))))\n",
    "print('cosine_similarity on test:', cosine_similarity(y_normed[-test_size:].reshape((1,-1)),  res[-test_size-pred_window:-pred_window].reshape((1,-1))))\n",
    "plt.figure(figsize=(15,5))\n",
    "plt.plot(y_normed[train_window+pred_window:],label='Observed')\n",
    "plt.plot(res[train_window:-pred_window],label='Predicted')\n",
    "plt.legend()\n",
    "plt.xlabel('From January 1st 2014 to Dec 31st 2018')\n",
    "plt.ylabel(target)\n",
    "plt.title('Simple LSTM with 1 hidden layer and 100 neurons per layer, target only')\n",
    "plt.axvline(x=res.shape[0] - test_size-train_window,c='black');\n",
    "testname = 'results/LSTM_PCA_'+str(num_pc)+'.png'\n",
    "plt.savefig(testname)"
   ]
  },
  {
   "cell_type": "code",
   "execution_count": 594,
   "metadata": {},
   "outputs": [],
   "source": [
    "from torch.utils.data import Dataset, DataLoader\n",
    "\n",
    "class SeqDataset(Dataset):\n",
    "    def __init__(self, seq_data, transform=None):\n",
    "        \n",
    "        self.seq_data = seq_data\n",
    "        self.x = []\n",
    "        self.y = []\n",
    "        for i in range(len(self.seq_data)):\n",
    "            self.x.append(self.seq_data[i][0])\n",
    "            self.y.append(self.seq_data[i][1])\n",
    "\n",
    "    def __getitem__(self, idx):\n",
    "        if torch.is_tensor(idx):\n",
    "            idx = idx.tolist()\n",
    "\n",
    "        return (self.x[idx], self.y[idx])\n",
    "\n",
    "    def __len__(self):\n",
    "        return len(train_seq) #self._x.shape[0]"
   ]
  },
  {
   "cell_type": "code",
   "execution_count": 595,
   "metadata": {},
   "outputs": [],
   "source": [
    "dataset_train = SeqDataset(train_seq)\n",
    "dataloader_train = DataLoader(dataset_train,\n",
    "                              batch_size=32,\n",
    "                              shuffle=False,\n",
    "                              num_workers=0,\n",
    "                              pin_memory=False\n",
    "                             )"
   ]
  },
  {
   "cell_type": "code",
   "execution_count": 596,
   "metadata": {},
   "outputs": [],
   "source": [
    "d_input = train_data_array_new.shape[1] # From dataset\n",
    "d_output = 1 # From dataset\n",
    "\n",
    "attention_size = 8\n",
    "LR = 1e-4 #1e-3\n",
    "d_model = 64\n",
    "q = 8 # Query size\n",
    "v = 8 # Value size\n",
    "h = 8 # Number of heads\n",
    "N = 4 # Number of encoder and decoder to stack\n",
    "dropout = 0.2 # Dropout rate\n",
    "# pe = 'original' # Positional encoding\n",
    "chunk_mode = None\n",
    "net = Transformer(d_input, d_model, d_output, q, v, h, N, attention_size=attention_size, \n",
    "                  dropout=dropout, chunk_mode=chunk_mode, pe='regular', pe_period=2, seq_length=90).to(device)\n",
    "# net = nn.Sequential(Transformer(d_input, d_model, d_output, q, v, h, N, attention_size=attention_size, \n",
    "#                   dropout=dropout, chunk_mode=chunk_mode, pe=pe),\n",
    "#                     nn.Flatten(),\n",
    "#                     nn.Linear(30, 1),\n",
    "#                    ).to(device)\n",
    "optimizer = optim.Adam(net.parameters(), lr=LR)\n",
    "loss_function = nn.MSELoss() #OZELoss(alpha=0.3)"
   ]
  },
  {
   "cell_type": "code",
   "execution_count": 597,
   "metadata": {},
   "outputs": [
    {
     "data": {
      "text/plain": [
       "torch.Size([20, 1])"
      ]
     },
     "execution_count": 597,
     "metadata": {},
     "output_type": "execute_result"
    }
   ],
   "source": [
    "y_label.shape"
   ]
  },
  {
   "cell_type": "code",
   "execution_count": 598,
   "metadata": {},
   "outputs": [
    {
     "data": {
      "text/plain": [
       "torch.Size([20, 1])"
      ]
     },
     "execution_count": 598,
     "metadata": {},
     "output_type": "execute_result"
    }
   ],
   "source": [
    "netout.shape"
   ]
  },
  {
   "cell_type": "code",
   "execution_count": 599,
   "metadata": {},
   "outputs": [
    {
     "name": "stderr",
     "output_type": "stream",
     "text": [
      "[Epoch   1/100]: 100%|██████████| 1332/1332 [00:01<00:00, 688.43it/s, loss=0.0373]\n",
      "[Epoch   2/100]: 100%|██████████| 1332/1332 [00:01<00:00, 683.76it/s, loss=0.027] \n",
      "[Epoch   3/100]: 100%|██████████| 1332/1332 [00:01<00:00, 685.06it/s, loss=0.0249]\n",
      "[Epoch   4/100]: 100%|██████████| 1332/1332 [00:01<00:00, 697.76it/s, loss=0.0197]\n",
      "[Epoch   5/100]: 100%|██████████| 1332/1332 [00:01<00:00, 688.77it/s, loss=0.0175]\n",
      "[Epoch   6/100]: 100%|██████████| 1332/1332 [00:01<00:00, 699.96it/s, loss=0.0171]\n",
      "[Epoch   7/100]: 100%|██████████| 1332/1332 [00:01<00:00, 699.59it/s, loss=0.0195]\n",
      "[Epoch   8/100]: 100%|██████████| 1332/1332 [00:01<00:00, 697.76it/s, loss=0.0167]\n",
      "[Epoch   9/100]: 100%|██████████| 1332/1332 [00:01<00:00, 681.21it/s, loss=0.0161]\n",
      "[Epoch  10/100]: 100%|██████████| 1332/1332 [00:01<00:00, 698.86it/s, loss=0.0152]\n",
      "[Epoch  11/100]: 100%|██████████| 1332/1332 [00:01<00:00, 697.04it/s, loss=0.0146]\n",
      "[Epoch  12/100]: 100%|██████████| 1332/1332 [00:01<00:00, 685.59it/s, loss=0.0132]\n",
      "[Epoch  13/100]: 100%|██████████| 1332/1332 [00:01<00:00, 677.58it/s, loss=0.0137]\n",
      "[Epoch  14/100]: 100%|██████████| 1332/1332 [00:01<00:00, 693.24it/s, loss=0.013] \n",
      "[Epoch  15/100]: 100%|██████████| 1332/1332 [00:01<00:00, 696.72it/s, loss=0.013] \n",
      "[Epoch  16/100]: 100%|██████████| 1332/1332 [00:01<00:00, 701.06it/s, loss=0.0126]\n",
      "[Epoch  17/100]: 100%|██████████| 1332/1332 [00:01<00:00, 695.58it/s, loss=0.0123]\n",
      "[Epoch  18/100]: 100%|██████████| 1332/1332 [00:01<00:00, 704.02it/s, loss=0.0123]\n",
      "[Epoch  19/100]: 100%|██████████| 1332/1332 [00:01<00:00, 684.53it/s, loss=0.0129]\n",
      "[Epoch  20/100]: 100%|██████████| 1332/1332 [00:01<00:00, 701.43it/s, loss=0.0132]\n",
      "[Epoch  21/100]: 100%|██████████| 1332/1332 [00:01<00:00, 695.95it/s, loss=0.0123]\n",
      "[Epoch  22/100]: 100%|██████████| 1332/1332 [00:01<00:00, 699.23it/s, loss=0.0116]\n",
      "[Epoch  23/100]: 100%|██████████| 1332/1332 [00:01<00:00, 699.23it/s, loss=0.0119]\n",
      "[Epoch  24/100]: 100%|██████████| 1332/1332 [00:01<00:00, 697.04it/s, loss=0.0117]\n",
      "[Epoch  25/100]: 100%|██████████| 1332/1332 [00:01<00:00, 701.03it/s, loss=0.0109] \n",
      "[Epoch  26/100]: 100%|██████████| 1332/1332 [00:01<00:00, 700.33it/s, loss=0.0106] \n",
      "[Epoch  27/100]: 100%|██████████| 1332/1332 [00:01<00:00, 703.65it/s, loss=0.0115]\n",
      "[Epoch  28/100]: 100%|██████████| 1332/1332 [00:01<00:00, 680.69it/s, loss=0.0113]\n",
      "[Epoch  29/100]: 100%|██████████| 1332/1332 [00:01<00:00, 698.50it/s, loss=0.00961]\n",
      "[Epoch  30/100]: 100%|██████████| 1332/1332 [00:01<00:00, 693.78it/s, loss=0.011] \n",
      "[Epoch  31/100]: 100%|██████████| 1332/1332 [00:01<00:00, 700.69it/s, loss=0.00982]\n",
      "[Epoch  32/100]: 100%|██████████| 1332/1332 [00:01<00:00, 700.50it/s, loss=0.0143]\n",
      "[Epoch  33/100]: 100%|██████████| 1332/1332 [00:01<00:00, 702.17it/s, loss=0.0136]\n",
      "[Epoch  34/100]: 100%|██████████| 1332/1332 [00:01<00:00, 700.32it/s, loss=0.0106] \n",
      "[Epoch  35/100]: 100%|██████████| 1332/1332 [00:01<00:00, 693.42it/s, loss=0.0141]\n",
      "[Epoch  36/100]: 100%|██████████| 1332/1332 [00:01<00:00, 682.78it/s, loss=0.0129]\n",
      "[Epoch  37/100]: 100%|██████████| 1332/1332 [00:01<00:00, 687.35it/s, loss=0.0114]\n",
      "[Epoch  38/100]: 100%|██████████| 1332/1332 [00:01<00:00, 685.41it/s, loss=0.0112]\n",
      "[Epoch  39/100]: 100%|██████████| 1332/1332 [00:01<00:00, 687.70it/s, loss=0.011] \n",
      "[Epoch  40/100]: 100%|██████████| 1332/1332 [00:01<00:00, 699.23it/s, loss=0.0117]\n",
      "[Epoch  41/100]: 100%|██████████| 1332/1332 [00:01<00:00, 695.58it/s, loss=0.011] \n",
      "[Epoch  42/100]: 100%|██████████| 1332/1332 [00:01<00:00, 690.90it/s, loss=0.011] \n",
      "[Epoch  43/100]: 100%|██████████| 1332/1332 [00:01<00:00, 694.50it/s, loss=0.0102] \n",
      "[Epoch  44/100]: 100%|██████████| 1332/1332 [00:01<00:00, 693.23it/s, loss=0.00974]\n",
      "[Epoch  45/100]: 100%|██████████| 1332/1332 [00:01<00:00, 697.04it/s, loss=0.0124]\n",
      "[Epoch  46/100]: 100%|██████████| 1332/1332 [00:01<00:00, 687.70it/s, loss=0.00972]\n",
      "[Epoch  47/100]: 100%|██████████| 1332/1332 [00:01<00:00, 676.90it/s, loss=0.0103] \n",
      "[Epoch  48/100]: 100%|██████████| 1332/1332 [00:01<00:00, 697.04it/s, loss=0.00925]\n",
      "[Epoch  49/100]: 100%|██████████| 1332/1332 [00:01<00:00, 701.80it/s, loss=0.00963]\n",
      "[Epoch  50/100]: 100%|██████████| 1332/1332 [00:01<00:00, 698.34it/s, loss=0.00921]\n",
      "[Epoch  51/100]: 100%|██████████| 1332/1332 [00:01<00:00, 698.49it/s, loss=0.00937]\n",
      "[Epoch  52/100]: 100%|██████████| 1332/1332 [00:01<00:00, 699.99it/s, loss=0.00928]\n",
      "[Epoch  53/100]: 100%|██████████| 1332/1332 [00:01<00:00, 696.02it/s, loss=0.00915]\n",
      "[Epoch  54/100]: 100%|██████████| 1332/1332 [00:01<00:00, 695.22it/s, loss=0.00918]\n",
      "[Epoch  55/100]: 100%|██████████| 1332/1332 [00:01<00:00, 684.18it/s, loss=0.00942]\n",
      "[Epoch  56/100]: 100%|██████████| 1332/1332 [00:01<00:00, 672.13it/s, loss=0.00937]\n",
      "[Epoch  57/100]: 100%|██████████| 1332/1332 [00:01<00:00, 676.38it/s, loss=0.00917]\n",
      "[Epoch  58/100]: 100%|██████████| 1332/1332 [00:01<00:00, 687.35it/s, loss=0.00891]\n",
      "[Epoch  59/100]: 100%|██████████| 1332/1332 [00:01<00:00, 678.96it/s, loss=0.00876]\n",
      "[Epoch  60/100]: 100%|██████████| 1332/1332 [00:02<00:00, 665.26it/s, loss=0.00923]\n",
      "[Epoch  61/100]: 100%|██████████| 1332/1332 [00:01<00:00, 674.85it/s, loss=0.00898]\n",
      "[Epoch  62/100]: 100%|██████████| 1332/1332 [00:01<00:00, 669.60it/s, loss=0.00895]\n",
      "[Epoch  63/100]: 100%|██████████| 1332/1332 [00:01<00:00, 668.70it/s, loss=0.00883]\n",
      "[Epoch  64/100]: 100%|██████████| 1332/1332 [00:01<00:00, 680.56it/s, loss=0.00903]\n",
      "[Epoch  65/100]: 100%|██████████| 1332/1332 [00:01<00:00, 681.04it/s, loss=0.0095] \n",
      "[Epoch  66/100]: 100%|██████████| 1332/1332 [00:01<00:00, 688.05it/s, loss=0.00957]\n",
      "[Epoch  67/100]: 100%|██████████| 1332/1332 [00:01<00:00, 684.36it/s, loss=0.0094] \n",
      "[Epoch  68/100]: 100%|██████████| 1332/1332 [00:01<00:00, 681.39it/s, loss=0.00877]\n",
      "[Epoch  69/100]: 100%|██████████| 1332/1332 [00:01<00:00, 685.58it/s, loss=0.00901]\n",
      "[Epoch  70/100]: 100%|██████████| 1332/1332 [00:01<00:00, 681.91it/s, loss=0.00861]\n",
      "[Epoch  71/100]: 100%|██████████| 1332/1332 [00:01<00:00, 678.28it/s, loss=0.00834]\n",
      "[Epoch  72/100]: 100%|██████████| 1332/1332 [00:01<00:00, 686.65it/s, loss=0.00867]\n",
      "[Epoch  73/100]: 100%|██████████| 1332/1332 [00:01<00:00, 677.76it/s, loss=0.00851]\n",
      "[Epoch  74/100]: 100%|██████████| 1332/1332 [00:01<00:00, 675.87it/s, loss=0.0089] \n",
      "[Epoch  75/100]: 100%|██████████| 1332/1332 [00:01<00:00, 684.88it/s, loss=0.00909]\n",
      "[Epoch  76/100]: 100%|██████████| 1332/1332 [00:01<00:00, 677.07it/s, loss=0.00871]\n",
      "[Epoch  77/100]: 100%|██████████| 1332/1332 [00:01<00:00, 673.15it/s, loss=0.00845]\n",
      "[Epoch  78/100]: 100%|██████████| 1332/1332 [00:01<00:00, 711.52it/s, loss=0.00839]\n",
      "[Epoch  79/100]: 100%|██████████| 1332/1332 [00:01<00:00, 667.26it/s, loss=0.00831]\n",
      "[Epoch  80/100]: 100%|██████████| 1332/1332 [00:01<00:00, 685.23it/s, loss=0.00839]\n",
      "[Epoch  81/100]: 100%|██████████| 1332/1332 [00:01<00:00, 685.94it/s, loss=0.00857]\n",
      "[Epoch  82/100]: 100%|██████████| 1332/1332 [00:01<00:00, 692.70it/s, loss=0.00856]\n",
      "[Epoch  83/100]: 100%|██████████| 1332/1332 [00:01<00:00, 686.82it/s, loss=0.00827]\n",
      "[Epoch  84/100]: 100%|██████████| 1332/1332 [00:01<00:00, 681.39it/s, loss=0.00841]\n",
      "[Epoch  85/100]: 100%|██████████| 1332/1332 [00:02<00:00, 665.93it/s, loss=0.00837]\n",
      "[Epoch  86/100]: 100%|██████████| 1332/1332 [00:01<00:00, 668.10it/s, loss=0.0088] \n",
      "[Epoch  87/100]: 100%|██████████| 1332/1332 [00:01<00:00, 673.99it/s, loss=0.00818]\n",
      "[Epoch  88/100]: 100%|██████████| 1332/1332 [00:01<00:00, 687.10it/s, loss=0.00828]\n",
      "[Epoch  89/100]: 100%|██████████| 1332/1332 [00:01<00:00, 679.48it/s, loss=0.00809]\n",
      "[Epoch  90/100]: 100%|██████████| 1332/1332 [00:01<00:00, 667.43it/s, loss=0.0082] \n",
      "[Epoch  91/100]: 100%|██████████| 1332/1332 [00:01<00:00, 688.94it/s, loss=0.00816]\n",
      "[Epoch  92/100]: 100%|██████████| 1332/1332 [00:01<00:00, 684.88it/s, loss=0.00826]\n",
      "[Epoch  93/100]: 100%|██████████| 1332/1332 [00:01<00:00, 688.41it/s, loss=0.00834]\n",
      "[Epoch  94/100]: 100%|██████████| 1332/1332 [00:01<00:00, 685.23it/s, loss=0.00804]\n",
      "[Epoch  95/100]: 100%|██████████| 1332/1332 [00:01<00:00, 686.11it/s, loss=0.008]  \n",
      "[Epoch  96/100]: 100%|██████████| 1332/1332 [00:01<00:00, 681.39it/s, loss=0.0102] \n",
      "[Epoch  97/100]: 100%|██████████| 1332/1332 [00:01<00:00, 691.98it/s, loss=0.0102] \n",
      "[Epoch  98/100]: 100%|██████████| 1332/1332 [00:01<00:00, 691.26it/s, loss=0.00858]\n",
      "[Epoch  99/100]: 100%|██████████| 1332/1332 [00:01<00:00, 675.36it/s, loss=0.00831]\n",
      "[Epoch 100/100]: 100%|██████████| 1332/1332 [00:01<00:00, 684.53it/s, loss=0.0085] \n"
     ]
    },
    {
     "data": {
      "text/plain": [
       "<matplotlib.legend.Legend at 0x2b8a94a3970>"
      ]
     },
     "execution_count": 599,
     "metadata": {},
     "output_type": "execute_result"
    },
    {
     "data": {
      "image/png": "[encoded data removed]",
      "text/plain": [
       "<Figure size 432x288 with 1 Axes>"
      ]
     },
     "metadata": {
      "needs_background": "light"
     },
     "output_type": "display_data"
    }
   ],
   "source": [
    "EPOCHS = 100\n",
    "hist_loss = np.zeros(EPOCHS)\n",
    "hist_loss_val = np.zeros(EPOCHS)\n",
    "\n",
    "for idx_epoch in range(EPOCHS):\n",
    "    running_loss = 0\n",
    "    with tqdm(total=len(train_seq), desc=f\"[Epoch {idx_epoch+1:3d}/{EPOCHS}]\") as pbar:\n",
    "        for idx_batch, (x, y_label) in enumerate(dataloader_train):\n",
    "#             x = x.unsqueeze(0)\n",
    "            y_label = y_label.view(-1,1)\n",
    "            optimizer.zero_grad()\n",
    "\n",
    "            # Propagate input\n",
    "            netout = net(x.to(device))\n",
    "\n",
    "            # Compute loss\n",
    "#             print(netout, y)\n",
    "            loss = loss_function(y_label.to(device), netout)\n",
    "\n",
    "            # Backpropage loss\n",
    "            loss.backward()\n",
    "\n",
    "            # Update weights\n",
    "            optimizer.step()\n",
    "\n",
    "            running_loss += loss.item()\n",
    "            pbar.set_postfix({'loss': running_loss/(idx_batch+1)})\n",
    "            pbar.update(x.shape[0])\n",
    "                \n",
    "#         scheduler.step()    \n",
    "        train_loss = running_loss/len(dataloader_train)\n",
    "#         print('pred, target', netout, y)\n",
    "#         val_loss = compute_loss(net, dataloader_val, loss_function, device).item()\n",
    "#         pbar.set_postfix({'loss': train_loss, 'val_loss': val_loss})\n",
    "        pbar.set_postfix({'loss': train_loss})\n",
    "\n",
    "        hist_loss[idx_epoch] = train_loss\n",
    "#         hist_loss_val[idx_epoch] = val_loss\n",
    "\n",
    "#         if val_loss < val_loss_best:\n",
    "#             val_loss_best = val_loss\n",
    "#             torch.save(net.state_dict(), model_save_path)\n",
    "        \n",
    "plt.plot(hist_loss, 'o-', label='train')\n",
    "# plt.plot(hist_loss_val, 'o-', label='val')\n",
    "plt.legend()\n",
    "# print(f\"model exported to {model_save_path} with loss {val_loss_best:5f}\")"
   ]
  },
  {
   "cell_type": "code",
   "execution_count": 600,
   "metadata": {},
   "outputs": [
    {
     "name": "stderr",
     "output_type": "stream",
     "text": [
      "100%|██████████| 1722/1722 [00:23<00:00, 72.93it/s]\n"
     ]
    }
   ],
   "source": [
    "test_data = np.concatenate((test_data_new, y_test),axis=1)\n",
    "\n",
    "train_test_total = np.concatenate((train_data_array_new, test_data))\n",
    "\n",
    "net.eval()\n",
    "num_pred = 1 #  Number of prediction forward, i.e. tau\n",
    "res = np.zeros(train_window).tolist()\n",
    "#  Predicting y using X_test and y_test\n",
    "for i in tqdm(range(train_test_total.shape[0]-train_window)):\n",
    "    for j in range(num_pred):\n",
    "        seq = torch.FloatTensor(train_test_total[i:i+train_window]).to(device)\n",
    "        seq = seq.unsqueeze(0)\n",
    "        #print(seq)\n",
    "        with torch.no_grad():\n",
    "            #print(model(seq))\n",
    "            pred = net(seq).cpu()\n",
    "            #print(len(test_inputs))\n",
    "            res.append(pred)\n",
    "            \n",
    "res = np.array(res)"
   ]
  },
  {
   "cell_type": "code",
   "execution_count": 601,
   "metadata": {
    "scrolled": false
   },
   "outputs": [
    {
     "name": "stdout",
     "output_type": "stream",
     "text": [
      "r-sq on train: 0.8819550488085879\n",
      "r-sq on test: 0.7275199166280548\n",
      "cosine_similarity on train: [[0.9936558]]\n",
      "cosine_similarity on test: [[0.98309625]]\n"
     ]
    },
    {
     "data": {
      "image/png": "[encoded data removed]",
      "text/plain": [
       "<Figure size 1080x360 with 1 Axes>"
      ]
     },
     "metadata": {
      "needs_background": "light"
     },
     "output_type": "display_data"
    }
   ],
   "source": [
    "y_train = y_train.cpu()\n",
    "\n",
    "print('r-sq on train:', r2_score(y_normed[train_window+pred_window:-test_size], res[train_window:-test_size-pred_window]))\n",
    "print('r-sq on test:', r2_score(y_normed[-test_size:],  res[-test_size-pred_window:-pred_window]))\n",
    "print('cosine_similarity on train:', cosine_similarity(y_normed[train_window+pred_window:-test_size].reshape((1,-1)), res[train_window:-test_size-pred_window].reshape((1,-1))))\n",
    "print('cosine_similarity on test:', cosine_similarity(y_normed[-test_size:].reshape((1,-1)),  res[-test_size-pred_window:-pred_window].reshape((1,-1))))\n",
    "plt.figure(figsize=(15,5))\n",
    "plt.plot(y_normed[train_window+pred_window:],label='Observed')\n",
    "plt.plot(res[train_window:-pred_window],label='Predicted')\n",
    "plt.legend()\n",
    "plt.xlabel('From January 1st 2014 to Dec 31st 2018')\n",
    "plt.ylabel(target)\n",
    "plt.title('Transformer')\n",
    "plt.axvline(x=res.shape[0] - test_size-train_window,c='black');\n",
    "testname = 'results/Transformer_PCA_'+str(num_pc)+'.png'\n",
    "plt.savefig(testname)"
   ]
  },
  {
   "cell_type": "code",
   "execution_count": null,
   "metadata": {},
   "outputs": [],
   "source": []
  },
  {
   "cell_type": "code",
   "execution_count": null,
   "metadata": {},
   "outputs": [],
   "source": []
  }
 ],
 "metadata": {
  "kernelspec": {
   "display_name": "Python 3",
   "language": "python",
   "name": "python3"
  },
  "language_info": {
   "codemirror_mode": {
    "name": "ipython",
    "version": 3
   },
   "file_extension": ".py",
   "mimetype": "text/x-python",
   "name": "python",
   "nbconvert_exporter": "python",
   "pygments_lexer": "ipython3",
   "version": "3.8.5"
  }
 },
 "nbformat": 4,
 "nbformat_minor": 4
}
