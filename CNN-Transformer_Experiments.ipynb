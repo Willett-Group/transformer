{
 "cells": [
  {
   "cell_type": "code",
   "execution_count": 1,
   "metadata": {},
   "outputs": [],
   "source": [
    "import datetime\n",
    "from sklearn.metrics import r2_score\n",
    "from sklearn.metrics.pairwise import cosine_similarity\n",
    "import numpy as np\n",
    "from matplotlib import pyplot as plt\n",
    "import torch\n",
    "import torch.nn as nn\n",
    "import torch.optim as optim\n",
    "from torch.utils.data import DataLoader, random_split\n",
    "from tqdm import tqdm\n",
    "import seaborn as sns\n",
    "from time import perf_counter\n",
    "import xgboost as xgb\n",
    "from joblib import Parallel, delayed\n",
    "from numpy import linalg as LA\n",
    "import pandas as pd\n",
    "from scipy.signal import butter, lfilter, freqz\n",
    "import src.utils.preprocess as pre\n",
    "from tst import Transformer\n",
    "# from tst import Transformer_with_sst\n",
    "import os\n",
    "import pandas as pd\n",
    "import torch.nn as nn\n",
    "from torch.utils.data import Dataset, DataLoader\n",
    "from sklearn.neural_network import MLPRegressor"
   ]
  },
  {
   "cell_type": "code",
   "execution_count": 2,
   "metadata": {},
   "outputs": [
    {
     "name": "stderr",
     "output_type": "stream",
     "text": [
      "<ipython-input-2-d9169369565e>:10: DeprecationWarning: The default dtype for empty Series will be 'object' instead of 'float64' in a future version. Specify a dtype explicitly to silence this warning.\n",
      "  y_samp = pd.Series()\n"
     ]
    },
    {
     "name": "stdout",
     "output_type": "stream",
     "text": [
      "precip.2014.h5\n",
      "precip.2015.h5\n",
      "precip.2016.h5\n",
      "precip.2017.h5\n",
      "precip.2018.h5\n"
     ]
    }
   ],
   "source": [
    "path = '/share/data/willett-group/'\n",
    "\n",
    "us_mask = pd.DataFrame(pd.read_hdf(path + 'us_mask.h5'))\n",
    "# This block is to put all nearby sst data together in time order\n",
    "# And also transform data into time order (single location\\)\n",
    "# previous lat/lon = 25.25, 279.25\n",
    "tar_lat = 33.75\n",
    "tar_lon = 242.25\n",
    "radius = 5  # For selecting range of locations from target\n",
    "y_samp = pd.Series()\n",
    "sst_total = []\n",
    "precip_total = []\n",
    "hgt_total = []\n",
    "rhum_total = []\n",
    "tmp2m_total = []\n",
    "\n",
    "# !!! 1985-2019\n",
    "\n",
    "for i in range(2014,2019):\n",
    "    print('precip.'+str(i)+'.h5')\n",
    "    name_precip = 'precip.'+str(i)+'.h5'\n",
    "    name_sst = 'sst.'+str(i)+'.h5' \n",
    "    name_hgt = 'hgt500.'+str(i)+'.h5'\n",
    "    name_rhum = 'rhum.sig995.'+str(i)+'.h5'\n",
    "    name_tmp2m = 'tmp2m.'+str(i)+'.h5'\n",
    "    fileloc_precip = path + name_precip\n",
    "    fileloc_sst = path + name_sst\n",
    "    fileloc_hgt = path + name_hgt\n",
    "    fileloc_rhum = path + name_rhum\n",
    "    fileloc_tmp2m = path + name_tmp2m\n",
    "    precip = pd.DataFrame(pd.read_hdf(fileloc_precip)).reset_index() # precipitation\n",
    "    precip.columns = ['lat', 'lon', 'start_date', 'precip']\n",
    "    sst = pd.DataFrame(pd.read_hdf(fileloc_sst)).reset_index() # Daily sea surface temperature\n",
    "    sst.columns = ['lat', 'lon', 'start_date', 'sst']\n",
    "    hgt = pd.DataFrame(pd.read_hdf(fileloc_hgt)).reset_index() # Daily geopotential height at 10mb and 500mb\n",
    "    hgt.columns = ['lat', 'lon', 'start_date', 'hgt']\n",
    "    rhum = pd.DataFrame(pd.read_hdf(fileloc_rhum)).reset_index() # Daily relative humidity near the surface\n",
    "    rhum.columns = ['lat', 'lon', 'start_date', 'rhum']\n",
    "    tmp2m = pd.DataFrame(pd.read_hdf(fileloc_tmp2m)).reset_index() # Daily average temperature at 2 meters\n",
    "    tmp2m.columns = ['lat', 'lon', 'start_date', 'tmp2m']\n",
    "#     print('original', tmp2m.shape)\n",
    "    \n",
    "    precip = pd.merge(precip, us_mask, on=['lat','lon'])\n",
    "    hgt = pd.merge(hgt, us_mask, on=['lat','lon'])\n",
    "    rhum = pd.merge(rhum, us_mask, on=['lat','lon'])\n",
    "    tmp2m = pd.merge(tmp2m, us_mask, on=['lat','lon'])\n",
    "#     print('after merge', tmp2m.shape)\n",
    "    \n",
    "#     hgt = np.reshape(hgt[(hgt['lat']==tar_lat) & (hgt['lon']==tar_lon)].hgt.to_numpy(),(-1,1))\n",
    "#     rhum = np.reshape(rhum[(rhum['lat']==tar_lat) & (rhum['lon']==tar_lon)].rhum.to_numpy(),(-1,1))\n",
    "#     tmp2m = np.reshape(tmp2m[(tmp2m['lat']==tar_lat) & (tmp2m['lon']==tar_lon)].tmp2m.to_numpy(),(-1,1))\n",
    "#     precip = precip[(precip['lat']==tar_lat) & (precip['lon']==tar_lon)].precip\n",
    "#     print('one location', tmp2m.shape)\n",
    "    \n",
    "    y_samp = y_samp.append(precip[0:365],ignore_index=True)\n",
    "    \n",
    "    if i%4 == 0:\n",
    "        days = 366\n",
    "    else:\n",
    "        days = 365\n",
    "    sst_temp = sst[(sst['lat']>=tar_lat-radius) & (sst['lat']<=tar_lat+radius) \n",
    "                   & (sst['lon']>=tar_lon-radius) & (sst['lon']<=tar_lon+radius)]\n",
    "    sst_temp = sst_temp.sst.reset_index().sst.to_numpy()\n",
    "    size = int(len(sst_temp)/days)\n",
    "    sst_temp = np.reshape(sst_temp,(size, days)).transpose() # days as rows, different locations as columns\n",
    "    sst_temp = sst_temp[0:365,:]\n",
    "    sst_total.append(sst_temp)\n",
    "    \n",
    "    precip_temp = precip[(precip['lat']>=tar_lat-radius) & (precip['lat']<=tar_lat+radius) \n",
    "                   & (precip['lon']>=tar_lon-radius) & (precip['lon']<=tar_lon+radius)]\n",
    "    precip_temp = precip_temp.precip.reset_index().precip.to_numpy()\n",
    "    size = int(len(precip_temp)/days)\n",
    "    precip_temp = np.reshape(precip_temp,(size, days)).transpose() # days as rows, different locations as columns\n",
    "    precip_temp = precip_temp[0:365,:]\n",
    "    precip_total.append(precip_temp)\n",
    "    \n",
    "    hgt_temp = hgt[(hgt['lat']>=tar_lat-radius) & (hgt['lat']<=tar_lat+radius) \n",
    "                   & (hgt['lon']>=tar_lon-radius) & (hgt['lon']<=tar_lon+radius)]\n",
    "    hgt_temp = hgt_temp.hgt.reset_index().hgt.to_numpy()\n",
    "    size = int(len(hgt_temp)/days)\n",
    "    hgt_temp = np.reshape(hgt_temp,(size, days)).transpose() # days as rows, different locations as columns\n",
    "    hgt_temp = hgt_temp[0:365,:]\n",
    "    hgt_total.append(hgt_temp)\n",
    "    \n",
    "    rhum_temp = rhum[(rhum['lat']>=tar_lat-radius) & (rhum['lat']<=tar_lat+radius) \n",
    "                   & (rhum['lon']>=tar_lon-radius) & (rhum['lon']<=tar_lon+radius)]\n",
    "    rhum_temp = rhum_temp.rhum.reset_index().rhum.to_numpy()\n",
    "    size = int(len(rhum_temp)/days)\n",
    "    rhum_temp = np.reshape(rhum_temp,(size, days)).transpose() # days as rows, different locations as columns\n",
    "    rhum_temp = rhum_temp[0:365,:]\n",
    "    rhum_total.append(rhum_temp)\n",
    "    \n",
    "    tmp2m_temp = tmp2m[(tmp2m['lat']>=tar_lat-radius) & (tmp2m['lat']<=tar_lat+radius) \n",
    "                   & (tmp2m['lon']>=tar_lon-radius) & (tmp2m['lon']<=tar_lon+radius)]\n",
    "    tmp2m_temp = tmp2m_temp.tmp2m.reset_index().tmp2m.to_numpy()\n",
    "    size = int(len(tmp2m_temp)/days)\n",
    "    tmp2m_temp = np.reshape(tmp2m_temp,(size, days)).transpose() # days as rows, different locations as columns\n",
    "    tmp2m_temp = tmp2m_temp[0:365,:]\n",
    "    tmp2m_total.append(tmp2m_temp)\n",
    "#     hgt = hgt[0:365,:]\n",
    "#     rhum = rhum[0:365,:]\n",
    "#     tmp2m = tmp2m[0:365,:]\n",
    "    \n",
    "    \n",
    "#     all_features = np.concatenate((sst_samp,hgt,rhum,tmp2m),axis=1)\n",
    "# #     print('all_features', all_features.shape)\n",
    "#     X_total.append(all_features)\n",
    "    \n",
    "# X_size = X_total[0].shape[1]\n",
    "# X_samp = np.zeros((1,X_size)) #  For concatenating all data\n",
    "# # print(X_samp.shape)\n",
    "# for i in range(len(X_total)):\n",
    "#     X_samp = np.concatenate((X_samp,X_total[i]),axis = 0)\n",
    "# X_samp = X_samp[1:]\n",
    "# # print(X_samp.shape)"
   ]
  },
  {
   "cell_type": "code",
   "execution_count": 3,
   "metadata": {},
   "outputs": [],
   "source": [
    "sst_size = sst_total[0].shape[1]\n",
    "sst_samp = np.zeros((1,sst_size))\n",
    "for i in range(len(sst_total)):\n",
    "     sst_samp = np.concatenate((sst_samp,sst_total[i]),axis = 0)\n",
    "sst_samp = sst_samp[1:]\n",
    "\n",
    "precip_size = precip_total[0].shape[1]\n",
    "precip_samp = np.zeros((1,precip_size))\n",
    "for i in range(len(precip_total)):\n",
    "     precip_samp = np.concatenate((precip_samp,precip_total[i]),axis = 0)\n",
    "precip_samp = precip_samp[1:]\n",
    "\n",
    "hgt_size = hgt_total[0].shape[1]\n",
    "hgt_samp = np.zeros((1,hgt_size))\n",
    "for i in range(len(hgt_total)):\n",
    "     hgt_samp = np.concatenate((hgt_samp,hgt_total[i]),axis = 0)\n",
    "hgt_samp = hgt_samp[1:]\n",
    "\n",
    "rhum_size = rhum_total[0].shape[1]\n",
    "rhum_samp = np.zeros((1,rhum_size))\n",
    "for i in range(len(rhum_total)):\n",
    "     rhum_samp = np.concatenate((rhum_samp,rhum_total[i]),axis = 0)\n",
    "rhum_samp = rhum_samp[1:]\n",
    "\n",
    "tmp2m_size = tmp2m_total[0].shape[1]\n",
    "tmp2m_samp = np.zeros((1,tmp2m_size))\n",
    "for i in range(len(tmp2m_total)):\n",
    "     tmp2m_samp = np.concatenate((tmp2m_samp,tmp2m_total[i]),axis = 0)\n",
    "tmp2m_samp = tmp2m_samp[1:]"
   ]
  },
  {
   "cell_type": "code",
   "execution_count": 4,
   "metadata": {},
   "outputs": [],
   "source": [
    "y_samp = y_samp.precip.to_numpy()"
   ]
  },
  {
   "cell_type": "code",
   "execution_count": 5,
   "metadata": {},
   "outputs": [
    {
     "data": {
      "text/plain": [
       "[<matplotlib.lines.Line2D at 0x7f8239bdaca0>]"
      ]
     },
     "execution_count": 5,
     "metadata": {},
     "output_type": "execute_result"
    },
    {
     "data": {
      "image/png": "[encoded data removed]",
      "text/plain": [
       "<Figure size 432x288 with 1 Axes>"
      ]
     },
     "metadata": {
      "needs_background": "light"
     },
     "output_type": "display_data"
    }
   ],
   "source": [
    "plt.plot(y_samp)"
   ]
  },
  {
   "cell_type": "code",
   "execution_count": 6,
   "metadata": {},
   "outputs": [],
   "source": [
    "y_total = y_samp.copy()\n",
    "X_total = np.concatenate((sst_samp,precip_samp,hgt_samp,rhum_samp,tmp2m_samp),axis=1)\n",
    "\n",
    "# Calculate moving average for precip\n",
    "avg_window = 14\n",
    "y_movavg = []\n",
    "X_movavg = []\n",
    "for i in range(y_total.shape[0]-avg_window):\n",
    "    y_avg = np.mean(y_total[i:i+avg_window])\n",
    "    y_movavg.append(y_avg)\n",
    "    X_avg = np.mean(X_total[i:i+avg_window],axis=0)\n",
    "    X_movavg.append(X_avg)\n",
    "y_movavg = np.array(y_movavg)\n",
    "X_movavg = np.array(X_movavg)\n",
    "y_total = y_movavg\n",
    "X_total = X_movavg\n",
    "\n",
    "train_size = int(y_total.shape[0]*0.8)\n",
    "test_size = y_total.shape[0] - train_size\n",
    "y_train = y_total[0:train_size]\n",
    "y_test = y_total[train_size:]\n",
    "X_train = X_total[0:train_size]\n",
    "X_test = X_total[train_size:]"
   ]
  },
  {
   "cell_type": "code",
   "execution_count": 7,
   "metadata": {},
   "outputs": [],
   "source": [
    "X_mins = np.amin(X_train,axis=0)\n",
    "# y_min = np.amin(y_train,axis=0)\n",
    "X_train = X_train - X_mins\n",
    "X_test = X_test - X_mins\n",
    "# y_train = y_train - y_min\n",
    "# y_test = y_test - y_min\n",
    "X_maxs = np.amax(X_train,axis=0)\n",
    "# y_max = np.amax(y_train,axis=0)\n",
    "X_train = X_train/X_maxs\n",
    "X_test = X_test/X_maxs\n",
    "# y_train = y_train/y_max\n",
    "# y_test = y_test/y_max"
   ]
  },
  {
   "cell_type": "code",
   "execution_count": 8,
   "metadata": {},
   "outputs": [
    {
     "data": {
      "text/plain": [
       "(0.0, 1.0, -0.14930910888973328, 2.1252246910609407)"
      ]
     },
     "execution_count": 8,
     "metadata": {},
     "output_type": "execute_result"
    }
   ],
   "source": [
    "np.min(X_train), np.max(X_train), np.min(X_test), np.max(X_test)\n"
   ]
  },
  {
   "cell_type": "code",
   "execution_count": 11,
   "metadata": {},
   "outputs": [
    {
     "data": {
      "text/plain": [
       "[<matplotlib.lines.Line2D at 0x7f811472d040>]"
      ]
     },
     "execution_count": 11,
     "metadata": {},
     "output_type": "execute_result"
    },
    {
     "data": {
      "image/png": "[encoded data removed]",
      "text/plain": [
       "<Figure size 432x288 with 1 Axes>"
      ]
     },
     "metadata": {
      "needs_background": "light"
     },
     "output_type": "display_data"
    }
   ],
   "source": [
    "plt.plot(y_total)"
   ]
  },
  {
   "cell_type": "code",
   "execution_count": 12,
   "metadata": {},
   "outputs": [],
   "source": [
    "class AE(nn.Module):\n",
    "    def __init__(self, in_shape, hid_dim):\n",
    "        super(AE, self).__init__()\n",
    "        \n",
    "        self.encoder = nn.Sequential(\n",
    "            nn.Linear(in_shape, 600),\n",
    "            nn.ReLU(True),\n",
    "            nn.Dropout(0.3),\n",
    "            nn.Linear(600, 400),\n",
    "            nn.ReLU(True),\n",
    "            nn.Dropout(0.2),\n",
    "            nn.Linear(400, hid_dim),)\n",
    "        \n",
    "        self.decoder = nn.Sequential(             \n",
    "            nn.Linear(hid_dim, 400),\n",
    "            nn.ReLU(True),\n",
    "            nn.Dropout(0.3),\n",
    "            nn.Linear(400, 600),\n",
    "            nn.ReLU(True),\n",
    "            nn.Dropout(0.2),\n",
    "            nn.Linear(600, in_shape),\n",
    "            nn.Sigmoid(),)\n",
    "        \n",
    "    def forward(self, x):\n",
    "        x = self.encoder(x)\n",
    "        x = self.decoder(x)\n",
    "        return x"
   ]
  },
  {
   "cell_type": "code",
   "execution_count": 47,
   "metadata": {},
   "outputs": [],
   "source": [
    "class CNN(nn.Module):\n",
    "    def __init__(self, in_shape, hid_dim):\n",
    "        super(CNN, self).__init__()\n",
    "        \n",
    "        self.encoder = nn.Sequential(\n",
    "            nn.Conv1d(1, 2, 3, stride=2),\n",
    "            nn.ReLU(True),\n",
    "            nn.Dropout(0.3),\n",
    "            nn.Conv1d(2, 4, 3, stride=2),\n",
    "            nn.ReLU(True),\n",
    "            nn.Dropout(0.2),\n",
    "            nn.Conv1d(4, 8, 3, stride=2),\n",
    "            nn.ReLU(True),\n",
    "            nn.Dropout(0.2),\n",
    "            nn.Conv1d(8, 16, 126, stride=1),\n",
    "            nn.ReLU(True),\n",
    "            nn.Dropout(0.2),\n",
    "            )\n",
    "        self.LL = nn.Linear(16,hid_dim)\n",
    "        \n",
    "#         self.decoder = nn.Sequential(             \n",
    "#             nn.Linear(hid_dim, 400),\n",
    "#             nn.ReLU(True),\n",
    "#             nn.Dropout(0.3),\n",
    "#             nn.Linear(400, 600),\n",
    "#             nn.ReLU(True),\n",
    "#             nn.Dropout(0.2),\n",
    "#             nn.Linear(600, in_shape),\n",
    "#             nn.Sigmoid(),)\n",
    "        \n",
    "    def forward(self, x):\n",
    "        x = self.encoder(x)\n",
    "        x = x.view((-1,16))\n",
    "        x = self.LL(x)\n",
    "#         x = self.decoder(x)\n",
    "        return x"
   ]
  },
  {
   "cell_type": "code",
   "execution_count": 61,
   "metadata": {},
   "outputs": [],
   "source": [
    "cnn_test = CNN(1019,20)"
   ]
  },
  {
   "cell_type": "code",
   "execution_count": 57,
   "metadata": {},
   "outputs": [],
   "source": [
    "testing = X_train.reshape((-1,1,1019))"
   ]
  },
  {
   "cell_type": "code",
   "execution_count": 58,
   "metadata": {},
   "outputs": [
    {
     "data": {
      "text/plain": [
       "(1448, 1, 1019)"
      ]
     },
     "execution_count": 58,
     "metadata": {},
     "output_type": "execute_result"
    }
   ],
   "source": [
    "testing.shape"
   ]
  },
  {
   "cell_type": "code",
   "execution_count": 59,
   "metadata": {},
   "outputs": [],
   "source": [
    "testingres = cnn_test(torch.FloatTensor(testing))"
   ]
  },
  {
   "cell_type": "code",
   "execution_count": 60,
   "metadata": {},
   "outputs": [
    {
     "data": {
      "text/plain": [
       "torch.Size([1448, 20])"
      ]
     },
     "execution_count": 60,
     "metadata": {},
     "output_type": "execute_result"
    }
   ],
   "source": [
    "testingres.shape"
   ]
  },
  {
   "cell_type": "code",
   "execution_count": 13,
   "metadata": {},
   "outputs": [],
   "source": [
    "import os\n",
    "os.environ['CUDA_VISIBLE_DEVICES'] = '2'\n",
    "device = torch.device(\"cuda\" if torch.cuda.is_available() else \"cpu\")\n",
    "# train_data = train_data.to(device)"
   ]
  },
  {
   "cell_type": "code",
   "execution_count": 15,
   "metadata": {},
   "outputs": [],
   "source": [
    "class SimpleDataset(Dataset):\n",
    "    def __init__(self, data):\n",
    "        self.samples = data\n",
    "\n",
    "    def __len__(self):\n",
    "        return len(self.samples)\n",
    "\n",
    "    def __getitem__(self, idx):\n",
    "        return self.samples[idx]"
   ]
  },
  {
   "cell_type": "code",
   "execution_count": 16,
   "metadata": {},
   "outputs": [],
   "source": [
    "BATCH_SIZE = 64\n",
    "dataset_train = SimpleDataset(X_train)\n",
    "dataloader_train = DataLoader(dataset_train,\n",
    "                              batch_size=BATCH_SIZE,\n",
    "                              shuffle=False,\n",
    "                              num_workers=0,\n",
    "                              pin_memory=False\n",
    "                             )\n"
   ]
  },
  {
   "cell_type": "code",
   "execution_count": 20,
   "metadata": {},
   "outputs": [],
   "source": [
    "dataset_test = SimpleDataset(X_test)\n",
    "dataloader_test = DataLoader(dataset_test,\n",
    "                              batch_size=BATCH_SIZE,\n",
    "                              shuffle=False,\n",
    "                              num_workers=0,\n",
    "                              pin_memory=False\n",
    "                             )"
   ]
  },
  {
   "cell_type": "code",
   "execution_count": 17,
   "metadata": {},
   "outputs": [
    {
     "name": "stdout",
     "output_type": "stream",
     "text": [
      "epoch [1/20], loss:0.0693\n",
      "epoch [2/20], loss:0.0469\n",
      "epoch [3/20], loss:0.0324\n",
      "epoch [4/20], loss:0.0241\n",
      "epoch [5/20], loss:0.0209\n",
      "epoch [6/20], loss:0.0210\n",
      "epoch [7/20], loss:0.0208\n",
      "epoch [8/20], loss:0.0186\n",
      "epoch [9/20], loss:0.0170\n",
      "epoch [10/20], loss:0.0171\n",
      "epoch [11/20], loss:0.0163\n",
      "epoch [12/20], loss:0.0177\n",
      "epoch [13/20], loss:0.0183\n",
      "epoch [14/20], loss:0.0165\n",
      "epoch [15/20], loss:0.0164\n",
      "epoch [16/20], loss:0.0149\n",
      "epoch [17/20], loss:0.0158\n",
      "epoch [18/20], loss:0.0165\n",
      "epoch [19/20], loss:0.0150\n",
      "epoch [20/20], loss:0.0146\n"
     ]
    }
   ],
   "source": [
    "num_epochs = 20\n",
    "losses = []\n",
    "for epoch in range(num_epochs):\n",
    "    running_loss = 0\n",
    "    for data in dataloader_train:\n",
    "        data = data.float().to(device)\n",
    "        \n",
    "        output = model(data)\n",
    "        loss = distance(output, data)\n",
    "        running_loss += loss.item()\n",
    "        \n",
    "        optimizer.zero_grad()\n",
    "        loss.backward()\n",
    "        optimizer.step()\n",
    "        \n",
    "    train_loss = running_loss/len(dataloader_train)\n",
    "    losses.append(train_loss)\n",
    "    print('epoch [{}/{}], loss:{:.4f}'.format(epoch+1, num_epochs, train_loss))"
   ]
  },
  {
   "cell_type": "code",
   "execution_count": 21,
   "metadata": {},
   "outputs": [],
   "source": [
    "compressed_X_train = np.zeros((BATCH_SIZE, hid_dim))\n",
    "compressed_X_test = np.zeros((BATCH_SIZE, hid_dim))\n",
    "model.eval()\n",
    "\n",
    "c = 0\n",
    "for data in dataloader_train:\n",
    "    data = data.float().to(device)\n",
    "\n",
    "    output = model.encoder((data))\n",
    "    if c ==0:\n",
    "        compressed_X_train = output.data.cpu().numpy()\n",
    "    else:\n",
    "        compressed_X_train = np.concatenate((compressed_X_train, output.data.cpu().numpy()), axis=0)\n",
    "    c += 1\n",
    "    \n",
    "c = 0    \n",
    "for data in dataloader_test:\n",
    "        data = data.float().to(device)\n",
    "        \n",
    "        output = model.encoder((data))\n",
    "        if c ==0:\n",
    "            compressed_X_test = output.data.cpu().numpy()\n",
    "        else:\n",
    "            compressed_X_test = np.concatenate((compressed_X_test, output.data.cpu().numpy()), axis=0)\n",
    "        c += 1"
   ]
  },
  {
   "cell_type": "code",
   "execution_count": 24,
   "metadata": {},
   "outputs": [
    {
     "data": {
      "text/plain": [
       "(363, 20)"
      ]
     },
     "execution_count": 24,
     "metadata": {},
     "output_type": "execute_result"
    }
   ],
   "source": [
    "compressed_X_test.shape"
   ]
  },
  {
   "cell_type": "code",
   "execution_count": 104,
   "metadata": {},
   "outputs": [],
   "source": [
    "def create_sequence(input_data, train_window,pred_window):  #  Create sequences of observations for training\n",
    "    seq = []\n",
    "    L = len(input_data)\n",
    "    feature_size = input_data[0].shape[0]\n",
    "    for i in range(L-train_window-pred_window):\n",
    "        train_seq = input_data[i:i+train_window]\n",
    "        train_label = input_data[i+train_window+pred_window-1,feature_size-1] # get y_t+14\n",
    "        seq.append((train_seq ,train_label))\n",
    "    return seq"
   ]
  },
  {
   "cell_type": "code",
   "execution_count": 106,
   "metadata": {},
   "outputs": [],
   "source": [
    "y_train = np.reshape(y_train,(-1,1))  #  Matching dimension for concatenating X and y\n",
    "y_test = np.reshape(y_test,(-1,1)) \n",
    "train_data_array = np.concatenate((X_train,y_train),axis=1)\n",
    "train_data = torch.FloatTensor(train_data_array)\n",
    "y_train = torch.FloatTensor(y_train)"
   ]
  },
  {
   "cell_type": "code",
   "execution_count": 107,
   "metadata": {},
   "outputs": [
    {
     "data": {
      "text/plain": [
       "torch.Size([1450, 11])"
      ]
     },
     "execution_count": 107,
     "metadata": {},
     "output_type": "execute_result"
    }
   ],
   "source": [
    "train_data.shape"
   ]
  },
  {
   "cell_type": "code",
   "execution_count": 108,
   "metadata": {},
   "outputs": [],
   "source": [
    "device = torch.device(\"cuda:0\")\n",
    "train_data = train_data.to(device)\n",
    "y_train = y_train.to(device)"
   ]
  },
  {
   "cell_type": "code",
   "execution_count": 109,
   "metadata": {},
   "outputs": [],
   "source": [
    "train_window = 90\n",
    "pred_window = 28\n",
    "train_seq = create_sequence(train_data,train_window,pred_window)"
   ]
  },
  {
   "cell_type": "code",
   "execution_count": null,
   "metadata": {},
   "outputs": [],
   "source": []
  },
  {
   "cell_type": "code",
   "execution_count": 110,
   "metadata": {},
   "outputs": [],
   "source": [
    "class LSTM(nn.Module):\n",
    "    def __init__(self, input_size=1, hidden_layer_size=100, num_layers=1, output_size=1):\n",
    "        super().__init__()\n",
    "        self.hidden_layer_size = hidden_layer_size\n",
    "\n",
    "        self.num_layers = num_layers\n",
    "        \n",
    "        self.lstm = nn.LSTM(input_size, hidden_layer_size, num_layers)\n",
    "\n",
    "        self.linear = nn.Linear(hidden_layer_size, output_size)\n",
    "\n",
    "        self.hidden_cell = (torch.zeros(num_layers,1,self.hidden_layer_size),\n",
    "                            torch.zeros(num_layers,1,self.hidden_layer_size))\n",
    "\n",
    "    def forward(self, input_seq):\n",
    "        lstm_out, self.hidden_cell = self.lstm(input_seq.view(len(input_seq) ,1, -1), self.hidden_cell)\n",
    "        predictions = self.linear(lstm_out.view(len(input_seq), -1))\n",
    "        return predictions[-1]"
   ]
  },
  {
   "cell_type": "code",
   "execution_count": 111,
   "metadata": {},
   "outputs": [],
   "source": [
    "model = LSTM(input_size=X_size+1, hidden_layer_size=100, num_layers=1, output_size=1).to(device) # 2 features from X_obs and 1 from y_obs\n",
    "loss_function = nn.MSELoss()\n",
    "optimizer = torch.optim.Adam(model.parameters(), lr=0.001)"
   ]
  },
  {
   "cell_type": "code",
   "execution_count": 112,
   "metadata": {},
   "outputs": [
    {
     "name": "stdout",
     "output_type": "stream",
     "text": [
      "LSTM(\n",
      "  (lstm): LSTM(11, 100)\n",
      "  (linear): Linear(in_features=100, out_features=1, bias=True)\n",
      ")\n"
     ]
    }
   ],
   "source": [
    "print(model)"
   ]
  },
  {
   "cell_type": "code",
   "execution_count": 113,
   "metadata": {},
   "outputs": [
    {
     "name": "stdout",
     "output_type": "stream",
     "text": [
      "epoch:   1 loss: 0.15086448\n",
      "epoch:  11 loss: 0.00737573\n",
      "epoch:  21 loss: 0.02535218\n",
      "epoch:  31 loss: 0.00093528\n",
      "epoch:  41 loss: 0.02829931\n",
      "epoch:  51 loss: 0.01092113\n",
      "epoch:  61 loss: 0.00117844\n",
      "epoch:  71 loss: 0.00500207\n",
      "epoch:  81 loss: 0.00014144\n",
      "epoch:  91 loss: 0.03183883\n",
      "epoch:  99 loss: 0.0185706634\n",
      "Total training time: 388.83195550000164\n"
     ]
    }
   ],
   "source": [
    "epochs = 100\n",
    "#  Training the model\n",
    "t0 = perf_counter()\n",
    "\n",
    "for i in range(epochs):\n",
    "    for seq, labels in train_seq:\n",
    "        optimizer.zero_grad()\n",
    "        model.hidden_cell = (torch.zeros(model.num_layers, 1, model.hidden_layer_size).to(device),\n",
    "                        torch.zeros(model.num_layers, 1, model.hidden_layer_size).to(device))\n",
    "\n",
    "        pred = model(seq)\n",
    "        labels = torch.reshape(labels,(-1,))  #  Match size to avoid warning\n",
    "        single_loss = loss_function(pred, labels)\n",
    "        single_loss.backward()\n",
    "        optimizer.step()\n",
    "    \n",
    "   \n",
    "                \n",
    "    if i%10 == 1:\n",
    "        print(f'epoch: {i:3} loss: {single_loss.item():10.8f}')\n",
    "#     print(f'epoch: {i:3} loss: {single_loss.item():10.8f}')\n",
    "    \n",
    "print(f'epoch: {i:3} loss: {single_loss.item():10.10f}')\n",
    "t1 = perf_counter()\n",
    "train_time = t1 - t0\n",
    "print(f'Total training time: {train_time}')"
   ]
  },
  {
   "cell_type": "code",
   "execution_count": 114,
   "metadata": {},
   "outputs": [],
   "source": [
    "# Predicting t+1\n",
    "test_data = np.concatenate((X_test,y_test),axis=1)\n",
    "\n",
    "train_test_total = np.concatenate((train_data_array,test_data))\n",
    "\n",
    "model.eval()\n",
    "num_pred = 1 #  Number of prediction forward, i.e. tau\n",
    "res = np.zeros(train_window).tolist()\n",
    "#  Predicting y using X_test and y_test\n",
    "for i in range(train_test_total.shape[0]-train_window):\n",
    "    for j in range(num_pred):\n",
    "        seq = torch.FloatTensor(train_test_total[i:i+train_window]).to(device)\n",
    "        #print(seq)\n",
    "        with torch.no_grad():\n",
    "            model.hidden = (torch.zeros(model.num_layers, 1, model.hidden_layer_size).to(device),\n",
    "                            torch.zeros(model.num_layers, 1, model.hidden_layer_size).to(device))\n",
    "            #print(model(seq))\n",
    "            pred = model(seq).cpu()\n",
    "            #print(len(test_inputs))\n",
    "            res.append(pred)\n",
    "res = np.array(res)"
   ]
  },
  {
   "cell_type": "code",
   "execution_count": null,
   "metadata": {},
   "outputs": [],
   "source": [
    "# Predicting t+tau\n",
    "test_data = np.concatenate((X_test,y_test),axis=1) \n",
    "train_test_total = np.concatenate((train_data_array,test_data))\n",
    "\n",
    "model.eval()\n",
    "num_pred = 1 #  Number of prediction forward, i.e. tau\n",
    "res = np.zeros(train_window).tolist()\n",
    "#  Predicting y using X_test and y_test\n",
    "for i in range(train_test_total.shape[0]-train_window):\n",
    "    for j in range(num_pred):\n",
    "        seq = torch.FloatTensor(train_test_total[i:i+train_window])\n",
    "        #print(seq)\n",
    "        with torch.no_grad():\n",
    "            model.hidden = (torch.zeros(model.num_layers, 1, model.hidden_layer_size),\n",
    "                            torch.zeros(model.num_layers, 1, model.hidden_layer_size))\n",
    "            #print(model(seq))\n",
    "            pred = model(seq)\n",
    "            #print(len(test_inputs))\n",
    "            res.append(pred)\n",
    "\n",
    "            "
   ]
  },
  {
   "cell_type": "code",
   "execution_count": 20,
   "metadata": {},
   "outputs": [
    {
     "data": {
      "text/plain": [
       "array([0.0, 0.0, 0.0, ..., tensor([0.3381], device='cuda:0'),\n",
       "       tensor([0.3555], device='cuda:0'),\n",
       "       tensor([0.4765], device='cuda:0')], dtype=object)"
      ]
     },
     "execution_count": 20,
     "metadata": {},
     "output_type": "execute_result"
    }
   ],
   "source": []
  },
  {
   "cell_type": "code",
   "execution_count": 115,
   "metadata": {},
   "outputs": [
    {
     "name": "stdout",
     "output_type": "stream",
     "text": [
      "r-sq on train: 0.6120868988630799\n",
      "r-sq on test: 0.591112255964871\n",
      "cosine_similarity on train: [[0.78573143]]\n",
      "cosine_similarity on test: [[0.77760496]]\n"
     ]
    },
    {
     "data": {
      "image/png": "[encoded data removed]",
      "text/plain": [
       "<Figure size 1080x360 with 1 Axes>"
      ]
     },
     "metadata": {},
     "output_type": "display_data"
    }
   ],
   "source": [
    "y_train = y_train.cpu()\n",
    "y_train_true = y_samp[train_window+pred_window:-test_size]\n",
    "y_train_pred = res[train_window:-test_size-pred_window]\n",
    "y_test_true = y_samp[-test_size:]\n",
    "y_test_pred = res[-test_size-pred_window:-pred_window]\n",
    "print('r-sq on train:', r2_score(y_train_true, y_train_pred))\n",
    "print('r-sq on test:', r2_score(y_test_true,  y_test_pred))\n",
    "plt.figure(figsize=(15,5))\n",
    "plt.plot(y_samp[train_window+pred_window:],label='Observed')\n",
    "plt.plot(res[train_window:-pred_window],label='Predicted')\n",
    "plt.legend()\n",
    "plt.xlabel('From January 1st 2014 to Dec 31st 2018')\n",
    "plt.ylabel(target)\n",
    "plt.title('Simple LSTM with 1 hidden layer and 100 neurons per layer, target only)')\n",
    "plt.axvline(x=res.shape[0] - test_size-train_window,c='black')\n",
    "print('cosine_similarity on train:', cosine_similarity(y_train_true.reshape((1,-1)), y_train_pred.reshape((1,-1))))\n",
    "print('cosine_similarity on test:', cosine_similarity(y_test_true.reshape((1,-1)),  y_test_pred.reshape((1,-1))))"
   ]
  },
  {
   "cell_type": "code",
   "execution_count": 29,
   "metadata": {},
   "outputs": [
    {
     "data": {
      "text/plain": [
       "(1392, 1)"
      ]
     },
     "execution_count": 29,
     "metadata": {},
     "output_type": "execute_result"
    }
   ],
   "source": [
    "y_train_true.reshape((-1,1)).shape"
   ]
  },
  {
   "cell_type": "code",
   "execution_count": 28,
   "metadata": {},
   "outputs": [
    {
     "data": {
      "text/plain": [
       "<matplotlib.lines.Line2D at 0x28181bd33a0>"
      ]
     },
     "execution_count": 28,
     "metadata": {},
     "output_type": "execute_result"
    },
    {
     "data": {
      "image/png": "[encoded data removed]",
      "text/plain": [
       "<Figure size 1080x360 with 1 Axes>"
      ]
     },
     "metadata": {},
     "output_type": "display_data"
    }
   ],
   "source": [
    "plt.figure(figsize=(15,5))\n",
    "plt.plot(y_samp[train_window:] - res[train_window:] ,label='Residuals')\n",
    "plt.legend()\n",
    "plt.xlabel('From January 1st 2014 to Dec 31st 2018')\n",
    "plt.ylabel('precipitation')\n",
    "plt.title('Residuals of simple LSTM versus precipitation')\n",
    "plt.axvline(x=res.shape[0] - test_size-train_window,c='black')"
   ]
  },
  {
   "cell_type": "code",
   "execution_count": 54,
   "metadata": {},
   "outputs": [
    {
     "data": {
      "text/plain": [
       "tensor([0.6813], device='cuda:0')"
      ]
     },
     "execution_count": 54,
     "metadata": {},
     "output_type": "execute_result"
    }
   ],
   "source": [
    "np.sum((np.array(res[train_size:]) - y_test[:,0]) ** 2)/y_test.shape[0]  # MSE\n"
   ]
  },
  {
   "cell_type": "code",
   "execution_count": 429,
   "metadata": {},
   "outputs": [],
   "source": [
    "tmp2m = pd.DataFrame(pd.read_hdf('SSF/tmp2m.2018.h5')).reset_index()\n"
   ]
  },
  {
   "cell_type": "code",
   "execution_count": 432,
   "metadata": {},
   "outputs": [
    {
     "data": {
      "text/html": [
       "<div>\n",
       "<style scoped>\n",
       "    .dataframe tbody tr th:only-of-type {\n",
       "        vertical-align: middle;\n",
       "    }\n",
       "\n",
       "    .dataframe tbody tr th {\n",
       "        vertical-align: top;\n",
       "    }\n",
       "\n",
       "    .dataframe thead th {\n",
       "        text-align: right;\n",
       "    }\n",
       "</style>\n",
       "<table border=\"1\" class=\"dataframe\">\n",
       "  <thead>\n",
       "    <tr style=\"text-align: right;\">\n",
       "      <th></th>\n",
       "      <th>lat</th>\n",
       "      <th>lon</th>\n",
       "      <th>start_date</th>\n",
       "      <th>0</th>\n",
       "    </tr>\n",
       "  </thead>\n",
       "  <tbody>\n",
       "    <tr>\n",
       "      <th>8108021</th>\n",
       "      <td>25.25</td>\n",
       "      <td>279.25</td>\n",
       "      <td>2018-01-01</td>\n",
       "      <td>20.244444</td>\n",
       "    </tr>\n",
       "    <tr>\n",
       "      <th>8108022</th>\n",
       "      <td>25.25</td>\n",
       "      <td>279.25</td>\n",
       "      <td>2018-01-02</td>\n",
       "      <td>17.381365</td>\n",
       "    </tr>\n",
       "    <tr>\n",
       "      <th>8108023</th>\n",
       "      <td>25.25</td>\n",
       "      <td>279.25</td>\n",
       "      <td>2018-01-03</td>\n",
       "      <td>15.314527</td>\n",
       "    </tr>\n",
       "    <tr>\n",
       "      <th>8108024</th>\n",
       "      <td>25.25</td>\n",
       "      <td>279.25</td>\n",
       "      <td>2018-01-04</td>\n",
       "      <td>10.294666</td>\n",
       "    </tr>\n",
       "    <tr>\n",
       "      <th>8108025</th>\n",
       "      <td>25.25</td>\n",
       "      <td>279.25</td>\n",
       "      <td>2018-01-05</td>\n",
       "      <td>11.791142</td>\n",
       "    </tr>\n",
       "    <tr>\n",
       "      <th>...</th>\n",
       "      <td>...</td>\n",
       "      <td>...</td>\n",
       "      <td>...</td>\n",
       "      <td>...</td>\n",
       "    </tr>\n",
       "    <tr>\n",
       "      <th>8108381</th>\n",
       "      <td>25.25</td>\n",
       "      <td>279.25</td>\n",
       "      <td>2018-12-27</td>\n",
       "      <td>24.758492</td>\n",
       "    </tr>\n",
       "    <tr>\n",
       "      <th>8108382</th>\n",
       "      <td>25.25</td>\n",
       "      <td>279.25</td>\n",
       "      <td>2018-12-28</td>\n",
       "      <td>25.610886</td>\n",
       "    </tr>\n",
       "    <tr>\n",
       "      <th>8108383</th>\n",
       "      <td>25.25</td>\n",
       "      <td>279.25</td>\n",
       "      <td>2018-12-29</td>\n",
       "      <td>24.864708</td>\n",
       "    </tr>\n",
       "    <tr>\n",
       "      <th>8108384</th>\n",
       "      <td>25.25</td>\n",
       "      <td>279.25</td>\n",
       "      <td>2018-12-30</td>\n",
       "      <td>23.908970</td>\n",
       "    </tr>\n",
       "    <tr>\n",
       "      <th>8108385</th>\n",
       "      <td>25.25</td>\n",
       "      <td>279.25</td>\n",
       "      <td>2018-12-31</td>\n",
       "      <td>24.517799</td>\n",
       "    </tr>\n",
       "  </tbody>\n",
       "</table>\n",
       "<p>365 rows × 4 columns</p>\n",
       "</div>"
      ],
      "text/plain": [
       "           lat     lon start_date          0\n",
       "8108021  25.25  279.25 2018-01-01  20.244444\n",
       "8108022  25.25  279.25 2018-01-02  17.381365\n",
       "8108023  25.25  279.25 2018-01-03  15.314527\n",
       "8108024  25.25  279.25 2018-01-04  10.294666\n",
       "8108025  25.25  279.25 2018-01-05  11.791142\n",
       "...        ...     ...        ...        ...\n",
       "8108381  25.25  279.25 2018-12-27  24.758492\n",
       "8108382  25.25  279.25 2018-12-28  25.610886\n",
       "8108383  25.25  279.25 2018-12-29  24.864708\n",
       "8108384  25.25  279.25 2018-12-30  23.908970\n",
       "8108385  25.25  279.25 2018-12-31  24.517799\n",
       "\n",
       "[365 rows x 4 columns]"
      ]
     },
     "execution_count": 432,
     "metadata": {},
     "output_type": "execute_result"
    }
   ],
   "source": [
    "test = tmp2m[(tmp2m['lat']==25.25) & (tmp2m['lon']==279.25)]\n",
    "test"
   ]
  },
  {
   "cell_type": "code",
   "execution_count": 15,
   "metadata": {},
   "outputs": [],
   "source": [
    "import pyflux as pf\n",
    "test = pd.DataFrame(y_samp).astype('double')\n",
    "model_VAR = pf.VAR(data=test,lags=7,integ=1)"
   ]
  },
  {
   "cell_type": "code",
   "execution_count": 14,
   "metadata": {},
   "outputs": [],
   "source": []
  }
 ],
 "metadata": {
  "kernelspec": {
   "display_name": "Python 3",
   "language": "python",
   "name": "python3"
  },
  "language_info": {
   "codemirror_mode": {
    "name": "ipython",
    "version": 3
   },
   "file_extension": ".py",
   "mimetype": "text/x-python",
   "name": "python",
   "nbconvert_exporter": "python",
   "pygments_lexer": "ipython3",
   "version": "3.8.3"
  }
 },
 "nbformat": 4,
 "nbformat_minor": 4
}
