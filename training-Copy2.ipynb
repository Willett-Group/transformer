{
 "cells": [
  {
   "cell_type": "markdown",
   "metadata": {},
   "source": [
    "# Classic"
   ]
  },
  {
   "cell_type": "code",
   "execution_count": null,
   "metadata": {},
   "outputs": [],
   "source": [
    "%load_ext autoreload\n",
    "%autoreload 2"
   ]
  },
  {
   "cell_type": "code",
   "execution_count": 1,
   "metadata": {},
   "outputs": [],
   "source": [
    "import datetime\n",
    "from sklearn.metrics import r2_score\n",
    "import numpy as np\n",
    "from matplotlib import pyplot as plt\n",
    "import torch\n",
    "import torch.nn as nn\n",
    "import torch.optim as optim\n",
    "from torch.utils.data import DataLoader, random_split\n",
    "from tqdm import tqdm\n",
    "import seaborn as sns\n",
    "\n",
    "from tst import Transformer\n",
    "from tst.loss import OZELoss\n",
    "import os\n",
    "import pandas as pd\n",
    "import torch.nn as nn\n",
    "import xgboost as xgb\n",
    "\n",
    "from src.dataset import OzeDataset\n",
    "from src.utils import compute_loss\n",
    "from src.utils import preprocess\n",
    "from sklearn.metrics.pairwise import cosine_similarity\n",
    "from src.visualization import map_plot_function, plot_values_distribution, plot_error_distribution, plot_errors_threshold, plot_visual_sample"
   ]
  },
  {
   "cell_type": "code",
   "execution_count": 2,
   "metadata": {},
   "outputs": [
    {
     "data": {
      "text/plain": [
       "device(type='cuda')"
      ]
     },
     "execution_count": 2,
     "metadata": {},
     "output_type": "execute_result"
    }
   ],
   "source": [
    "import os\n",
    "device = torch.device(\"cuda\" if torch.cuda.is_available() else \"cpu\")\n",
    "device"
   ]
  },
  {
   "cell_type": "code",
   "execution_count": null,
   "metadata": {},
   "outputs": [],
   "source": []
  },
  {
   "cell_type": "code",
   "execution_count": 3,
   "metadata": {},
   "outputs": [],
   "source": [
    "# Training parameters\n",
    "DATASET_PATH = '/share/data/willett-group/energy_data/data_gen_original.npz' #'datasets/dataset_57M.npz'\n",
    "\n",
    "BATCH_SIZE = 8\n",
    "NUM_WORKERS = 0\n",
    "LR = 2e-4\n",
    "EPOCHS = 30\n",
    "\n",
    "# Model parameters\n",
    "d_model = 64 # Lattent dim\n",
    "q = 8 # Query size\n",
    "v = 8 # Value size\n",
    "h = 8 # Number of heads\n",
    "N = 4 # Number of encoder and decoder to stack\n",
    "attention_size = 10 # Attention window size\n",
    "dropout = 0.2 # Dropout rate\n",
    "pe = None # Positional encoding\n",
    "chunk_mode = None\n",
    "\n",
    "d_input = 20 # From dataset\n",
    "d_output = 1 # From dataset"
   ]
  },
  {
   "cell_type": "code",
   "execution_count": 4,
   "metadata": {},
   "outputs": [
    {
     "data": {
      "text/plain": [
       "True"
      ]
     },
     "execution_count": 4,
     "metadata": {},
     "output_type": "execute_result"
    }
   ],
   "source": [
    "torch.cuda.is_available()"
   ]
  },
  {
   "cell_type": "code",
   "execution_count": 5,
   "metadata": {},
   "outputs": [],
   "source": [
    "# Config\n",
    "# sns.set()\n",
    "# device = torch.device(\"cuda:1\" if torch.cuda.is_available() else \"cpu\")\n",
    "# print(f\"Using device {device}\")"
   ]
  },
  {
   "cell_type": "markdown",
   "metadata": {},
   "source": [
    "## Training"
   ]
  },
  {
   "cell_type": "markdown",
   "metadata": {},
   "source": [
    "### Load dataset"
   ]
  },
  {
   "cell_type": "code",
   "execution_count": 111,
   "metadata": {},
   "outputs": [
    {
     "name": "stderr",
     "output_type": "stream",
     "text": [
      "<ipython-input-111-2b5b6646e4be>:7: DeprecationWarning: The default dtype for empty Series will be 'object' instead of 'float64' in a future version. Specify a dtype explicitly to silence this warning.\n",
      "  y_samp = pd.Series()\n"
     ]
    },
    {
     "name": "stdout",
     "output_type": "stream",
     "text": [
      "precip.2014.h5\n",
      "precip.2015.h5\n",
      "precip.2016.h5\n",
      "precip.2017.h5\n",
      "precip.2018.h5\n"
     ]
    }
   ],
   "source": [
    "us_mask = pd.DataFrame(pd.read_hdf('~/Desktop/Research/data/SSF/us_mask.h5'))\n",
    "# previous lat/lon = 25.25, 279.25\n",
    "tar_lat = 33.75\n",
    "tar_lon = 242.25\n",
    "# This block is to put all nearby sst data together in time order\n",
    "# And also transform data into time order (single location\\)\n",
    "y_samp = pd.Series()\n",
    "X_total = []\n",
    "for i in range(2014,2019):\n",
    "    print('precip.'+str(i)+'.h5')\n",
    "    name_precip = 'precip.'+str(i)+'.h5'\n",
    "    name_sst = 'sst.'+str(i)+'.h5' \n",
    "    name_hgt = 'hgt500.'+str(i)+'.h5'\n",
    "    name_rhum = 'rhum.sig995.'+str(i)+'.h5'\n",
    "    name_tmp2m = 'tmp2m.'+str(i)+'.h5'\n",
    "    fileloc_precip = '~/Desktop/Research/data/SSF/' + name_precip\n",
    "    fileloc_sst = '~/Desktop/Research/data/SSF/' + name_sst\n",
    "    fileloc_hgt = '~/Desktop/Research/data/SSF/' + name_hgt\n",
    "    fileloc_rhum = '~/Desktop/Research/data/SSF/' + name_rhum\n",
    "    fileloc_tmp2m = '~/Desktop/Research/data/SSF/' + name_tmp2m\n",
    "    precip = pd.DataFrame(pd.read_hdf(fileloc_precip)).reset_index()\n",
    "    precip.columns = ['lat', 'lon', 'start_date', 'precip']\n",
    "    sst = pd.DataFrame(pd.read_hdf(fileloc_sst)).reset_index()\n",
    "    sst.columns = ['lat', 'lon', 'start_date', 'sst']\n",
    "    hgt = pd.DataFrame(pd.read_hdf(fileloc_hgt)).reset_index()\n",
    "    hgt.columns = ['lat', 'lon', 'start_date', 'hgt']\n",
    "    rhum = pd.DataFrame(pd.read_hdf(fileloc_rhum)).reset_index()\n",
    "    rhum.columns = ['lat', 'lon', 'start_date', 'rhum']\n",
    "    tmp2m = pd.DataFrame(pd.read_hdf(fileloc_tmp2m)).reset_index()\n",
    "    tmp2m.columns = ['lat', 'lon', 'start_date', 'tmp2m']\n",
    "    \n",
    "    precip = pd.merge(precip, us_mask, on=['lat','lon'])\n",
    "    hgt = pd.merge(hgt, us_mask, on=['lat','lon'])\n",
    "    rhum = pd.merge(rhum, us_mask, on=['lat','lon'])\n",
    "    tmp2m = pd.merge(tmp2m, us_mask, on=['lat','lon'])\n",
    "    \n",
    "    hgt = np.reshape(hgt[(hgt['lat']==tar_lat) & (hgt['lon']==tar_lon)].hgt.to_numpy(),(-1,1))\n",
    "    rhum = np.reshape(rhum[(rhum['lat']==tar_lat) & (rhum['lon']==tar_lon)].rhum.to_numpy(),(-1,1))\n",
    "    tmp2m = np.reshape(tmp2m[(tmp2m['lat']==tar_lat) & (tmp2m['lon']==tar_lon)].tmp2m.to_numpy(),(-1,1))\n",
    "    \n",
    "    y_samp = y_samp.append(precip[(precip['lat']==tar_lat) & (precip['lon']==tar_lon)].precip,ignore_index=True)\n",
    "    \n",
    "    if i%4 == 0:\n",
    "        days = 366\n",
    "    else:\n",
    "        days = 365\n",
    "    temp = sst[(sst['lat']>=tar_lat-1) & (sst['lat']<=tar_lat+1) & (sst['lon']>=tar_lon-1) & (sst['lon']<=tar_lon+1)]\n",
    "    sst_samp = temp.sst.reset_index().sst.to_numpy()\n",
    "    size = int(len(sst_samp)/days)\n",
    "    sst_samp = np.reshape(sst_samp,(size,days)).transpose() # days as rows, different locations as columns\n",
    "    all_features = np.concatenate((sst_samp,hgt,rhum,tmp2m),axis=1)\n",
    "    X_total.append(all_features)\n",
    "    \n",
    "X_size = X_total[0].shape[1]\n",
    "X_samp = np.zeros((1,X_size)) #  For concatenating all data\n",
    "for i in range(len(X_total)):\n",
    "    X_samp = np.concatenate((X_samp,X_total[i]),axis = 0)\n",
    "X_samp = X_samp[1:]"
   ]
  },
  {
   "cell_type": "code",
   "execution_count": 112,
   "metadata": {},
   "outputs": [],
   "source": [
    "X_copy = X_samp.copy()\n",
    "y_copy = y_samp.copy()\n",
    "sst_size = X_copy.shape[1]-3"
   ]
  },
  {
   "cell_type": "code",
   "execution_count": 199,
   "metadata": {},
   "outputs": [],
   "source": [
    "X_samp = X_copy.copy()\n",
    "y_samp = y_copy.copy()\n",
    "target = 'precip'\n",
    "y_samp = X_copy[:,X_copy.shape[1]-1].copy()\n",
    "X_samp[:,X_copy.shape[1]-1] = y_copy.copy()\n",
    "target = 'tmp2m'\n"
   ]
  },
  {
   "cell_type": "code",
   "execution_count": 200,
   "metadata": {},
   "outputs": [
    {
     "data": {
      "text/plain": [
       "((1826, 10), (1826,))"
      ]
     },
     "execution_count": 200,
     "metadata": {},
     "output_type": "execute_result"
    }
   ],
   "source": [
    "X_samp.shape, y_samp.shape"
   ]
  },
  {
   "cell_type": "code",
   "execution_count": 201,
   "metadata": {
    "scrolled": true
   },
   "outputs": [
    {
     "data": {
      "text/plain": [
       "[<matplotlib.lines.Line2D at 0x2c880507b20>]"
      ]
     },
     "execution_count": 201,
     "metadata": {},
     "output_type": "execute_result"
    },
    {
     "data": {
      "image/png": "[encoded data removed]",
      "text/plain": [
       "<Figure size 432x288 with 1 Axes>"
      ]
     },
     "metadata": {
      "needs_background": "light"
     },
     "output_type": "display_data"
    }
   ],
   "source": [
    "plt.plot(X_samp[:,9])"
   ]
  },
  {
   "cell_type": "code",
   "execution_count": 198,
   "metadata": {},
   "outputs": [],
   "source": [
    "# Calculate moving average for tmp\n",
    "avg_window = 14\n",
    "y_movavg = []\n",
    "X_movavg = []\n",
    "for i in range(y_samp.shape[0]-avg_window):\n",
    "    y_avg = np.mean(y_samp[i:i+avg_window])\n",
    "    y_movavg.append(y_avg)\n",
    "    X_avg = np.mean(X_samp[i:i+avg_window],axis=0)\n",
    "    X_movavg.append(X_avg)\n",
    "y_movavg = np.array(y_movavg)\n",
    "X_movavg = np.array(X_movavg)\n",
    "y_samp = y_movavg\n",
    "X_samp = X_movavg"
   ]
  },
  {
   "cell_type": "code",
   "execution_count": 202,
   "metadata": {},
   "outputs": [],
   "source": [
    "# Standardize data by z-scoring\n",
    "mean = np.mean(y_samp)\n",
    "std = np.std(y_samp)\n",
    "y_samp = (y_samp-mean)/std\n",
    "X_samp[:,0:sst_size] = (X_samp[:,0:sst_size] - np.mean(X_samp[:,0:sst_size]))/np.std(X_samp[:,0:sst_size])\n",
    "X_samp[:,sst_size] = (X_samp[:,sst_size] - np.mean(X_samp[:,sst_size]))/np.std(X_samp[:,sst_size])\n",
    "X_samp[:,sst_size+1] = (X_samp[:,sst_size+1] - np.mean(X_samp[:,sst_size+1]))/np.std(X_samp[:,sst_size+1])\n",
    "X_samp[:,sst_size+2] = (X_samp[:,sst_size+2] - np.mean(X_samp[:,sst_size+2]))/np.std(X_samp[:,sst_size+2])\n",
    "\n",
    "X = X_samp.copy()\n",
    "y = y_samp.copy()\n",
    "\n",
    "\n"
   ]
  },
  {
   "cell_type": "code",
   "execution_count": 74,
   "metadata": {},
   "outputs": [
    {
     "data": {
      "text/plain": [
       "-0.17905584026869065"
      ]
     },
     "execution_count": 74,
     "metadata": {},
     "output_type": "execute_result"
    }
   ],
   "source": []
  },
  {
   "cell_type": "code",
   "execution_count": 63,
   "metadata": {},
   "outputs": [],
   "source": [
    "M = np.max(y_samp)\n",
    "m = np.min(y_samp)\n",
    "y_samp = (y_samp -m)/(M - m)\n",
    "X_samp[:,0:sst_size] = (X_samp[:,0:sst_size] - np.min(X_samp[:,0:sst_size]))/ (np.max(X_samp[:,0:sst_size]) - np.min(X_samp[:,0:sst_size]))\n",
    "X_samp[:,sst_size] = (X_samp[:,sst_size] - np.min(X_samp[:,sst_size]))/(np.max(X_samp[:,sst_size]) - np.min(X_samp[:,sst_size]))\n",
    "X_samp[:,sst_size+1] = (X_samp[:,sst_size+1] - np.min(X_samp[:,sst_size+1]))/(np.max(X_samp[:,sst_size+1]) - np.min(X_samp[:,sst_size+1]))\n",
    "X_samp[:,sst_size+2] = (X_samp[:,sst_size+2] - np.min(X_samp[:,sst_size+2]))/(np.max(X_samp[:,sst_size+2]) - np.min(X_samp[:,sst_size+2]))\n",
    "\n",
    "X = X_samp.copy()\n",
    "y = y_samp.copy()"
   ]
  },
  {
   "cell_type": "code",
   "execution_count": 64,
   "metadata": {},
   "outputs": [],
   "source": [
    "def normilize(X, y,sst_size):\n",
    "    M = np.max(y)\n",
    "    m = np.min(y)\n",
    "    y = (y - m)/(M - m)\n",
    "    X[:,0:sst_size] = (X[:,0:sst_size] - np.min(X[:,0:sst_size]))/ (np.max(X[:,0:sst_size]) - np.min(X[:,0:sst_size]))\n",
    "    X[:,sst_size] = (X[:,sst_size] - np.min(X[:,sst_size]))/(np.max(X[:,sst_size]) - np.min(X[:,sst_size]))\n",
    "    X[:,sst_size+1] = (X[:,sst_size+1] - np.min(X[:,sst_size+1]))/(np.max(X[:,sst_size+1]) - np.min(X[:,sst_size+1]))\n",
    "    X[:,sst_size+2] = (X[:,sst_size+2] - np.min(X[:,sst_size+2]))/(np.max(X[:,sst_size+2]) - np.min(X[:,sst_size+2]))\n",
    "\n",
    "#     X = X_samp.copy()\n",
    "#     y = y_samp.copy()\n",
    "    return X, y"
   ]
  },
  {
   "cell_type": "code",
   "execution_count": 203,
   "metadata": {},
   "outputs": [],
   "source": [
    "# Detrend by dividing the averages of the same day data in different years (UMN approach)\n",
    "X_avg = np.zeros((365,X_samp.shape[1]))\n",
    "y_avg = np.zeros(365)\n",
    "for i in range(365):\n",
    "    X_avg[i,:] = (X_samp[i,:] +X_samp[i+365,:] + X_samp[i+2*365,:] + X_samp[i+3*365,:])/4\n",
    "    y_avg[i] = (y_samp[i] +y_samp[i+365] + y_samp[i+2*365] + y_samp[i+3*365])/4\n",
    "for i in range(X_samp.shape[0]):\n",
    "    X_samp[i,:] = X_samp[i,:]/X_avg[i%365,:]\n",
    "    y_samp[i] = y_samp[i]/y_avg[i%365]\n",
    "# plt.plot(y_avg)"
   ]
  },
  {
   "cell_type": "code",
   "execution_count": 204,
   "metadata": {},
   "outputs": [
    {
     "data": {
      "text/plain": [
       "(1826,)"
      ]
     },
     "execution_count": 204,
     "metadata": {},
     "output_type": "execute_result"
    }
   ],
   "source": [
    "y_samp.shape"
   ]
  },
  {
   "cell_type": "code",
   "execution_count": 205,
   "metadata": {},
   "outputs": [],
   "source": [
    "# Calculate moving average for tmp\n",
    "avg_window = 14\n",
    "y_movavg = []\n",
    "X_movavg = []\n",
    "for i in range(y.shape[0]-avg_window):\n",
    "    y_avg = np.mean(y_samp[i:i+avg_window])\n",
    "    y_movavg.append(y_avg)\n",
    "    X_avg = np.mean(X_samp[i:i+avg_window],axis=0)\n",
    "    X_movavg.append(X_avg)\n",
    "y_movavg = np.array(y_movavg)\n",
    "X_movavg = np.array(X_movavg)\n",
    "y_samp = y_movavg\n",
    "X_samp = X_movavg"
   ]
  },
  {
   "cell_type": "code",
   "execution_count": 206,
   "metadata": {},
   "outputs": [
    {
     "data": {
      "text/plain": [
       "1812"
      ]
     },
     "execution_count": 206,
     "metadata": {},
     "output_type": "execute_result"
    }
   ],
   "source": [
    "y_samp.shape[0]"
   ]
  },
  {
   "cell_type": "code",
   "execution_count": 207,
   "metadata": {},
   "outputs": [],
   "source": [
    "def create_sequence(input_data, train_window, pred_window):  #  Create sequences of observations for training\n",
    "    seq = []\n",
    "    L = len(input_data)\n",
    "    feature_size = input_data[0].shape[0]\n",
    "    print('feature_size', feature_size)\n",
    "    for i in range(L - train_window-pred_window):\n",
    "        train_seq = input_data[i:i+train_window]\n",
    "        train_label = input_data[i+train_window+pred_window-1,feature_size-1] # get y_t+14\n",
    "#         train_label = input_data[i + train_window + pred_window]\n",
    "        seq.append((train_seq ,train_label))\n",
    "        \n",
    "    print('train_seq, train_label', train_seq.shape, train_label.shape)\n",
    "    return seq"
   ]
  },
  {
   "cell_type": "code",
   "execution_count": 208,
   "metadata": {},
   "outputs": [],
   "source": [
    "train_test_split = 0.8\n",
    "test_size = int((1-train_test_split)*y_samp.shape[0])\n",
    "X_train = X_samp[:-test_size]\n",
    "X_test = X_samp[-test_size:]\n",
    "y_train = y_samp[:-test_size]\n",
    "y_test = y_samp[-test_size:]"
   ]
  },
  {
   "cell_type": "code",
   "execution_count": 166,
   "metadata": {},
   "outputs": [
    {
     "data": {
      "text/plain": [
       "362.40000000000003"
      ]
     },
     "execution_count": 166,
     "metadata": {},
     "output_type": "execute_result"
    }
   ],
   "source": [
    "0.2*1812"
   ]
  },
  {
   "cell_type": "code",
   "execution_count": 209,
   "metadata": {},
   "outputs": [
    {
     "data": {
      "text/plain": [
       "((1450, 10), (1450,))"
      ]
     },
     "execution_count": 209,
     "metadata": {},
     "output_type": "execute_result"
    }
   ],
   "source": [
    "X_train.shape, y_train.shape"
   ]
  },
  {
   "cell_type": "code",
   "execution_count": 210,
   "metadata": {},
   "outputs": [],
   "source": [
    "y_train = np.reshape(y_train,(-1,1))  #  Matching dimension for concatenating X and y\n",
    "y_test = np.reshape(y_test,(-1,1)) \n",
    "train_data_array = np.concatenate((X_train,y_train),axis=1)\n",
    "train_data = torch.FloatTensor(train_data_array)\n",
    "y_train = torch.FloatTensor(y_train)"
   ]
  },
  {
   "cell_type": "code",
   "execution_count": 211,
   "metadata": {},
   "outputs": [
    {
     "data": {
      "text/plain": [
       "(torch.Size([1450, 11]), torch.Size([1450, 1]))"
      ]
     },
     "execution_count": 211,
     "metadata": {},
     "output_type": "execute_result"
    }
   ],
   "source": [
    "train_data.shape, y_train.shape"
   ]
  },
  {
   "cell_type": "code",
   "execution_count": 212,
   "metadata": {},
   "outputs": [
    {
     "name": "stdout",
     "output_type": "stream",
     "text": [
      "feature_size 11\n",
      "train_seq, train_label torch.Size([90, 11]) torch.Size([])\n"
     ]
    }
   ],
   "source": [
    "train_window = 90\n",
    "pred_window = 28\n",
    "train_seq = create_sequence(train_data, train_window, pred_window)"
   ]
  },
  {
   "cell_type": "code",
   "execution_count": 213,
   "metadata": {},
   "outputs": [
    {
     "data": {
      "text/plain": [
       "1332"
      ]
     },
     "execution_count": 213,
     "metadata": {},
     "output_type": "execute_result"
    }
   ],
   "source": [
    "len(train_seq)"
   ]
  },
  {
   "cell_type": "code",
   "execution_count": 214,
   "metadata": {},
   "outputs": [],
   "source": [
    "from torch.utils.data import Dataset, DataLoader\n",
    "\n",
    "class SeqDataset(Dataset):\n",
    "    def __init__(self, seq_data, transform=None):\n",
    "        \n",
    "        self.seq_data = seq_data\n",
    "        self.x = []\n",
    "        self.y = []\n",
    "        for i in range(len(self.seq_data)):\n",
    "            self.x.append(self.seq_data[i][0])\n",
    "            self.y.append(self.seq_data[i][1])\n",
    "\n",
    "    def __getitem__(self, idx):\n",
    "        if torch.is_tensor(idx):\n",
    "            idx = idx.tolist()\n",
    "\n",
    "        return (self.x[idx], self.y[idx])\n",
    "\n",
    "    def __len__(self):\n",
    "        return len(train_seq) #self._x.shape[0]"
   ]
  },
  {
   "cell_type": "code",
   "execution_count": 215,
   "metadata": {},
   "outputs": [],
   "source": [
    "dataset_train = SeqDataset(train_seq)\n",
    "dataloader_train = DataLoader(dataset_train,\n",
    "                              batch_size=16,\n",
    "                              shuffle=False,\n",
    "                              num_workers=0,\n",
    "                              pin_memory=False\n",
    "                             )"
   ]
  },
  {
   "cell_type": "markdown",
   "metadata": {},
   "source": [
    "### Load network"
   ]
  },
  {
   "cell_type": "code",
   "execution_count": 216,
   "metadata": {},
   "outputs": [],
   "source": [
    "class Reshape(nn.Module):\n",
    "    def __init__(self, *args):\n",
    "        super(Reshape, self).__init__()\n",
    "        self.shape = args\n",
    "\n",
    "    def forward(self, x):\n",
    "        return x.view(self.shape)"
   ]
  },
  {
   "cell_type": "code",
   "execution_count": 217,
   "metadata": {},
   "outputs": [],
   "source": [
    "from torch.optim.lr_scheduler import StepLR, CosineAnnealingLR"
   ]
  },
  {
   "cell_type": "code",
   "execution_count": 218,
   "metadata": {},
   "outputs": [],
   "source": [
    "# Load transformer with Adam optimizer and MSE loss function\n",
    "d_input = 11 # From dataset\n",
    "d_output = 1 # From dataset\n",
    "attention_size = 8\n",
    "LR = 1e-4 #1e-3\n",
    "d_model = 64\n",
    "net = Transformer(d_input, d_model, d_output, q, v, h, N, seq_len=train_window,attention_size=attention_size, \n",
    "                  dropout=dropout, chunk_mode=chunk_mode, pe='regular', pe_period=2).to(device)\n",
    "# net = nn.Sequential(Transformer(d_input, d_model, d_output, q, v, h, N, attention_size=attention_size, \n",
    "#                   dropout=dropout, chunk_mode=chunk_mode, pe=pe),\n",
    "#                     nn.Flatten(),\n",
    "#                     nn.Linear(30, 1),\n",
    "#                    ).to(device)\n",
    "optimizer = optim.Adam(net.parameters(), lr=LR)\n",
    "loss_function = nn.MSELoss() #OZELoss(alpha=0.3)\n",
    "\n",
    "# scheduler = CosineAnnealingLR(optimizer, 30, 0) # StepLR(optimizer, step_size=15, gamma=0.1)"
   ]
  },
  {
   "cell_type": "markdown",
   "metadata": {},
   "source": [
    "### Train"
   ]
  },
  {
   "cell_type": "code",
   "execution_count": 219,
   "metadata": {},
   "outputs": [],
   "source": [
    "# torch.save(net.state_dict(), 'transformer_toy.pth') # attn size 2, batch 16, lr 1e-4, 40 epochs"
   ]
  },
  {
   "cell_type": "code",
   "execution_count": 220,
   "metadata": {},
   "outputs": [
    {
     "name": "stderr",
     "output_type": "stream",
     "text": [
      "[Epoch   1/100]: 100%|██████████| 1332/1332 [00:03<00:00, 363.32it/s, loss=27.7]\n",
      "[Epoch   2/100]: 100%|██████████| 1332/1332 [00:03<00:00, 366.71it/s, loss=27.6]\n",
      "[Epoch   3/100]: 100%|██████████| 1332/1332 [00:03<00:00, 368.53it/s, loss=27.6]\n",
      "[Epoch   4/100]: 100%|██████████| 1332/1332 [00:03<00:00, 365.51it/s, loss=27.6]\n",
      "[Epoch   5/100]: 100%|██████████| 1332/1332 [00:03<00:00, 364.11it/s, loss=27.6]\n",
      "[Epoch   6/100]: 100%|██████████| 1332/1332 [00:03<00:00, 367.82it/s, loss=27.6]\n",
      "[Epoch   7/100]: 100%|██████████| 1332/1332 [00:03<00:00, 363.32it/s, loss=27.6]\n",
      "[Epoch   8/100]: 100%|██████████| 1332/1332 [00:03<00:00, 363.81it/s, loss=27.6]\n",
      "[Epoch   9/100]: 100%|██████████| 1332/1332 [00:03<00:00, 372.33it/s, loss=27.6]\n",
      "[Epoch  10/100]: 100%|██████████| 1332/1332 [00:03<00:00, 359.60it/s, loss=27.6]\n",
      "[Epoch  11/100]:  61%|██████▏   | 816/1332 [00:02<00:01, 369.88it/s, loss=43.3]\n"
     ]
    },
    {
     "ename": "KeyboardInterrupt",
     "evalue": "",
     "output_type": "error",
     "traceback": [
      "\u001b[1;31m---------------------------------------------------------------------------\u001b[0m",
      "\u001b[1;31mKeyboardInterrupt\u001b[0m                         Traceback (most recent call last)",
      "\u001b[1;32m<ipython-input-220-6ef9bcca4bf2>\u001b[0m in \u001b[0;36m<module>\u001b[1;34m\u001b[0m\n\u001b[0;32m     12\u001b[0m \u001b[1;33m\u001b[0m\u001b[0m\n\u001b[0;32m     13\u001b[0m             \u001b[1;31m# Propagate input\u001b[0m\u001b[1;33m\u001b[0m\u001b[1;33m\u001b[0m\u001b[1;33m\u001b[0m\u001b[0m\n\u001b[1;32m---> 14\u001b[1;33m             \u001b[0mnetout\u001b[0m \u001b[1;33m=\u001b[0m \u001b[0mnet\u001b[0m\u001b[1;33m(\u001b[0m\u001b[0mx\u001b[0m\u001b[1;33m.\u001b[0m\u001b[0mto\u001b[0m\u001b[1;33m(\u001b[0m\u001b[0mdevice\u001b[0m\u001b[1;33m)\u001b[0m\u001b[1;33m)\u001b[0m\u001b[1;33m\u001b[0m\u001b[1;33m\u001b[0m\u001b[0m\n\u001b[0m\u001b[0;32m     15\u001b[0m \u001b[1;31m#             print(netout.shape)\u001b[0m\u001b[1;33m\u001b[0m\u001b[1;33m\u001b[0m\u001b[1;33m\u001b[0m\u001b[0m\n\u001b[0;32m     16\u001b[0m             \u001b[1;31m# Compute loss\u001b[0m\u001b[1;33m\u001b[0m\u001b[1;33m\u001b[0m\u001b[1;33m\u001b[0m\u001b[0m\n",
      "\u001b[1;32m~\\anaconda3\\lib\\site-packages\\torch\\nn\\modules\\module.py\u001b[0m in \u001b[0;36m_call_impl\u001b[1;34m(self, *input, **kwargs)\u001b[0m\n\u001b[0;32m    720\u001b[0m             \u001b[0mresult\u001b[0m \u001b[1;33m=\u001b[0m \u001b[0mself\u001b[0m\u001b[1;33m.\u001b[0m\u001b[0m_slow_forward\u001b[0m\u001b[1;33m(\u001b[0m\u001b[1;33m*\u001b[0m\u001b[0minput\u001b[0m\u001b[1;33m,\u001b[0m \u001b[1;33m**\u001b[0m\u001b[0mkwargs\u001b[0m\u001b[1;33m)\u001b[0m\u001b[1;33m\u001b[0m\u001b[1;33m\u001b[0m\u001b[0m\n\u001b[0;32m    721\u001b[0m         \u001b[1;32melse\u001b[0m\u001b[1;33m:\u001b[0m\u001b[1;33m\u001b[0m\u001b[1;33m\u001b[0m\u001b[0m\n\u001b[1;32m--> 722\u001b[1;33m             \u001b[0mresult\u001b[0m \u001b[1;33m=\u001b[0m \u001b[0mself\u001b[0m\u001b[1;33m.\u001b[0m\u001b[0mforward\u001b[0m\u001b[1;33m(\u001b[0m\u001b[1;33m*\u001b[0m\u001b[0minput\u001b[0m\u001b[1;33m,\u001b[0m \u001b[1;33m**\u001b[0m\u001b[0mkwargs\u001b[0m\u001b[1;33m)\u001b[0m\u001b[1;33m\u001b[0m\u001b[1;33m\u001b[0m\u001b[0m\n\u001b[0m\u001b[0;32m    723\u001b[0m         for hook in itertools.chain(\n\u001b[0;32m    724\u001b[0m                 \u001b[0m_global_forward_hooks\u001b[0m\u001b[1;33m.\u001b[0m\u001b[0mvalues\u001b[0m\u001b[1;33m(\u001b[0m\u001b[1;33m)\u001b[0m\u001b[1;33m,\u001b[0m\u001b[1;33m\u001b[0m\u001b[1;33m\u001b[0m\u001b[0m\n",
      "\u001b[1;32m~\\Desktop\\Research\\SSF Transformer\\transformer\\tst\\transformer.py\u001b[0m in \u001b[0;36mforward\u001b[1;34m(self, x)\u001b[0m\n\u001b[0;32m    139\u001b[0m         \u001b[1;31m# Encoding stack\u001b[0m\u001b[1;33m\u001b[0m\u001b[1;33m\u001b[0m\u001b[1;33m\u001b[0m\u001b[0m\n\u001b[0;32m    140\u001b[0m         \u001b[1;32mfor\u001b[0m \u001b[0mlayer\u001b[0m \u001b[1;32min\u001b[0m \u001b[0mself\u001b[0m\u001b[1;33m.\u001b[0m\u001b[0mlayers_encoding\u001b[0m\u001b[1;33m:\u001b[0m\u001b[1;33m\u001b[0m\u001b[1;33m\u001b[0m\u001b[0m\n\u001b[1;32m--> 141\u001b[1;33m             \u001b[0mencoding\u001b[0m \u001b[1;33m=\u001b[0m \u001b[0mlayer\u001b[0m\u001b[1;33m(\u001b[0m\u001b[0mencoding\u001b[0m\u001b[1;33m)\u001b[0m\u001b[1;33m\u001b[0m\u001b[1;33m\u001b[0m\u001b[0m\n\u001b[0m\u001b[0;32m    142\u001b[0m \u001b[1;33m\u001b[0m\u001b[0m\n\u001b[0;32m    143\u001b[0m         \u001b[1;31m# Decoding stack\u001b[0m\u001b[1;33m\u001b[0m\u001b[1;33m\u001b[0m\u001b[1;33m\u001b[0m\u001b[0m\n",
      "\u001b[1;32m~\\anaconda3\\lib\\site-packages\\torch\\nn\\modules\\module.py\u001b[0m in \u001b[0;36m_call_impl\u001b[1;34m(self, *input, **kwargs)\u001b[0m\n\u001b[0;32m    720\u001b[0m             \u001b[0mresult\u001b[0m \u001b[1;33m=\u001b[0m \u001b[0mself\u001b[0m\u001b[1;33m.\u001b[0m\u001b[0m_slow_forward\u001b[0m\u001b[1;33m(\u001b[0m\u001b[1;33m*\u001b[0m\u001b[0minput\u001b[0m\u001b[1;33m,\u001b[0m \u001b[1;33m**\u001b[0m\u001b[0mkwargs\u001b[0m\u001b[1;33m)\u001b[0m\u001b[1;33m\u001b[0m\u001b[1;33m\u001b[0m\u001b[0m\n\u001b[0;32m    721\u001b[0m         \u001b[1;32melse\u001b[0m\u001b[1;33m:\u001b[0m\u001b[1;33m\u001b[0m\u001b[1;33m\u001b[0m\u001b[0m\n\u001b[1;32m--> 722\u001b[1;33m             \u001b[0mresult\u001b[0m \u001b[1;33m=\u001b[0m \u001b[0mself\u001b[0m\u001b[1;33m.\u001b[0m\u001b[0mforward\u001b[0m\u001b[1;33m(\u001b[0m\u001b[1;33m*\u001b[0m\u001b[0minput\u001b[0m\u001b[1;33m,\u001b[0m \u001b[1;33m**\u001b[0m\u001b[0mkwargs\u001b[0m\u001b[1;33m)\u001b[0m\u001b[1;33m\u001b[0m\u001b[1;33m\u001b[0m\u001b[0m\n\u001b[0m\u001b[0;32m    723\u001b[0m         for hook in itertools.chain(\n\u001b[0;32m    724\u001b[0m                 \u001b[0m_global_forward_hooks\u001b[0m\u001b[1;33m.\u001b[0m\u001b[0mvalues\u001b[0m\u001b[1;33m(\u001b[0m\u001b[1;33m)\u001b[0m\u001b[1;33m,\u001b[0m\u001b[1;33m\u001b[0m\u001b[1;33m\u001b[0m\u001b[0m\n",
      "\u001b[1;32m~\\Desktop\\Research\\SSF Transformer\\transformer\\tst\\encoder.py\u001b[0m in \u001b[0;36mforward\u001b[1;34m(self, x)\u001b[0m\n\u001b[0;32m     84\u001b[0m         \u001b[1;31m# Self attention\u001b[0m\u001b[1;33m\u001b[0m\u001b[1;33m\u001b[0m\u001b[1;33m\u001b[0m\u001b[0m\n\u001b[0;32m     85\u001b[0m         \u001b[0mresidual\u001b[0m \u001b[1;33m=\u001b[0m \u001b[0mx\u001b[0m\u001b[1;33m\u001b[0m\u001b[1;33m\u001b[0m\u001b[0m\n\u001b[1;32m---> 86\u001b[1;33m         \u001b[0mx\u001b[0m \u001b[1;33m=\u001b[0m \u001b[0mself\u001b[0m\u001b[1;33m.\u001b[0m\u001b[0m_selfAttention\u001b[0m\u001b[1;33m(\u001b[0m\u001b[0mquery\u001b[0m\u001b[1;33m=\u001b[0m\u001b[0mx\u001b[0m\u001b[1;33m,\u001b[0m \u001b[0mkey\u001b[0m\u001b[1;33m=\u001b[0m\u001b[0mx\u001b[0m\u001b[1;33m,\u001b[0m \u001b[0mvalue\u001b[0m\u001b[1;33m=\u001b[0m\u001b[0mx\u001b[0m\u001b[1;33m)\u001b[0m\u001b[1;33m\u001b[0m\u001b[1;33m\u001b[0m\u001b[0m\n\u001b[0m\u001b[0;32m     87\u001b[0m         \u001b[0mx\u001b[0m \u001b[1;33m=\u001b[0m \u001b[0mself\u001b[0m\u001b[1;33m.\u001b[0m\u001b[0m_dopout\u001b[0m\u001b[1;33m(\u001b[0m\u001b[0mx\u001b[0m\u001b[1;33m)\u001b[0m\u001b[1;33m\u001b[0m\u001b[1;33m\u001b[0m\u001b[0m\n\u001b[0;32m     88\u001b[0m         \u001b[0mx\u001b[0m \u001b[1;33m=\u001b[0m \u001b[0mself\u001b[0m\u001b[1;33m.\u001b[0m\u001b[0m_layerNorm1\u001b[0m\u001b[1;33m(\u001b[0m\u001b[0mx\u001b[0m \u001b[1;33m+\u001b[0m \u001b[0mresidual\u001b[0m\u001b[1;33m)\u001b[0m\u001b[1;33m\u001b[0m\u001b[1;33m\u001b[0m\u001b[0m\n",
      "\u001b[1;32m~\\anaconda3\\lib\\site-packages\\torch\\nn\\modules\\module.py\u001b[0m in \u001b[0;36m_call_impl\u001b[1;34m(self, *input, **kwargs)\u001b[0m\n\u001b[0;32m    720\u001b[0m             \u001b[0mresult\u001b[0m \u001b[1;33m=\u001b[0m \u001b[0mself\u001b[0m\u001b[1;33m.\u001b[0m\u001b[0m_slow_forward\u001b[0m\u001b[1;33m(\u001b[0m\u001b[1;33m*\u001b[0m\u001b[0minput\u001b[0m\u001b[1;33m,\u001b[0m \u001b[1;33m**\u001b[0m\u001b[0mkwargs\u001b[0m\u001b[1;33m)\u001b[0m\u001b[1;33m\u001b[0m\u001b[1;33m\u001b[0m\u001b[0m\n\u001b[0;32m    721\u001b[0m         \u001b[1;32melse\u001b[0m\u001b[1;33m:\u001b[0m\u001b[1;33m\u001b[0m\u001b[1;33m\u001b[0m\u001b[0m\n\u001b[1;32m--> 722\u001b[1;33m             \u001b[0mresult\u001b[0m \u001b[1;33m=\u001b[0m \u001b[0mself\u001b[0m\u001b[1;33m.\u001b[0m\u001b[0mforward\u001b[0m\u001b[1;33m(\u001b[0m\u001b[1;33m*\u001b[0m\u001b[0minput\u001b[0m\u001b[1;33m,\u001b[0m \u001b[1;33m**\u001b[0m\u001b[0mkwargs\u001b[0m\u001b[1;33m)\u001b[0m\u001b[1;33m\u001b[0m\u001b[1;33m\u001b[0m\u001b[0m\n\u001b[0m\u001b[0;32m    723\u001b[0m         for hook in itertools.chain(\n\u001b[0;32m    724\u001b[0m                 \u001b[0m_global_forward_hooks\u001b[0m\u001b[1;33m.\u001b[0m\u001b[0mvalues\u001b[0m\u001b[1;33m(\u001b[0m\u001b[1;33m)\u001b[0m\u001b[1;33m,\u001b[0m\u001b[1;33m\u001b[0m\u001b[1;33m\u001b[0m\u001b[0m\n",
      "\u001b[1;32m~\\Desktop\\Research\\SSF Transformer\\transformer\\tst\\multiHeadAttention.py\u001b[0m in \u001b[0;36mforward\u001b[1;34m(self, query, key, value, mask)\u001b[0m\n\u001b[0;32m     84\u001b[0m \u001b[1;33m\u001b[0m\u001b[0m\n\u001b[0;32m     85\u001b[0m         \u001b[1;31m# Compute Q, K and V, concatenate heads on batch dimension\u001b[0m\u001b[1;33m\u001b[0m\u001b[1;33m\u001b[0m\u001b[1;33m\u001b[0m\u001b[0m\n\u001b[1;32m---> 86\u001b[1;33m         \u001b[0mqueries\u001b[0m \u001b[1;33m=\u001b[0m \u001b[0mtorch\u001b[0m\u001b[1;33m.\u001b[0m\u001b[0mcat\u001b[0m\u001b[1;33m(\u001b[0m\u001b[0mself\u001b[0m\u001b[1;33m.\u001b[0m\u001b[0m_W_q\u001b[0m\u001b[1;33m(\u001b[0m\u001b[0mquery\u001b[0m\u001b[1;33m)\u001b[0m\u001b[1;33m.\u001b[0m\u001b[0mchunk\u001b[0m\u001b[1;33m(\u001b[0m\u001b[0mself\u001b[0m\u001b[1;33m.\u001b[0m\u001b[0m_h\u001b[0m\u001b[1;33m,\u001b[0m \u001b[0mdim\u001b[0m\u001b[1;33m=\u001b[0m\u001b[1;33m-\u001b[0m\u001b[1;36m1\u001b[0m\u001b[1;33m)\u001b[0m\u001b[1;33m,\u001b[0m \u001b[0mdim\u001b[0m\u001b[1;33m=\u001b[0m\u001b[1;36m0\u001b[0m\u001b[1;33m)\u001b[0m\u001b[1;33m\u001b[0m\u001b[1;33m\u001b[0m\u001b[0m\n\u001b[0m\u001b[0;32m     87\u001b[0m         \u001b[0mkeys\u001b[0m \u001b[1;33m=\u001b[0m \u001b[0mtorch\u001b[0m\u001b[1;33m.\u001b[0m\u001b[0mcat\u001b[0m\u001b[1;33m(\u001b[0m\u001b[0mself\u001b[0m\u001b[1;33m.\u001b[0m\u001b[0m_W_k\u001b[0m\u001b[1;33m(\u001b[0m\u001b[0mkey\u001b[0m\u001b[1;33m)\u001b[0m\u001b[1;33m.\u001b[0m\u001b[0mchunk\u001b[0m\u001b[1;33m(\u001b[0m\u001b[0mself\u001b[0m\u001b[1;33m.\u001b[0m\u001b[0m_h\u001b[0m\u001b[1;33m,\u001b[0m \u001b[0mdim\u001b[0m\u001b[1;33m=\u001b[0m\u001b[1;33m-\u001b[0m\u001b[1;36m1\u001b[0m\u001b[1;33m)\u001b[0m\u001b[1;33m,\u001b[0m \u001b[0mdim\u001b[0m\u001b[1;33m=\u001b[0m\u001b[1;36m0\u001b[0m\u001b[1;33m)\u001b[0m\u001b[1;33m\u001b[0m\u001b[1;33m\u001b[0m\u001b[0m\n\u001b[0;32m     88\u001b[0m         \u001b[0mvalues\u001b[0m \u001b[1;33m=\u001b[0m \u001b[0mtorch\u001b[0m\u001b[1;33m.\u001b[0m\u001b[0mcat\u001b[0m\u001b[1;33m(\u001b[0m\u001b[0mself\u001b[0m\u001b[1;33m.\u001b[0m\u001b[0m_W_v\u001b[0m\u001b[1;33m(\u001b[0m\u001b[0mvalue\u001b[0m\u001b[1;33m)\u001b[0m\u001b[1;33m.\u001b[0m\u001b[0mchunk\u001b[0m\u001b[1;33m(\u001b[0m\u001b[0mself\u001b[0m\u001b[1;33m.\u001b[0m\u001b[0m_h\u001b[0m\u001b[1;33m,\u001b[0m \u001b[0mdim\u001b[0m\u001b[1;33m=\u001b[0m\u001b[1;33m-\u001b[0m\u001b[1;36m1\u001b[0m\u001b[1;33m)\u001b[0m\u001b[1;33m,\u001b[0m \u001b[0mdim\u001b[0m\u001b[1;33m=\u001b[0m\u001b[1;36m0\u001b[0m\u001b[1;33m)\u001b[0m\u001b[1;33m\u001b[0m\u001b[1;33m\u001b[0m\u001b[0m\n",
      "\u001b[1;31mKeyboardInterrupt\u001b[0m: "
     ]
    }
   ],
   "source": [
    "EPOCHS = 100\n",
    "hist_loss = np.zeros(EPOCHS)\n",
    "hist_loss_val = np.zeros(EPOCHS)\n",
    "\n",
    "for idx_epoch in range(EPOCHS):\n",
    "    running_loss = 0\n",
    "    with tqdm(total=len(train_seq), desc=f\"[Epoch {idx_epoch+1:3d}/{EPOCHS}]\") as pbar:\n",
    "        for idx_batch, (x, y) in enumerate(dataloader_train):\n",
    "#             x = x.unsqueeze(0)\n",
    "            y = y.view(-1,1)\n",
    "            optimizer.zero_grad()\n",
    "\n",
    "            # Propagate input\n",
    "            netout = net(x.to(device))\n",
    "#             print(netout.shape)\n",
    "            # Compute loss\n",
    "#             print(netout, y)\n",
    "            loss = loss_function(y.to(device), netout)\n",
    "\n",
    "            # Backpropage loss\n",
    "            loss.backward()\n",
    "\n",
    "            # Update weights\n",
    "            optimizer.step()\n",
    "\n",
    "            running_loss += loss.item()\n",
    "            pbar.set_postfix({'loss': running_loss/(idx_batch+1)})\n",
    "            pbar.update(x.shape[0])\n",
    "                \n",
    "#         scheduler.step()    \n",
    "        train_loss = running_loss/len(dataloader_train)\n",
    "#         print('pred, target', netout, y)\n",
    "#         val_loss = compute_loss(net, dataloader_val, loss_function, device).item()\n",
    "#         pbar.set_postfix({'loss': train_loss, 'val_loss': val_loss})\n",
    "        pbar.set_postfix({'loss': train_loss})\n",
    "\n",
    "        hist_loss[idx_epoch] = train_loss\n",
    "#         hist_loss_val[idx_epoch] = val_loss\n",
    "\n",
    "#         if val_loss < val_loss_best:\n",
    "#             val_loss_best = val_loss\n",
    "#             torch.save(net.state_dict(), model_save_path)\n",
    "        \n",
    "plt.plot(hist_loss, 'o-', label='train')\n",
    "# plt.plot(hist_loss_val, 'o-', label='val')\n",
    "plt.legend()\n",
    "# print(f\"model exported to {model_save_path} with loss {val_loss_best:5f}\")"
   ]
  },
  {
   "cell_type": "code",
   "execution_count": 38,
   "metadata": {},
   "outputs": [
    {
     "ename": "NameError",
     "evalue": "name 'attn_map' is not defined",
     "output_type": "error",
     "traceback": [
      "\u001b[1;31m---------------------------------------------------------------------------\u001b[0m",
      "\u001b[1;31mNameError\u001b[0m                                 Traceback (most recent call last)",
      "\u001b[1;32m<ipython-input-38-9c7024e33788>\u001b[0m in \u001b[0;36m<module>\u001b[1;34m\u001b[0m\n\u001b[1;32m----> 1\u001b[1;33m \u001b[0mattn_map\u001b[0m\u001b[1;33m.\u001b[0m\u001b[0mshape\u001b[0m\u001b[1;33m\u001b[0m\u001b[1;33m\u001b[0m\u001b[0m\n\u001b[0m",
      "\u001b[1;31mNameError\u001b[0m: name 'attn_map' is not defined"
     ]
    }
   ],
   "source": [
    "attn_map.shape"
   ]
  },
  {
   "cell_type": "code",
   "execution_count": 102,
   "metadata": {},
   "outputs": [
    {
     "data": {
      "image/png": "[encoded data removed]",
      "text/plain": [
       "<Figure size 432x432 with 2 Axes>"
      ]
     },
     "metadata": {
      "needs_background": "light"
     },
     "output_type": "display_data"
    }
   ],
   "source": [
    "net.eval();\n",
    "encoder = net.layers_encoding[0]\n",
    "\n",
    "# Get the first attention map\n",
    "attn_map = encoder.attention_map[0].cpu().detach().numpy()\n",
    "# Plot\n",
    "plt.figure(figsize=(6, 6))\n",
    "plt.imshow(attn_map)\n",
    "plt.colorbar();"
   ]
  },
  {
   "cell_type": "code",
   "execution_count": 103,
   "metadata": {},
   "outputs": [
    {
     "data": {
      "image/png": "[encoded data removed]",
      "text/plain": [
       "<Figure size 432x432 with 2 Axes>"
      ]
     },
     "metadata": {
      "needs_background": "light"
     },
     "output_type": "display_data"
    }
   ],
   "source": [
    "# Select first encoding layer\n",
    "encoder = net.layers_encoding[0]\n",
    "\n",
    "# Get the first attention map\n",
    "attn_map = encoder.attention_map[0].cpu().detach().numpy()\n",
    "# Plot\n",
    "plt.figure(figsize=(6, 6))\n",
    "plt.imshow(attn_map)\n",
    "plt.colorbar();\n",
    "# plt.savefig(\"attention_map\")"
   ]
  },
  {
   "cell_type": "code",
   "execution_count": 95,
   "metadata": {},
   "outputs": [
    {
     "data": {
      "text/plain": [
       "(torch.Size([4, 1]), torch.Size([4, 1]))"
      ]
     },
     "execution_count": 95,
     "metadata": {},
     "output_type": "execute_result"
    }
   ],
   "source": [
    "netout.shape, y.shape"
   ]
  },
  {
   "cell_type": "code",
   "execution_count": 96,
   "metadata": {},
   "outputs": [
    {
     "data": {
      "text/plain": [
       "(tensor([[0.2454],\n",
       "         [0.2074],\n",
       "         [0.2254],\n",
       "         [0.2083]], device='cuda:0', grad_fn=<SigmoidBackward>),\n",
       " tensor([[0.2288],\n",
       "         [0.2349],\n",
       "         [0.2334],\n",
       "         [0.2327]]))"
      ]
     },
     "execution_count": 96,
     "metadata": {},
     "output_type": "execute_result"
    }
   ],
   "source": [
    "netout, y"
   ]
  },
  {
   "cell_type": "code",
   "execution_count": 97,
   "metadata": {},
   "outputs": [
    {
     "data": {
      "text/plain": [
       "1722"
      ]
     },
     "execution_count": 97,
     "metadata": {},
     "output_type": "execute_result"
    }
   ],
   "source": [
    "train_test_total.shape[0]-train_window"
   ]
  },
  {
   "cell_type": "code",
   "execution_count": 221,
   "metadata": {},
   "outputs": [
    {
     "name": "stderr",
     "output_type": "stream",
     "text": [
      "100%|██████████| 1722/1722 [00:21<00:00, 78.99it/s]\n"
     ]
    }
   ],
   "source": [
    "# Predicting t+1\n",
    "test_data = np.concatenate((X_test,y_test),axis=1)\n",
    "\n",
    "train_test_total = np.concatenate((train_data_array,test_data))\n",
    "\n",
    "net.eval()\n",
    "num_pred = 1 #  Number of prediction forward, i.e. tau\n",
    "res = np.zeros(train_window).tolist()\n",
    "#  Predicting y using X_test and y_test\n",
    "for i in tqdm(range(train_test_total.shape[0]-train_window)):\n",
    "    for j in range(num_pred):\n",
    "        seq = torch.FloatTensor(train_test_total[i:i+train_window]).to(device)\n",
    "        seq = seq.unsqueeze(0)\n",
    "        #print(seq)\n",
    "        with torch.no_grad():\n",
    "            #print(model(seq))\n",
    "            pred = net(seq).cpu()\n",
    "            #print(len(test_inputs))\n",
    "            res.append(pred)\n",
    "            \n",
    "res = np.array(res)"
   ]
  },
  {
   "cell_type": "code",
   "execution_count": 222,
   "metadata": {},
   "outputs": [
    {
     "name": "stdout",
     "output_type": "stream",
     "text": [
      "r-sq on train: 1.4861324524773067e-05\n",
      "r-sq on test: -0.019230159400837277\n",
      "cosine_similarity on train: [[0.17530704]]\n",
      "cosine_similarity on test: [[0.1157573]]\n"
     ]
    },
    {
     "data": {
      "image/png": "[encoded data removed]",
      "text/plain": [
       "<Figure size 1080x360 with 1 Axes>"
      ]
     },
     "metadata": {
      "needs_background": "light"
     },
     "output_type": "display_data"
    }
   ],
   "source": [
    "y_train = y_train.cpu()\n",
    "from sklearn.metrics import r2_score\n",
    "y_train_true = y_samp[train_window+pred_window:-test_size]\n",
    "y_train_pred = res[train_window:-test_size-pred_window]\n",
    "y_test_true = y_samp[-test_size:]\n",
    "y_test_pred = res[-test_size-pred_window:-pred_window]\n",
    "print('r-sq on train:', r2_score(y_samp[train_window+pred_window:-test_size], res[train_window:-test_size-pred_window]))\n",
    "print('r-sq on test:', r2_score(y_samp[-test_size:],  res[-test_size-pred_window:-pred_window]))\n",
    "plt.figure(figsize=(15,5))\n",
    "plt.plot(y_samp[train_window+pred_window:],label='Observed')\n",
    "plt.plot(res[train_window:-pred_window],label='Predicted')\n",
    "plt.legend()\n",
    "plt.xlabel('From January 1st 2014 to Dec 31st 2018')\n",
    "plt.ylabel(target)\n",
    "plt.title('Transformer')\n",
    "plt.axvline(x=res.shape[0] - test_size-train_window,c='black')\n",
    "# plt.savefig('plot_toy_pe2_atten8_outdim2.pdf')\n",
    "print('cosine_similarity on train:', cosine_similarity(y_train_true.reshape((1,-1)), y_train_pred.reshape((1,-1))))\n",
    "print('cosine_similarity on test:', cosine_similarity(y_test_true.reshape((1,-1)),  y_test_pred.reshape((1,-1))))"
   ]
  },
  {
   "cell_type": "code",
   "execution_count": 127,
   "metadata": {},
   "outputs": [],
   "source": [
    "xgbmodel = xgb.XGBRegressor(\n",
    "    n_estimators=100,\n",
    "    reg_lambda=1,\n",
    "    gamma=0,\n",
    "    max_depth=3\n",
    ")\n"
   ]
  },
  {
   "cell_type": "code",
   "execution_count": 110,
   "metadata": {},
   "outputs": [],
   "source": [
    "def create_sequence_xgb(input_data, train_window, pred_window):  #  Create sequences of observations for training\n",
    "    X_total = []\n",
    "    y_total = []\n",
    "    L = len(input_data)\n",
    "    feature_size = input_data[0].shape[0]\n",
    "    print('feature_size', feature_size)\n",
    "    for i in range(L - train_window-pred_window):\n",
    "        train_seq = input_data[i:i+train_window]\n",
    "        train_label = input_data[i+train_window+pred_window-1,feature_size-1] # get y_t+14\n",
    "#         train_label = input_data[i + train_window + pred_window]\n",
    "        X_total.append(train_seq)\n",
    "        y_total.append(train_label)\n",
    "        \n",
    "    print('train_seq, train_label', train_seq.shape, train_label.shape)\n",
    "    return X_total,y_total"
   ]
  },
  {
   "cell_type": "code",
   "execution_count": 128,
   "metadata": {},
   "outputs": [
    {
     "name": "stdout",
     "output_type": "stream",
     "text": [
      "feature_size 11\n",
      "train_seq, train_label (90, 11) ()\n"
     ]
    },
    {
     "ename": "TypeError",
     "evalue": "('Unsupported type for label', \"<class 'numpy.float64'>\")",
     "output_type": "error",
     "traceback": [
      "\u001b[1;31m---------------------------------------------------------------------------\u001b[0m",
      "\u001b[1;31mTypeError\u001b[0m                                 Traceback (most recent call last)",
      "\u001b[1;32m<ipython-input-128-2338132231cd>\u001b[0m in \u001b[0;36m<module>\u001b[1;34m\u001b[0m\n\u001b[0;32m      1\u001b[0m \u001b[0mX_train_xgb\u001b[0m\u001b[1;33m,\u001b[0m \u001b[0my_train_xgb\u001b[0m \u001b[1;33m=\u001b[0m \u001b[0mcreate_sequence_xgb\u001b[0m\u001b[1;33m(\u001b[0m\u001b[0mtrain_data_array\u001b[0m\u001b[1;33m,\u001b[0m \u001b[0mtrain_window\u001b[0m\u001b[1;33m,\u001b[0m \u001b[0mpred_window\u001b[0m\u001b[1;33m)\u001b[0m\u001b[1;33m\u001b[0m\u001b[1;33m\u001b[0m\u001b[0m\n\u001b[0;32m      2\u001b[0m \u001b[1;32mfor\u001b[0m \u001b[0mi\u001b[0m \u001b[1;32min\u001b[0m \u001b[0mrange\u001b[0m\u001b[1;33m(\u001b[0m\u001b[0mlen\u001b[0m\u001b[1;33m(\u001b[0m\u001b[0my_train_xgb\u001b[0m\u001b[1;33m)\u001b[0m\u001b[1;33m)\u001b[0m\u001b[1;33m:\u001b[0m\u001b[1;33m\u001b[0m\u001b[1;33m\u001b[0m\u001b[0m\n\u001b[1;32m----> 3\u001b[1;33m     \u001b[0mxgbmodel\u001b[0m\u001b[1;33m.\u001b[0m\u001b[0mfit\u001b[0m\u001b[1;33m(\u001b[0m\u001b[0mX_train_xgb\u001b[0m\u001b[1;33m[\u001b[0m\u001b[0mi\u001b[0m\u001b[1;33m]\u001b[0m\u001b[1;33m[\u001b[0m\u001b[1;36m89\u001b[0m\u001b[1;33m]\u001b[0m\u001b[1;33m.\u001b[0m\u001b[0mreshape\u001b[0m\u001b[1;33m(\u001b[0m\u001b[1;33m(\u001b[0m\u001b[1;36m1\u001b[0m\u001b[1;33m,\u001b[0m\u001b[1;33m-\u001b[0m\u001b[1;36m1\u001b[0m\u001b[1;33m)\u001b[0m\u001b[1;33m)\u001b[0m\u001b[1;33m,\u001b[0m\u001b[0my_train_xgb\u001b[0m\u001b[1;33m[\u001b[0m\u001b[0mi\u001b[0m\u001b[1;33m]\u001b[0m\u001b[1;33m)\u001b[0m\u001b[1;33m\u001b[0m\u001b[1;33m\u001b[0m\u001b[0m\n\u001b[0m",
      "\u001b[1;32m~\\anaconda3\\lib\\site-packages\\xgboost\\sklearn.py\u001b[0m in \u001b[0;36mfit\u001b[1;34m(self, X, y, sample_weight, base_margin, eval_set, eval_metric, early_stopping_rounds, verbose, xgb_model, sample_weight_eval_set, callbacks)\u001b[0m\n\u001b[0;32m    502\u001b[0m         \u001b[0mself\u001b[0m\u001b[1;33m.\u001b[0m\u001b[0mn_features_in_\u001b[0m \u001b[1;33m=\u001b[0m \u001b[0mX\u001b[0m\u001b[1;33m.\u001b[0m\u001b[0mshape\u001b[0m\u001b[1;33m[\u001b[0m\u001b[1;36m1\u001b[0m\u001b[1;33m]\u001b[0m\u001b[1;33m\u001b[0m\u001b[1;33m\u001b[0m\u001b[0m\n\u001b[0;32m    503\u001b[0m \u001b[1;33m\u001b[0m\u001b[0m\n\u001b[1;32m--> 504\u001b[1;33m         train_dmatrix = DMatrix(data=X, label=y, weight=sample_weight,\n\u001b[0m\u001b[0;32m    505\u001b[0m                                 \u001b[0mbase_margin\u001b[0m\u001b[1;33m=\u001b[0m\u001b[0mbase_margin\u001b[0m\u001b[1;33m,\u001b[0m\u001b[1;33m\u001b[0m\u001b[1;33m\u001b[0m\u001b[0m\n\u001b[0;32m    506\u001b[0m                                 \u001b[0mmissing\u001b[0m\u001b[1;33m=\u001b[0m\u001b[0mself\u001b[0m\u001b[1;33m.\u001b[0m\u001b[0mmissing\u001b[0m\u001b[1;33m,\u001b[0m\u001b[1;33m\u001b[0m\u001b[1;33m\u001b[0m\u001b[0m\n",
      "\u001b[1;32m~\\anaconda3\\lib\\site-packages\\xgboost\\core.py\u001b[0m in \u001b[0;36m__init__\u001b[1;34m(self, data, label, weight, base_margin, missing, silent, feature_names, feature_types, nthread)\u001b[0m\n\u001b[0;32m    440\u001b[0m         \u001b[0mself\u001b[0m\u001b[1;33m.\u001b[0m\u001b[0mhandle\u001b[0m \u001b[1;33m=\u001b[0m \u001b[0mhandle\u001b[0m\u001b[1;33m\u001b[0m\u001b[1;33m\u001b[0m\u001b[0m\n\u001b[0;32m    441\u001b[0m \u001b[1;33m\u001b[0m\u001b[0m\n\u001b[1;32m--> 442\u001b[1;33m         \u001b[0mself\u001b[0m\u001b[1;33m.\u001b[0m\u001b[0mset_info\u001b[0m\u001b[1;33m(\u001b[0m\u001b[0mlabel\u001b[0m\u001b[1;33m=\u001b[0m\u001b[0mlabel\u001b[0m\u001b[1;33m,\u001b[0m \u001b[0mweight\u001b[0m\u001b[1;33m=\u001b[0m\u001b[0mweight\u001b[0m\u001b[1;33m,\u001b[0m \u001b[0mbase_margin\u001b[0m\u001b[1;33m=\u001b[0m\u001b[0mbase_margin\u001b[0m\u001b[1;33m)\u001b[0m\u001b[1;33m\u001b[0m\u001b[1;33m\u001b[0m\u001b[0m\n\u001b[0m\u001b[0;32m    443\u001b[0m \u001b[1;33m\u001b[0m\u001b[0m\n\u001b[0;32m    444\u001b[0m         \u001b[0mself\u001b[0m\u001b[1;33m.\u001b[0m\u001b[0mfeature_names\u001b[0m \u001b[1;33m=\u001b[0m \u001b[0mfeature_names\u001b[0m\u001b[1;33m\u001b[0m\u001b[1;33m\u001b[0m\u001b[0m\n",
      "\u001b[1;32m~\\anaconda3\\lib\\site-packages\\xgboost\\core.py\u001b[0m in \u001b[0;36mset_info\u001b[1;34m(self, label, weight, base_margin, group, label_lower_bound, label_upper_bound, feature_names, feature_types)\u001b[0m\n\u001b[0;32m    459\u001b[0m         \u001b[1;34m'''Set meta info for DMatrix.'''\u001b[0m\u001b[1;33m\u001b[0m\u001b[1;33m\u001b[0m\u001b[0m\n\u001b[0;32m    460\u001b[0m         \u001b[1;32mif\u001b[0m \u001b[0mlabel\u001b[0m \u001b[1;32mis\u001b[0m \u001b[1;32mnot\u001b[0m \u001b[1;32mNone\u001b[0m\u001b[1;33m:\u001b[0m\u001b[1;33m\u001b[0m\u001b[1;33m\u001b[0m\u001b[0m\n\u001b[1;32m--> 461\u001b[1;33m             \u001b[0mself\u001b[0m\u001b[1;33m.\u001b[0m\u001b[0mset_label\u001b[0m\u001b[1;33m(\u001b[0m\u001b[0mlabel\u001b[0m\u001b[1;33m)\u001b[0m\u001b[1;33m\u001b[0m\u001b[1;33m\u001b[0m\u001b[0m\n\u001b[0m\u001b[0;32m    462\u001b[0m         \u001b[1;32mif\u001b[0m \u001b[0mweight\u001b[0m \u001b[1;32mis\u001b[0m \u001b[1;32mnot\u001b[0m \u001b[1;32mNone\u001b[0m\u001b[1;33m:\u001b[0m\u001b[1;33m\u001b[0m\u001b[1;33m\u001b[0m\u001b[0m\n\u001b[0;32m    463\u001b[0m             \u001b[0mself\u001b[0m\u001b[1;33m.\u001b[0m\u001b[0mset_weight\u001b[0m\u001b[1;33m(\u001b[0m\u001b[0mweight\u001b[0m\u001b[1;33m)\u001b[0m\u001b[1;33m\u001b[0m\u001b[1;33m\u001b[0m\u001b[0m\n",
      "\u001b[1;32m~\\anaconda3\\lib\\site-packages\\xgboost\\core.py\u001b[0m in \u001b[0;36mset_label\u001b[1;34m(self, label)\u001b[0m\n\u001b[0;32m    584\u001b[0m         \"\"\"\n\u001b[0;32m    585\u001b[0m         \u001b[1;32mfrom\u001b[0m \u001b[1;33m.\u001b[0m\u001b[0mdata\u001b[0m \u001b[1;32mimport\u001b[0m \u001b[0mdispatch_meta_backend\u001b[0m\u001b[1;33m\u001b[0m\u001b[1;33m\u001b[0m\u001b[0m\n\u001b[1;32m--> 586\u001b[1;33m         \u001b[0mdispatch_meta_backend\u001b[0m\u001b[1;33m(\u001b[0m\u001b[0mself\u001b[0m\u001b[1;33m,\u001b[0m \u001b[0mlabel\u001b[0m\u001b[1;33m,\u001b[0m \u001b[1;34m'label'\u001b[0m\u001b[1;33m,\u001b[0m \u001b[1;34m'float'\u001b[0m\u001b[1;33m)\u001b[0m\u001b[1;33m\u001b[0m\u001b[1;33m\u001b[0m\u001b[0m\n\u001b[0m\u001b[0;32m    587\u001b[0m \u001b[1;33m\u001b[0m\u001b[0m\n\u001b[0;32m    588\u001b[0m     \u001b[1;32mdef\u001b[0m \u001b[0mset_weight\u001b[0m\u001b[1;33m(\u001b[0m\u001b[0mself\u001b[0m\u001b[1;33m,\u001b[0m \u001b[0mweight\u001b[0m\u001b[1;33m)\u001b[0m\u001b[1;33m:\u001b[0m\u001b[1;33m\u001b[0m\u001b[1;33m\u001b[0m\u001b[0m\n",
      "\u001b[1;32m~\\anaconda3\\lib\\site-packages\\xgboost\\data.py\u001b[0m in \u001b[0;36mdispatch_meta_backend\u001b[1;34m(matrix, data, name, dtype)\u001b[0m\n\u001b[0;32m    634\u001b[0m     \u001b[1;32mif\u001b[0m \u001b[0m_has_array_protocol\u001b[0m\u001b[1;33m(\u001b[0m\u001b[0mdata\u001b[0m\u001b[1;33m)\u001b[0m\u001b[1;33m:\u001b[0m\u001b[1;33m\u001b[0m\u001b[1;33m\u001b[0m\u001b[0m\n\u001b[0;32m    635\u001b[0m         \u001b[1;32mpass\u001b[0m\u001b[1;33m\u001b[0m\u001b[1;33m\u001b[0m\u001b[0m\n\u001b[1;32m--> 636\u001b[1;33m     \u001b[1;32mraise\u001b[0m \u001b[0mTypeError\u001b[0m\u001b[1;33m(\u001b[0m\u001b[1;34m'Unsupported type for '\u001b[0m \u001b[1;33m+\u001b[0m \u001b[0mname\u001b[0m\u001b[1;33m,\u001b[0m \u001b[0mstr\u001b[0m\u001b[1;33m(\u001b[0m\u001b[0mtype\u001b[0m\u001b[1;33m(\u001b[0m\u001b[0mdata\u001b[0m\u001b[1;33m)\u001b[0m\u001b[1;33m)\u001b[0m\u001b[1;33m)\u001b[0m\u001b[1;33m\u001b[0m\u001b[1;33m\u001b[0m\u001b[0m\n\u001b[0m\u001b[0;32m    637\u001b[0m \u001b[1;33m\u001b[0m\u001b[0m\n\u001b[0;32m    638\u001b[0m \u001b[1;33m\u001b[0m\u001b[0m\n",
      "\u001b[1;31mTypeError\u001b[0m: ('Unsupported type for label', \"<class 'numpy.float64'>\")"
     ]
    }
   ],
   "source": [
    "X_train_xgb, y_train_xgb = create_sequence_xgb(train_data_array, train_window, pred_window)\n",
    "for i in range(len(y_train_xgb)):\n",
    "    xgbmodel.fit(X_train_xgb[i][89].reshape((1,-1)),y_train_xgb[i])"
   ]
  },
  {
   "cell_type": "code",
   "execution_count": 124,
   "metadata": {},
   "outputs": [
    {
     "data": {
      "text/plain": [
       "(11,)"
      ]
     },
     "execution_count": 124,
     "metadata": {},
     "output_type": "execute_result"
    }
   ],
   "source": [
    "X_train_xgb[i][89].shape"
   ]
  },
  {
   "cell_type": "code",
   "execution_count": 114,
   "metadata": {},
   "outputs": [
    {
     "data": {
      "text/plain": [
       "1332"
      ]
     },
     "execution_count": 114,
     "metadata": {},
     "output_type": "execute_result"
    }
   ],
   "source": [
    "len(y_train_xgb)"
   ]
  },
  {
   "cell_type": "code",
   "execution_count": null,
   "metadata": {},
   "outputs": [],
   "source": [
    "# torch.save(net.to('cpu'), 'full_transformer_toy_pe2_attn8_depth60.pth')"
   ]
  },
  {
   "cell_type": "code",
   "execution_count": null,
   "metadata": {},
   "outputs": [],
   "source": [
    "# model = torch.load('full_transformer_toy_pe2_attn8.pth')"
   ]
  },
  {
   "cell_type": "code",
   "execution_count": 100,
   "metadata": {},
   "outputs": [
    {
     "ename": "NameError",
     "evalue": "name 'model' is not defined",
     "output_type": "error",
     "traceback": [
      "\u001b[1;31m---------------------------------------------------------------------------\u001b[0m",
      "\u001b[1;31mNameError\u001b[0m                                 Traceback (most recent call last)",
      "\u001b[1;32m<ipython-input-100-8a1c2f1a5979>\u001b[0m in \u001b[0;36m<module>\u001b[1;34m\u001b[0m\n\u001b[1;32m----> 1\u001b[1;33m \u001b[0mmodel\u001b[0m\u001b[1;33m.\u001b[0m\u001b[0mto\u001b[0m\u001b[1;33m(\u001b[0m\u001b[0mdevice\u001b[0m\u001b[1;33m)\u001b[0m\u001b[1;33m;\u001b[0m\u001b[1;33m\u001b[0m\u001b[1;33m\u001b[0m\u001b[0m\n\u001b[0m\u001b[0;32m      2\u001b[0m \u001b[0mtest_data\u001b[0m \u001b[1;33m=\u001b[0m \u001b[0mnp\u001b[0m\u001b[1;33m.\u001b[0m\u001b[0mconcatenate\u001b[0m\u001b[1;33m(\u001b[0m\u001b[1;33m(\u001b[0m\u001b[0mX_test\u001b[0m\u001b[1;33m,\u001b[0m\u001b[0my_test\u001b[0m\u001b[1;33m)\u001b[0m\u001b[1;33m,\u001b[0m\u001b[0maxis\u001b[0m\u001b[1;33m=\u001b[0m\u001b[1;36m1\u001b[0m\u001b[1;33m)\u001b[0m\u001b[1;33m\u001b[0m\u001b[1;33m\u001b[0m\u001b[0m\n\u001b[0;32m      3\u001b[0m \u001b[1;33m\u001b[0m\u001b[0m\n\u001b[0;32m      4\u001b[0m \u001b[0mtrain_test_total\u001b[0m \u001b[1;33m=\u001b[0m \u001b[0mnp\u001b[0m\u001b[1;33m.\u001b[0m\u001b[0mconcatenate\u001b[0m\u001b[1;33m(\u001b[0m\u001b[1;33m(\u001b[0m\u001b[0mtrain_data_array\u001b[0m\u001b[1;33m,\u001b[0m\u001b[0mtest_data\u001b[0m\u001b[1;33m)\u001b[0m\u001b[1;33m)\u001b[0m\u001b[1;33m\u001b[0m\u001b[1;33m\u001b[0m\u001b[0m\n\u001b[0;32m      5\u001b[0m \u001b[1;33m\u001b[0m\u001b[0m\n",
      "\u001b[1;31mNameError\u001b[0m: name 'model' is not defined"
     ]
    }
   ],
   "source": [
    "model.to(device);\n",
    "test_data = np.concatenate((X_test,y_test),axis=1)\n",
    "\n",
    "train_test_total = np.concatenate((train_data_array,test_data))\n",
    "\n",
    "net.eval()\n",
    "num_pred = 1 #  Number of prediction forward, i.e. tau\n",
    "res = np.zeros(train_window).tolist()\n",
    "#  Predicting y using X_test and y_test\n",
    "for i in tqdm(range(train_test_total.shape[0]-train_window)):\n",
    "    for j in range(num_pred):\n",
    "        seq = torch.FloatTensor(train_test_total[i:i+train_window]).to(device)\n",
    "        seq = seq.unsqueeze(0)\n",
    "        #print(seq)\n",
    "        with torch.no_grad():\n",
    "            #print(model(seq))\n",
    "            pred = model(seq).cpu()\n",
    "            #print(len(test_inputs))\n",
    "            res.append(pred)\n",
    "            \n",
    "res = np.array(res)"
   ]
  },
  {
   "cell_type": "code",
   "execution_count": 101,
   "metadata": {},
   "outputs": [
    {
     "name": "stdout",
     "output_type": "stream",
     "text": [
      "r-sq on train: 0.8877634164659527\n",
      "r-sq on test: 0.7224756931008682\n"
     ]
    },
    {
     "data": {
      "text/plain": [
       "<matplotlib.lines.Line2D at 0x1a0f92ea1f0>"
      ]
     },
     "execution_count": 101,
     "metadata": {},
     "output_type": "execute_result"
    },
    {
     "data": {
      "image/png": "[encoded data removed]",
      "text/plain": [
       "<Figure size 1080x360 with 1 Axes>"
      ]
     },
     "metadata": {
      "needs_background": "light"
     },
     "output_type": "display_data"
    }
   ],
   "source": [
    "y_train = y_train.cpu()\n",
    "from sklearn.metrics import r2_score\n",
    "print('r-sq on train:', r2_score(y_samp[train_window+pred_window:-test_size], res[train_window:-test_size-pred_window]))\n",
    "print('r-sq on test:', r2_score(y_samp[-test_size:],  res[-test_size-pred_window:-pred_window]))\n",
    "plt.figure(figsize=(15,5))\n",
    "plt.plot(y_samp[train_window+pred_window:],label='Observed')\n",
    "plt.plot(res[train_window:-pred_window],label='Predicted')\n",
    "plt.legend()\n",
    "plt.xlabel('From January 1st 2014 to Dec 31st 2018')\n",
    "plt.ylabel(target)\n",
    "plt.title('Transformer')\n",
    "plt.axvline(x=res.shape[0] - test_size-train_window,c='black')"
   ]
  },
  {
   "cell_type": "code",
   "execution_count": null,
   "metadata": {},
   "outputs": [],
   "source": [
    "res.shape"
   ]
  },
  {
   "cell_type": "code",
   "execution_count": null,
   "metadata": {},
   "outputs": [],
   "source": [
    "res[100]"
   ]
  },
  {
   "cell_type": "code",
   "execution_count": null,
   "metadata": {},
   "outputs": [],
   "source": [
    "y_train = y_train.cpu()\n",
    "from sklearn.metrics import r2_score\n",
    "print('r-sq on train:', r2_score(y_samp[train_window+pred_window:-test_size], res[train_window:-test_size-pred_window]))\n",
    "print('r-sq on test:', r2_score(y_samp[-test_size:],  res[-test_size-pred_window:-pred_window]))\n",
    "plt.figure(figsize=(15,5))\n",
    "plt.plot(y_samp[train_window+pred_window:],label='Observed')\n",
    "plt.plot(res[train_window:-pred_window],label='Predicted')\n",
    "plt.legend()\n",
    "plt.xlabel('From January 1st 2014 to Dec 31st 2018')\n",
    "plt.ylabel(target)\n",
    "plt.title('Transformer')\n",
    "plt.axvline(x=res.shape[0] - test_size-train_window,c='black')"
   ]
  },
  {
   "cell_type": "code",
   "execution_count": null,
   "metadata": {},
   "outputs": [],
   "source": [
    "y_train = y_train.cpu()\n",
    "from sklearn.metrics import r2_score\n",
    "print('r-sq on train:', r2_score(y_samp[train_window+pred_window:-test_size], res[train_window:-test_size-pred_window]))\n",
    "print('r-sq on test:', r2_score(y_samp[-test_size:],  res[-test_size-pred_window:-pred_window]))\n",
    "plt.figure(figsize=(15,5))\n",
    "plt.plot(y_samp[train_window+pred_window:],label='Observed')\n",
    "plt.plot(res[train_window:-pred_window],label='Predicted')\n",
    "plt.legend()\n",
    "plt.xlabel('From January 1st 2014 to Dec 31st 2018')\n",
    "plt.ylabel(target)\n",
    "plt.title('Transformer')\n",
    "plt.axvline(x=res.shape[0] - test_size-train_window,c='black')\n",
    "# plt.savefig('plot_toy_toy6_pe2_atten8.pdf')"
   ]
  },
  {
   "cell_type": "code",
   "execution_count": null,
   "metadata": {},
   "outputs": [],
   "source": [
    "encoder = net.layers_encoding[0]\n",
    "\n",
    "# Get the first attention map\n",
    "attn_map = encoder.attention_map[0].cpu().detach().numpy()\n",
    "# Plot\n",
    "plt.figure(figsize=(8, 8))\n",
    "plt.imshow(attn_map)\n",
    "plt.colorbar();\n",
    "# plt.savefig(\"attention_map\")"
   ]
  },
  {
   "cell_type": "code",
   "execution_count": null,
   "metadata": {},
   "outputs": [],
   "source": [
    "# torch.save(net.to('cpu'), 'full_transformer_toy_pe2_attn8.pth')"
   ]
  },
  {
   "cell_type": "code",
   "execution_count": null,
   "metadata": {},
   "outputs": [],
   "source": [
    "# Select first encoding layer\n",
    "encoder = net.layers_encoding[0]\n",
    "\n",
    "# Get the first attention map\n",
    "attn_map = encoder.attention_map[0].cpu()\n",
    "\n",
    "# Plot\n",
    "plt.figure(figsize=(20, 20))\n",
    "sns.heatmap(attn_map)\n",
    "plt.savefig(\"attention_map\")"
   ]
  },
  {
   "cell_type": "code",
   "execution_count": null,
   "metadata": {},
   "outputs": [],
   "source": [
    "y_train = y_train.cpu()\n",
    "from sklearn.metrics import r2_score\n",
    "print('r-sq on train:', r2_score(y_samp[train_window+pred_window:-test_size], res[train_window:-test_size-pred_window]))\n",
    "print('r-sq on test:', r2_score(y_samp[-test_size:],  res[-test_size-pred_window:-pred_window]))\n",
    "plt.figure(figsize=(15,5))\n",
    "plt.plot(y_samp[train_window+pred_window:],label='Observed')\n",
    "plt.plot(res[train_window:-pred_window],label='Predicted')\n",
    "plt.legend()\n",
    "plt.xlabel('From January 1st 2014 to Dec 31st 2018')\n",
    "plt.ylabel(target)\n",
    "plt.title('Transformer')\n",
    "plt.axvline(x=res.shape[0] - test_size-train_window,c='black')\n",
    "# plt.savefig('plot_toy_toy4.pdf')"
   ]
  },
  {
   "cell_type": "code",
   "execution_count": null,
   "metadata": {},
   "outputs": [],
   "source": [
    "y_train = y_train.cpu()\n",
    "from sklearn.metrics import r2_score\n",
    "print('r-sq on train:', r2_score(y_samp[train_window+pred_window:-test_size], res[train_window:-test_size-pred_window]))\n",
    "print('r-sq on test:', r2_score(y_samp[-test_size:],  res[-test_size-pred_window:-pred_window]))\n",
    "plt.figure(figsize=(15,5))\n",
    "plt.plot(y_samp[train_window+pred_window:]*(M - m) + m,label='Observed')\n",
    "plt.plot(res[train_window:-pred_window]*(M - m) + m,label='Predicted')\n",
    "plt.legend()\n",
    "plt.xlabel('From January 1st 2018 to Dec 31st 2018')\n",
    "plt.ylabel(target)\n",
    "plt.title('Transformer')\n",
    "plt.axvline(x=res.shape[0] - test_size-train_window,c='black')"
   ]
  },
  {
   "cell_type": "code",
   "execution_count": null,
   "metadata": {},
   "outputs": [],
   "source": [
    "seq_data = []\n",
    "for i in tqdm(range(train_test_total.shape[0]-train_window)):\n",
    "    for j in range(num_pred):\n",
    "        seq_data.append(train_test_total[i:i+train_window])"
   ]
  },
  {
   "cell_type": "code",
   "execution_count": null,
   "metadata": {},
   "outputs": [],
   "source": [
    "plt.figure(figsize=(15,5))\n",
    "plt.plot(y_samp[train_window:] - res[train_window:] ,label='Residuals')\n",
    "plt.legend()\n",
    "plt.xlabel('From January 1st 2014 to Dec 31st 2018')\n",
    "plt.ylabel('precipitation')\n",
    "plt.title('Residuals of simple LSTM versus precipitation')\n",
    "plt.axvline(x=res.shape[0] - test_size-train_window,c='black')"
   ]
  },
  {
   "cell_type": "code",
   "execution_count": null,
   "metadata": {},
   "outputs": [],
   "source": [
    "len(seq_data)"
   ]
  },
  {
   "cell_type": "code",
   "execution_count": null,
   "metadata": {},
   "outputs": [],
   "source": [
    "seq_data[0].shape"
   ]
  },
  {
   "cell_type": "code",
   "execution_count": null,
   "metadata": {},
   "outputs": [],
   "source": [
    "from torch.utils.data import Dataset, DataLoader\n",
    "\n",
    "class SeqTestDataset(Dataset):\n",
    "    def __init__(self, seq_data, transform=None):\n",
    "        \n",
    "        self.seq_data = seq_data\n",
    "        self.x = []\n",
    "        self.y = []\n",
    "        for i in range(len(self.seq_data)):\n",
    "#             self.x.append(self.seq_data[i][0])\n",
    "            self.y.append(self.seq_data[i])\n",
    "\n",
    "    def __getitem__(self, idx):\n",
    "        if torch.is_tensor(idx):\n",
    "            idx = idx.tolist()\n",
    "\n",
    "        return (np.random.randn(1), self.y[idx])\n",
    "\n",
    "    def __len__(self):\n",
    "        return len(train_seq) #self._x.shape[0]"
   ]
  },
  {
   "cell_type": "code",
   "execution_count": null,
   "metadata": {},
   "outputs": [],
   "source": [
    "test_dataset = SeqTestDataset(seq_data)\n",
    "test_dataloader = DataLoader(test_dataset,\n",
    "                              batch_size=8,\n",
    "                              shuffle=False,\n",
    "                              num_workers=0,\n",
    "                              pin_memory=False\n",
    "                             )"
   ]
  },
  {
   "cell_type": "code",
   "execution_count": null,
   "metadata": {},
   "outputs": [],
   "source": [
    "for _, seq in test_dataloader:\n",
    "    break"
   ]
  },
  {
   "cell_type": "code",
   "execution_count": null,
   "metadata": {},
   "outputs": [],
   "source": [
    "seq.shape"
   ]
  },
  {
   "cell_type": "code",
   "execution_count": null,
   "metadata": {},
   "outputs": [],
   "source": [
    "# net(seq.double())"
   ]
  },
  {
   "cell_type": "code",
   "execution_count": null,
   "metadata": {},
   "outputs": [],
   "source": [
    "seq.shape"
   ]
  },
  {
   "cell_type": "code",
   "execution_count": null,
   "metadata": {},
   "outputs": [],
   "source": [
    "# # Predicting t+1\n",
    "# test_data = np.concatenate((X_test,y_test),axis=1)\n",
    "\n",
    "# train_test_total = np.concatenate((train_data_array,test_data))\n",
    "\n",
    "net.eval()\n",
    "# num_pred = 1 #  Number of prediction forward, i.e. tau\n",
    "# res = np.zeros(train_window).tolist()\n",
    "#  Predicting y using X_test and y_test\n",
    "for _, seq in test_dataloader:\n",
    "    for j in range(num_pred):\n",
    "        seq = seq.to(device)\n",
    "        #print(seq)\n",
    "        with torch.no_grad():\n",
    "            #print(model(seq))\n",
    "            pred = net(seq.double()).cpu()\n",
    "            #print(len(test_inputs))\n",
    "            res.append(pred)\n",
    "res = np.array(res)"
   ]
  },
  {
   "cell_type": "code",
   "execution_count": null,
   "metadata": {},
   "outputs": [],
   "source": [
    "# Predicting t+1\n",
    "test_data = np.concatenate((X_test,y_test),axis=1)\n",
    "\n",
    "train_test_total = np.concatenate((train_data_array,test_data))\n",
    "\n",
    "net.eval()\n",
    "num_pred = 1 #  Number of prediction forward, i.e. tau\n",
    "res = np.zeros(train_window).tolist()\n",
    "#  Predicting y using X_test and y_test\n",
    "for i in tqdm(range(train_test_total.shape[0]-train_window)):\n",
    "    for j in range(num_pred):\n",
    "        seq = torch.FloatTensor(train_test_total[i:i+train_window]).to(device)\n",
    "        seq = seq.unsqueeze(0)\n",
    "        #print(seq)\n",
    "        with torch.no_grad():\n",
    "            #print(model(seq))\n",
    "            pred = net(seq).cpu()\n",
    "            #print(len(test_inputs))\n",
    "            res.append(pred)\n",
    "res = np.array(res)"
   ]
  },
  {
   "cell_type": "code",
   "execution_count": null,
   "metadata": {},
   "outputs": [],
   "source": [
    "seq.shape"
   ]
  },
  {
   "cell_type": "code",
   "execution_count": null,
   "metadata": {},
   "outputs": [],
   "source": [
    "res.shape"
   ]
  },
  {
   "cell_type": "code",
   "execution_count": null,
   "metadata": {},
   "outputs": [],
   "source": [
    "# res[train_window:-pred_window]"
   ]
  },
  {
   "cell_type": "code",
   "execution_count": null,
   "metadata": {},
   "outputs": [],
   "source": [
    "y_train = y_train.cpu()\n",
    "\n",
    "# print('r-sq on train:', r2_score(y_samp[train_window+pred_window:-test_size], res[train_window:-test_size-pred_window]))\n",
    "# print('r-sq on test:', r2_score(y_samp[-test_size:],  res[-test_size-pred_window:-pred_window]))\n",
    "plt.figure(figsize=(15,5))\n",
    "plt.plot(y_samp[train_window+pred_window:],label='Observed')\n",
    "plt.plot(res[train_window:-pred_window],label='Predicted')\n",
    "plt.legend()\n",
    "plt.xlabel('From January 1st 2018 to Dec 31st 2018')\n",
    "plt.ylabel(target)\n",
    "plt.title('Transformer')\n",
    "plt.axvline(x=res.shape[0] - test_size-train_window,c='black')\n",
    "# plt.savefig('plot_toy_toy1.pdf')"
   ]
  },
  {
   "cell_type": "code",
   "execution_count": null,
   "metadata": {},
   "outputs": [],
   "source": []
  },
  {
   "cell_type": "code",
   "execution_count": null,
   "metadata": {},
   "outputs": [],
   "source": [
    "model_save_path = f'models/model_{datetime.datetime.now().strftime(\"%Y_%m_%d__%H%M%S\")}.pth'\n",
    "val_loss_best = np.inf\n",
    "\n",
    "# Prepare loss history\n",
    "hist_loss = np.zeros(EPOCHS)\n",
    "hist_loss_val = np.zeros(EPOCHS)\n",
    "for idx_epoch in range(EPOCHS):\n",
    "    running_loss = 0\n",
    "    with tqdm(total=len(dataloader_train.dataset), desc=f\"[Epoch {idx_epoch+1:3d}/{EPOCHS}]\") as pbar:\n",
    "        for idx_batch, (x, y) in enumerate(dataloader_train):\n",
    "            optimizer.zero_grad()\n",
    "\n",
    "            # Propagate input\n",
    "            netout = net(x.to('cuda'))\n",
    "\n",
    "            # Compute loss\n",
    "            loss = loss_function(y.to('cuda'), netout)\n",
    "\n",
    "            # Backpropage loss\n",
    "            loss.backward()\n",
    "\n",
    "            # Update weights\n",
    "            optimizer.step()\n",
    "\n",
    "            running_loss += loss.item()\n",
    "            pbar.set_postfix({'loss': running_loss/(idx_batch+1)})\n",
    "            pbar.update(x.shape[0])\n",
    "        \n",
    "        train_loss = running_loss/len(dataloader_train)\n",
    "        val_loss = compute_loss(net, dataloader_val, loss_function, 'cuda').item()\n",
    "        pbar.set_postfix({'loss': train_loss, 'val_loss': val_loss})\n",
    "        \n",
    "        hist_loss[idx_epoch] = train_loss\n",
    "        hist_loss_val[idx_epoch] = val_loss\n",
    "        \n",
    "        if val_loss < val_loss_best:\n",
    "            val_loss_best = val_loss\n",
    "            torch.save(net.state_dict(), model_save_path)\n",
    "        \n",
    "plt.plot(hist_loss, 'o-', label='train')\n",
    "plt.plot(hist_loss_val, 'o-', label='val')\n",
    "plt.legend()\n",
    "print(f\"model exported to {model_save_path} with loss {val_loss_best:5f}\")"
   ]
  },
  {
   "cell_type": "code",
   "execution_count": null,
   "metadata": {},
   "outputs": [],
   "source": [
    "model_save_path = f'models/model_{datetime.datetime.now().strftime(\"%Y_%m_%d__%H%M%S\")}.pth'\n",
    "val_loss_best = np.inf\n",
    "\n",
    "# Prepare loss history\n",
    "hist_loss = np.zeros(EPOCHS)\n",
    "hist_loss_val = np.zeros(EPOCHS)\n",
    "for idx_epoch in range(EPOCHS):\n",
    "    running_loss = 0\n",
    "    with tqdm(total=len(dataloader_train.dataset), desc=f\"[Epoch {idx_epoch+1:3d}/{EPOCHS}]\") as pbar:\n",
    "        for idx_batch, (x, y) in enumerate(dataloader_train):\n",
    "            optimizer.zero_grad()\n",
    "\n",
    "            # Propagate input\n",
    "            netout = net(x.to(device))\n",
    "\n",
    "            # Comupte loss\n",
    "            loss = loss_function(y.to(device), netout)\n",
    "\n",
    "            # Backpropage loss\n",
    "            loss.backward()\n",
    "\n",
    "            # Update weights\n",
    "            optimizer.step()\n",
    "\n",
    "            running_loss += loss.item()\n",
    "            pbar.set_postfix({'loss': running_loss/(idx_batch+1)})\n",
    "            pbar.update(x.shape[0])\n",
    "        \n",
    "        train_loss = running_loss/len(dataloader_train)\n",
    "        val_loss = compute_loss(net, dataloader_val, loss_function, device).item()\n",
    "        pbar.set_postfix({'loss': train_loss, 'val_loss': val_loss})\n",
    "        \n",
    "        hist_loss[idx_epoch] = train_loss\n",
    "        hist_loss_val[idx_epoch] = val_loss\n",
    "        \n",
    "        if val_loss < val_loss_best:\n",
    "            val_loss_best = val_loss\n",
    "            torch.save(net.state_dict(), model_save_path)\n",
    "        \n",
    "plt.plot(hist_loss, 'o-', label='train')\n",
    "plt.plot(hist_loss_val, 'o-', label='val')\n",
    "plt.legend()\n",
    "print(f\"model exported to {model_save_path} with loss {val_loss_best:5f}\")"
   ]
  },
  {
   "cell_type": "markdown",
   "metadata": {},
   "source": [
    "## Validation"
   ]
  },
  {
   "cell_type": "code",
   "execution_count": null,
   "metadata": {},
   "outputs": [],
   "source": [
    "_ = net.eval()"
   ]
  },
  {
   "cell_type": "markdown",
   "metadata": {},
   "source": [
    "### Evaluate on the test dataset"
   ]
  },
  {
   "cell_type": "code",
   "execution_count": null,
   "metadata": {},
   "outputs": [],
   "source": [
    "netout.shape"
   ]
  },
  {
   "cell_type": "code",
   "execution_count": null,
   "metadata": {},
   "outputs": [],
   "source": [
    "print(idx_prediction, idx_prediction+x.shape[0])"
   ]
  },
  {
   "cell_type": "code",
   "execution_count": null,
   "metadata": {},
   "outputs": [],
   "source": [
    "predictions.shape, netout.shape, x.shape"
   ]
  },
  {
   "cell_type": "code",
   "execution_count": null,
   "metadata": {},
   "outputs": [],
   "source": [
    "predictions[0].shape"
   ]
  },
  {
   "cell_type": "code",
   "execution_count": null,
   "metadata": {},
   "outputs": [],
   "source": [
    "predictions[10:15].shape"
   ]
  },
  {
   "cell_type": "code",
   "execution_count": null,
   "metadata": {},
   "outputs": [],
   "source": [
    "predictions = np.empty(shape=(len(dataloader_test.dataset), 672, 8))\n",
    "# predictions = np.empty(shape=(len(dataloader_test.dataset), 168, 8))\n",
    "\n",
    "idx_prediction = 0\n",
    "with torch.no_grad():\n",
    "    for x, y in tqdm(dataloader_test, total=len(dataloader_test)):\n",
    "        netout = net(x.to('cuda')).cpu().numpy()\n",
    "        predictions[idx_prediction:idx_prediction+x.shape[0]] = netout\n",
    "        idx_prediction += x.shape[0]"
   ]
  },
  {
   "cell_type": "code",
   "execution_count": null,
   "metadata": {},
   "outputs": [],
   "source": [
    "map_plot_function(ozeDataset, predictions, plot_visual_sample, dataset_indices=dataloader_test.dataset.indices)"
   ]
  },
  {
   "cell_type": "markdown",
   "metadata": {},
   "source": [
    "### Plot results on a sample"
   ]
  },
  {
   "cell_type": "code",
   "execution_count": null,
   "metadata": {},
   "outputs": [],
   "source": [
    "map_plot_function(ozeDataset, predictions, plot_visual_sample, dataset_indices=dataloader_test.dataset.indices)"
   ]
  },
  {
   "cell_type": "markdown",
   "metadata": {},
   "source": [
    "### Plot error distributions"
   ]
  },
  {
   "cell_type": "code",
   "execution_count": null,
   "metadata": {},
   "outputs": [],
   "source": [
    "map_plot_function(ozeDataset, predictions, plot_error_distribution,\n",
    "                  dataset_indices=dataloader_test.dataset.indices, time_limit=24)"
   ]
  },
  {
   "cell_type": "code",
   "execution_count": null,
   "metadata": {},
   "outputs": [],
   "source": [
    "map_plot_function(ozeDataset, predictions, plot_error_distribution, dataset_indices=dataloader_test.dataset.indices, time_limit=24)"
   ]
  },
  {
   "cell_type": "markdown",
   "metadata": {},
   "source": [
    "### Plot mispredictions thresholds"
   ]
  },
  {
   "cell_type": "code",
   "execution_count": null,
   "metadata": {},
   "outputs": [],
   "source": [
    "map_plot_function(ozeDataset, predictions, plot_errors_threshold, \n",
    "                  plot_kwargs={'error_band': 0.1}, dataset_indices=dataloader_test.dataset.indices)"
   ]
  },
  {
   "cell_type": "code",
   "execution_count": null,
   "metadata": {},
   "outputs": [],
   "source": [
    "map_plot_function(ozeDataset, predictions, plot_errors_threshold, plot_kwargs={'error_band': 0.1}, dataset_indices=dataloader_test.dataset.indices)"
   ]
  }
 ],
 "metadata": {
  "kernelspec": {
   "display_name": "Python 3",
   "language": "python",
   "name": "python3"
  },
  "language_info": {
   "codemirror_mode": {
    "name": "ipython",
    "version": 3
   },
   "file_extension": ".py",
   "mimetype": "text/x-python",
   "name": "python",
   "nbconvert_exporter": "python",
   "pygments_lexer": "ipython3",
   "version": "3.8.5"
  }
 },
 "nbformat": 4,
 "nbformat_minor": 4
}
