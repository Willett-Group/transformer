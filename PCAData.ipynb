{
 "cells": [
  {
   "cell_type": "code",
   "execution_count": 1,
   "metadata": {},
   "outputs": [],
   "source": [
    "import numpy as np\n",
    "import pandas as pd\n",
    "from scipy.stats import zscore\n",
    "from sklearn.preprocessing import MinMaxScaler\n",
    "from sklearn.decomposition import PCA\n",
    "import src.utils.preprocess as pre"
   ]
  },
  {
   "cell_type": "code",
   "execution_count": 4,
   "metadata": {},
   "outputs": [],
   "source": [
    "pre.combine_covariates(year_range=range(1985,2019),data_path='E:\\S2S data sample')"
   ]
  },
  {
   "cell_type": "code",
   "execution_count": 5,
   "metadata": {},
   "outputs": [],
   "source": [
    "pre.convert_covariates_to_numpy(year_range=range(1985,2019),data_path='E:/S2S data sample/')"
   ]
  },
  {
   "cell_type": "code",
   "execution_count": null,
   "metadata": {},
   "outputs": [],
   "source": [
    "pre.convert_ssts_to_numpy(year_range=range(1987,2019),data_path='E:/S2S data sample/')"
   ]
  },
  {
   "cell_type": "code",
   "execution_count": null,
   "metadata": {},
   "outputs": [],
   "source": [
    "\n",
    "\n",
    "year_dfs = []\n",
    "for i in range(1985,2018):\n",
    "    year = pd.read_hdf('/share/data/willett-group/covariates_by_day_'+str(i)+'.h5')\n",
    "    year_dfs.append(year)"
   ]
  },
  {
   "cell_type": "code",
   "execution_count": null,
   "metadata": {},
   "outputs": [],
   "source": [
    "all_years = pd.concat(year_dfs)\n",
    "all_years = preprocess.normalize(all_years)"
   ]
  },
  {
   "cell_type": "code",
   "execution_count": null,
   "metadata": {},
   "outputs": [],
   "source": [
    "all_years.loc['2011-05-26']"
   ]
  },
  {
   "cell_type": "code",
   "execution_count": null,
   "metadata": {},
   "outputs": [],
   "source": [
    "pca = PCA()"
   ]
  },
  {
   "cell_type": "code",
   "execution_count": null,
   "metadata": {},
   "outputs": [],
   "source": [
    "X_pca = pca.fit(all_years)"
   ]
  },
  {
   "cell_type": "code",
   "execution_count": null,
   "metadata": {},
   "outputs": [],
   "source": [
    "import matplotlib.pyplot as plt"
   ]
  },
  {
   "cell_type": "code",
   "execution_count": null,
   "metadata": {},
   "outputs": [],
   "source": [
    "%matplotlib inline"
   ]
  },
  {
   "cell_type": "code",
   "execution_count": null,
   "metadata": {},
   "outputs": [],
   "source": [
    "import plotly.express as px\n",
    "fig = px.line(np.cumsum(pca.explained_variance_ratio_), y=0)\n",
    "fig.show()"
   ]
  },
  {
   "cell_type": "code",
   "execution_count": null,
   "metadata": {},
   "outputs": [],
   "source": [
    "ex = np.cumsum(pca.explained_variance_ratio_)\n",
    "print(ex[9])\n",
    "print(ex[19])\n",
    "print(ex[49])\n",
    "print(ex[99])\n",
    "print(ex[199])\n",
    "print(ex[249])\n",
    "print(ex[499])"
   ]
  },
  {
   "cell_type": "code",
   "execution_count": null,
   "metadata": {},
   "outputs": [],
   "source": []
  },
  {
   "cell_type": "markdown",
   "metadata": {},
   "source": [
    "##### pca_10 = PCA(10)\n",
    "X_10 = pca_10.fit_transform(all_years)\n",
    "\n",
    "pca_20 = PCA(20)\n",
    "X_20 = pca_20.fit_transform(all_years)\n",
    "\n",
    "pca_50 = PCA(50)\n",
    "X_50 = pca_50.fit_transform(all_years)\n",
    "\n",
    "pca_100 = PCA(100)\n",
    "X_100 = pca_100.fit_transform(all_years)\n",
    "\n",
    "pca_200 = PCA(200)\n",
    "X_200 = pca_200.fit_transform(all_years)\n",
    "\n",
    "pca_250 = PCA(250)\n",
    "X_250 = pca_250.fit_transform(all_years)\n",
    "\n",
    "pca_500 = PCA(500)\n",
    "X_500 = pca_500.fit_transform(all_years)"
   ]
  },
  {
   "cell_type": "code",
   "execution_count": null,
   "metadata": {},
   "outputs": [],
   "source": [
    "import pickle\n",
    "pickle.dump(X_10, open('/scratch/grosenthal/covariates_pca_10.pkl', \"wb\"))\n",
    "pickle.dump(X_20, open('/scratch/grosenthal/covariates_pca_20.pkl', \"wb\"))\n",
    "pickle.dump(X_50, open('/scratch/grosenthal/covariates_pca_50.pkl', \"wb\"))\n",
    "pickle.dump(X_100, open('/scratch/grosenthal/covariates_pca_100.pkl', \"wb\"))\n",
    "pickle.dump(X_200, open('/scratch/grosenthal/covariates_pca_200.pkl', \"wb\"))\n",
    "pickle.dump(X_250, open('/scratch/grosenthal/covariates_pca_250.pkl', \"wb\"))\n",
    "pickle.dump(X_500, open('/scratch/grosenthal/covariates_pca_500.pkl', \"wb\"))\n",
    "\n",
    "pickle.dump(pca_10, open('/scratch/grosenthal/pca_mapping_10.pkl', \"wb\"))\n",
    "pickle.dump(pca_20, open('/scratch/grosenthal/pca_mapping_20.pkl', \"wb\"))\n",
    "pickle.dump(pca_50, open('/scratch/grosenthal/pca_mapping_50.pkl', \"wb\"))\n",
    "pickle.dump(pca_100, open('/scratch/grosenthal/pca_mapping_100.pkl', \"wb\"))\n",
    "pickle.dump(pca_200, open('/scratch/grosenthal/pca_mapping_200.pkl', \"wb\"))\n",
    "pickle.dump(pca_250, open('/scratch/grosenthal/pca_mapping_250.pkl', \"wb\"))\n",
    "pickle.dump(pca_500, open('/scratch/grosenthal/pca_mapping_500.pkl', \"wb\"))"
   ]
  },
  {
   "cell_type": "code",
   "execution_count": null,
   "metadata": {},
   "outputs": [],
   "source": []
  }
 ],
 "metadata": {
  "kernelspec": {
   "display_name": "Python 3",
   "language": "python",
   "name": "python3"
  },
  "language_info": {
   "codemirror_mode": {
    "name": "ipython",
    "version": 3
   },
   "file_extension": ".py",
   "mimetype": "text/x-python",
   "name": "python",
   "nbconvert_exporter": "python",
   "pygments_lexer": "ipython3",
   "version": "3.8.5"
  }
 },
 "nbformat": 4,
 "nbformat_minor": 4
}
